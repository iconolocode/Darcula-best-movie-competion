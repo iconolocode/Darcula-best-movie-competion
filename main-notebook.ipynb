{
 "cells": [
  {
   "cell_type": "markdown",
   "source": "## A Halloween treat: what is the best Dracula movie for you to watch?",
   "metadata": {
    "tags": [],
    "cell_id": "00001-520fc3f2-27c4-4e56-9b29-2509d8bc1fbf",
    "deepnote_app_coordinates": {
     "x": 0,
     "y": 0,
     "w": 8,
     "h": 6
    },
    "deepnote_cell_type": "markdown",
    "deepnote_cell_height": 230
   }
  },
  {
   "cell_type": "markdown",
   "source": "<img src=\"https://i.postimg.cc/QdjXBPZd/draculalogosmall.png\" alt=\"dracula logo\" width=\"170\"/>",
   "metadata": {
    "tags": [],
    "cell_id": "00001-bf44bbe2-f4ef-42a3-be6e-12e4d2646eef",
    "deepnote_app_coordinates": {
     "x": 8,
     "y": 0,
     "w": 4,
     "h": 10
    },
    "deepnote_cell_type": "markdown",
    "deepnote_cell_height": 264.265625
   }
  },
  {
   "cell_type": "markdown",
   "source": "#### _case study of a novel and its numerous movie adaptations, using automatic extraction of sentiments and named entities with spaCy_ ",
   "metadata": {
    "tags": [],
    "cell_id": "00001-e554938e-173a-40ee-8a7a-41dc2a737fb3",
    "deepnote_app_coordinates": {
     "x": 0,
     "y": 6,
     "w": 8,
     "h": 5
    },
    "deepnote_cell_type": "markdown",
    "deepnote_cell_height": 174
   }
  },
  {
   "cell_type": "markdown",
   "source": "__Choosing a good movie to watch isn't as simple as finding the movie with the best score or our favorite genre.__\n- This is something subjective that depends highly on the watcher, their tastes, their mood and with who they watch it. \n- Movie ratings and tags are great tools to make choices, but cinema is a form of art, and art resonates differently with each individual. \n- This isn't about the _the_ best movie, but the one that will interest _you_ the most.",
   "metadata": {
    "tags": [],
    "cell_id": "00002-9c2bd3ee-e30b-434f-89fd-316ef2d19547",
    "deepnote_app_coordinates": {
     "x": 0,
     "y": 11,
     "w": 6,
     "h": 16
    },
    "deepnote_cell_type": "markdown",
    "deepnote_cell_height": 400
   }
  },
  {
   "cell_type": "markdown",
   "source": "##### Another problem is spoilers\n- There are a lot of handy reviews and summaries, but they often reveal a movie's mysteries. Isn't it more entertaining for the viewer to be the one to discover each plot twist?\n- These reviewer's point of view often affects our perception of the movie. You know that feeling when someone points out a minor detail and now you can't unsee it. You don't want this.\n",
   "metadata": {
    "tags": [],
    "cell_id": "00001-84b9bc5c-13db-431c-adc3-afd51609f99c",
    "deepnote_app_coordinates": {
     "x": 6,
     "y": 11,
     "w": 6,
     "h": 16
    },
    "deepnote_cell_type": "markdown",
    "deepnote_cell_height": 351.796875
   }
  },
  {
   "cell_type": "markdown",
   "source": "#### Our approach\n-> using tech to extract two key features: tone and content.\n\nFirst we will look at the tone of movie. Do you want to see something fun? Serious? Tragic? A rollercoaster of emotions? Automatic sentiment analysis will help us to characterise this.\n\nFor the second point, content, you may wonder how we can handle this without spoilers. Well, we will just look at the content, only the  _content_ and not the story. To do this we will used named entity extraction.",
   "metadata": {
    "tags": [],
    "cell_id": "00004-043121c9-ebf7-4f3f-812c-5b05b0e3f2ae",
    "deepnote_app_coordinates": {
     "x": 0,
     "y": 27,
     "w": 12,
     "h": 10
    },
    "deepnote_cell_type": "markdown",
    "deepnote_cell_height": 430
   }
  },
  {
   "cell_type": "markdown",
   "source": "#### Some context on this notebook\n- This is an entry for the competition _Deepnote + spaCy: NLP in Notebooks_, under the theme _Challenge #2: Analyse sentiment from GoodReads vs IMDB reviews_\n- Our focus thus is sentiments in books and movies.\n- I wanted to focus on one of the cores of spaCy's uses: natural language processing. To highlight this, I didn't want to use a big corpora, but instead use a small set of texts that we will analyse meticulously.\n- I study Art History and French Literature, so that explains why I choose for the latter approach. There is no good or wrong, I just took the path that compels me the most and where my background can add an interesting layer to it.\n- For this contest I wanted to show and explain some of my favorite spaCy features. So I'll walk with the reader through the NLP process and will be using an informal writing style to make it more catching.\n- Actually, even if this is a notebook / article, I published it with the Deepnote dashboard format, because it offers more options to play with to make a nice layout.\n- The techniques showcased here can be used on a larger dataset or to build a Deepnote app. These paths would lead to more findings or better usablity. But at this stage I want to focus on the library's features and educational aspects.\n- I really want to explore these other options another time and am looking forward to see how the other participants implemented them :)",
   "metadata": {
    "tags": [],
    "cell_id": "00004-8dc0401a-15eb-400e-9f7e-f2a952bc309d",
    "deepnote_app_coordinates": {
     "x": 0,
     "y": 37,
     "w": 12,
     "h": 21
    },
    "deepnote_cell_type": "markdown",
    "deepnote_cell_height": 1222.59375
   }
  },
  {
   "cell_type": "markdown",
   "source": "### Preparation\n\nThis is a more boring part, but it's essential, so I'll write about it and you can chose to read or skip it.\n\n##### Requirements\n\nFirst you need to make sure that you have everything to make the program work.\nYou may need to install some stuff. This can be done in the terminal. Here in Deepnote, there is a terminal tab, but we also have a really handy option: a `!` before a line allows it be be executed directly in the notebook.\nThere is also a `requirements.txt` file, here it makes so that spacytextblob is available. If not, you should do `pip install spacytextblob`.",
   "metadata": {
    "tags": [],
    "cell_id": "00006-0d0c7d05-d14d-4702-a5b6-7963df57af23",
    "deepnote_app_coordinates": {
     "x": 0,
     "y": 59,
     "w": 6,
     "h": 17
    },
    "deepnote_cell_type": "markdown",
    "deepnote_cell_height": 508.796875
   }
  },
  {
   "cell_type": "code",
   "metadata": {
    "tags": [],
    "cell_id": "00000-2c4a7fd3-e2a3-413f-8b27-de303d9ba539",
    "deepnote_to_be_reexecuted": false,
    "source_hash": "5a834a00",
    "execution_start": 1647082428718,
    "execution_millis": 15351,
    "deepnote_app_coordinates": {
     "x": 6,
     "y": 59,
     "w": 7,
     "h": 5
    },
    "deepnote_app_is_output_hidden": false,
    "deepnote_cell_type": "code",
    "deepnote_cell_height": 701
   },
   "source": "!python -m spacy download en_core_web_sm",
   "outputs": [
    {
     "name": "stdout",
     "text": "2022-03-12 10:53:53.256641: W tensorflow/stream_executor/platform/default/dso_loader.cc:64] Could not load dynamic library 'libcudart.so.11.0'; dlerror: libcudart.so.11.0: cannot open shared object file: No such file or directory\n2022-03-12 10:53:53.256697: I tensorflow/stream_executor/cuda/cudart_stub.cc:29] Ignore above cudart dlerror if you do not have a GPU set up on your machine.\nCollecting en-core-web-sm==3.2.0\n  Downloading https://github.com/explosion/spacy-models/releases/download/en_core_web_sm-3.2.0/en_core_web_sm-3.2.0-py3-none-any.whl (13.9 MB)\n\u001b[K     |████████████████████████████████| 13.9 MB 17.1 MB/s \n\u001b[?25hRequirement already satisfied: spacy<3.3.0,>=3.2.0 in /shared-libs/python3.7/py/lib/python3.7/site-packages (from en-core-web-sm==3.2.0) (3.2.3)\nRequirement already satisfied: thinc<8.1.0,>=8.0.12 in /shared-libs/python3.7/py/lib/python3.7/site-packages (from spacy<3.3.0,>=3.2.0->en-core-web-sm==3.2.0) (8.0.13)\nRequirement already satisfied: pathy>=0.3.5 in /shared-libs/python3.7/py/lib/python3.7/site-packages (from spacy<3.3.0,>=3.2.0->en-core-web-sm==3.2.0) (0.6.1)\nRequirement already satisfied: srsly<3.0.0,>=2.4.1 in /shared-libs/python3.7/py/lib/python3.7/site-packages (from spacy<3.3.0,>=3.2.0->en-core-web-sm==3.2.0) (2.4.2)\nRequirement already satisfied: jinja2 in /shared-libs/python3.7/py-core/lib/python3.7/site-packages (from spacy<3.3.0,>=3.2.0->en-core-web-sm==3.2.0) (3.0.3)\nRequirement already satisfied: wasabi<1.1.0,>=0.8.1 in /shared-libs/python3.7/py/lib/python3.7/site-packages (from spacy<3.3.0,>=3.2.0->en-core-web-sm==3.2.0) (0.9.0)\nRequirement already satisfied: langcodes<4.0.0,>=3.2.0 in /shared-libs/python3.7/py/lib/python3.7/site-packages (from spacy<3.3.0,>=3.2.0->en-core-web-sm==3.2.0) (3.3.0)\nRequirement already satisfied: blis<0.8.0,>=0.4.0 in /shared-libs/python3.7/py/lib/python3.7/site-packages (from spacy<3.3.0,>=3.2.0->en-core-web-sm==3.2.0) (0.7.6)\nRequirement already satisfied: tqdm<5.0.0,>=4.38.0 in /shared-libs/python3.7/py/lib/python3.7/site-packages (from spacy<3.3.0,>=3.2.0->en-core-web-sm==3.2.0) (4.63.0)\nRequirement already satisfied: spacy-loggers<2.0.0,>=1.0.0 in /shared-libs/python3.7/py/lib/python3.7/site-packages (from spacy<3.3.0,>=3.2.0->en-core-web-sm==3.2.0) (1.0.1)\nRequirement already satisfied: typer<0.5.0,>=0.3.0 in /shared-libs/python3.7/py/lib/python3.7/site-packages (from spacy<3.3.0,>=3.2.0->en-core-web-sm==3.2.0) (0.4.0)\nRequirement already satisfied: requests<3.0.0,>=2.13.0 in /shared-libs/python3.7/py-core/lib/python3.7/site-packages (from spacy<3.3.0,>=3.2.0->en-core-web-sm==3.2.0) (2.27.1)\nRequirement already satisfied: packaging>=20.0 in /shared-libs/python3.7/py-core/lib/python3.7/site-packages (from spacy<3.3.0,>=3.2.0->en-core-web-sm==3.2.0) (21.3)\nRequirement already satisfied: pydantic!=1.8,!=1.8.1,<1.9.0,>=1.7.4 in /shared-libs/python3.7/py/lib/python3.7/site-packages (from spacy<3.3.0,>=3.2.0->en-core-web-sm==3.2.0) (1.8.2)\nCollecting typing-extensions<4.0.0.0,>=3.7.4; python_version < \"3.8\"\n  Using cached typing_extensions-3.10.0.2-py3-none-any.whl (26 kB)\nRequirement already satisfied: catalogue<2.1.0,>=2.0.6 in /shared-libs/python3.7/py/lib/python3.7/site-packages (from spacy<3.3.0,>=3.2.0->en-core-web-sm==3.2.0) (2.0.6)\nRequirement already satisfied: preshed<3.1.0,>=3.0.2 in /shared-libs/python3.7/py/lib/python3.7/site-packages (from spacy<3.3.0,>=3.2.0->en-core-web-sm==3.2.0) (3.0.6)\nRequirement already satisfied: cymem<2.1.0,>=2.0.2 in /shared-libs/python3.7/py/lib/python3.7/site-packages (from spacy<3.3.0,>=3.2.0->en-core-web-sm==3.2.0) (2.0.6)\nRequirement already satisfied: murmurhash<1.1.0,>=0.28.0 in /shared-libs/python3.7/py/lib/python3.7/site-packages (from spacy<3.3.0,>=3.2.0->en-core-web-sm==3.2.0) (1.0.6)\nRequirement already satisfied: spacy-legacy<3.1.0,>=3.0.8 in /shared-libs/python3.7/py/lib/python3.7/site-packages (from spacy<3.3.0,>=3.2.0->en-core-web-sm==3.2.0) (3.0.9)\nRequirement already satisfied: setuptools in /root/venv/lib/python3.7/site-packages (from spacy<3.3.0,>=3.2.0->en-core-web-sm==3.2.0) (47.1.0)\nRequirement already satisfied: numpy>=1.15.0 in /shared-libs/python3.7/py-core/lib/python3.7/site-packages (from spacy<3.3.0,>=3.2.0->en-core-web-sm==3.2.0) (1.21.5)\nRequirement already satisfied: smart-open<6.0.0,>=5.0.0 in /shared-libs/python3.7/py/lib/python3.7/site-packages (from pathy>=0.3.5->spacy<3.3.0,>=3.2.0->en-core-web-sm==3.2.0) (5.2.1)\nRequirement already satisfied: MarkupSafe>=2.0 in /shared-libs/python3.7/py-core/lib/python3.7/site-packages (from jinja2->spacy<3.3.0,>=3.2.0->en-core-web-sm==3.2.0) (2.1.0)\nRequirement already satisfied: click<9.0.0,>=7.1.1 in /shared-libs/python3.7/py/lib/python3.7/site-packages (from typer<0.5.0,>=0.3.0->spacy<3.3.0,>=3.2.0->en-core-web-sm==3.2.0) (8.0.4)\nRequirement already satisfied: idna<4,>=2.5; python_version >= \"3\" in /shared-libs/python3.7/py-core/lib/python3.7/site-packages (from requests<3.0.0,>=2.13.0->spacy<3.3.0,>=3.2.0->en-core-web-sm==3.2.0) (3.3)\nRequirement already satisfied: charset-normalizer~=2.0.0; python_version >= \"3\" in /shared-libs/python3.7/py-core/lib/python3.7/site-packages (from requests<3.0.0,>=2.13.0->spacy<3.3.0,>=3.2.0->en-core-web-sm==3.2.0) (2.0.12)\nRequirement already satisfied: certifi>=2017.4.17 in /shared-libs/python3.7/py-core/lib/python3.7/site-packages (from requests<3.0.0,>=2.13.0->spacy<3.3.0,>=3.2.0->en-core-web-sm==3.2.0) (2021.10.8)\nRequirement already satisfied: urllib3<1.27,>=1.21.1 in /shared-libs/python3.7/py-core/lib/python3.7/site-packages (from requests<3.0.0,>=2.13.0->spacy<3.3.0,>=3.2.0->en-core-web-sm==3.2.0) (1.26.8)\nRequirement already satisfied: pyparsing!=3.0.5,>=2.0.2 in /shared-libs/python3.7/py-core/lib/python3.7/site-packages (from packaging>=20.0->spacy<3.3.0,>=3.2.0->en-core-web-sm==3.2.0) (3.0.7)\nRequirement already satisfied: zipp>=0.5; python_version < \"3.8\" in /shared-libs/python3.7/py-core/lib/python3.7/site-packages (from catalogue<2.1.0,>=2.0.6->spacy<3.3.0,>=3.2.0->en-core-web-sm==3.2.0) (3.7.0)\nRequirement already satisfied: importlib-metadata; python_version < \"3.8\" in /shared-libs/python3.7/py-core/lib/python3.7/site-packages (from click<9.0.0,>=7.1.1->typer<0.5.0,>=0.3.0->spacy<3.3.0,>=3.2.0->en-core-web-sm==3.2.0) (4.11.2)\nInstalling collected packages: en-core-web-sm, typing-extensions\n  Attempting uninstall: typing-extensions\n    Found existing installation: typing-extensions 4.1.1\n    Not uninstalling typing-extensions at /shared-libs/python3.7/py-core/lib/python3.7/site-packages, outside environment /root/venv\n    Can't uninstall 'typing-extensions'. No files were found to uninstall.\nSuccessfully installed en-core-web-sm-3.2.0 typing-extensions-3.10.0.2\n\u001b[33mWARNING: You are using pip version 20.1.1; however, version 22.0.4 is available.\nYou should consider upgrading via the '/root/venv/bin/python -m pip install --upgrade pip' command.\u001b[0m\n\u001b[38;5;2m✔ Download and installation successful\u001b[0m\nYou can now load the package via spacy.load('en_core_web_sm')\n",
     "output_type": "stream"
    }
   ],
   "execution_count": null
  },
  {
   "cell_type": "code",
   "metadata": {
    "tags": [],
    "cell_id": "00000-3ae6f7cf-3519-4b47-a733-7eabd0a41bed",
    "deepnote_to_be_reexecuted": false,
    "source_hash": "7941b45a",
    "execution_start": 1647082444078,
    "execution_millis": 4015,
    "deepnote_app_coordinates": {
     "x": 6,
     "y": 64,
     "w": 7,
     "h": 4
    },
    "deepnote_app_is_output_hidden": false,
    "deepnote_cell_type": "code",
    "deepnote_cell_height": 374.234375
   },
   "source": "!python -m textblob.download_corpora",
   "outputs": [
    {
     "name": "stdout",
     "text": "[nltk_data] Downloading package brown to /root/nltk_data...\n[nltk_data]   Unzipping corpora/brown.zip.\n[nltk_data] Downloading package punkt to /root/nltk_data...\n[nltk_data]   Unzipping tokenizers/punkt.zip.\n[nltk_data] Downloading package wordnet to /root/nltk_data...\n[nltk_data]   Unzipping corpora/wordnet.zip.\n[nltk_data] Downloading package averaged_perceptron_tagger to\n[nltk_data]     /root/nltk_data...\n[nltk_data]   Unzipping taggers/averaged_perceptron_tagger.zip.\n[nltk_data] Downloading package conll2000 to /root/nltk_data...\n[nltk_data]   Unzipping corpora/conll2000.zip.\n[nltk_data] Downloading package movie_reviews to /root/nltk_data...\n[nltk_data]   Unzipping corpora/movie_reviews.zip.\nFinished.\n",
     "output_type": "stream"
    }
   ],
   "execution_count": null
  },
  {
   "cell_type": "code",
   "metadata": {
    "tags": [],
    "cell_id": "00000-63da2ef2-5f95-4a6b-8733-bc9bd6228298",
    "deepnote_to_be_reexecuted": false,
    "source_hash": "e62de6f9",
    "execution_start": 1647082448100,
    "execution_millis": 8396,
    "deepnote_app_coordinates": {
     "x": 6,
     "y": 68,
     "w": 9,
     "h": 8
    },
    "deepnote_cell_type": "code",
    "deepnote_cell_height": 262.15625
   },
   "source": "import requests\nimport spacy\nfrom spacytextblob.spacytextblob import SpacyTextBlob\nfrom spacy import displacy\nimport csv\nfrom matplotlib import pyplot as plt\nimport pandas as pd\nfrom collections import Counter",
   "outputs": [
    {
     "name": "stderr",
     "text": "/shared-libs/python3.7/py/lib/python3.7/site-packages/tqdm/auto.py:22: TqdmWarning: IProgress not found. Please update jupyter and ipywidgets. See https://ipywidgets.readthedocs.io/en/stable/user_install.html\n  from .autonotebook import tqdm as notebook_tqdm\n",
     "output_type": "stream"
    }
   ],
   "execution_count": null
  },
  {
   "cell_type": "markdown",
   "source": "![](https://www.gutenberg.org/cache/epub/345/pg345.cover.medium.jpg)\n<sup>The novel's cover on Project Gutenberg</sup>",
   "metadata": {
    "tags": [],
    "cell_id": "00010-0f15b103-0505-4a53-a2bc-b7062d2ca21d",
    "deepnote_app_coordinates": {
     "x": 9,
     "y": 77,
     "w": 5,
     "h": 15
    },
    "deepnote_cell_type": "markdown",
    "deepnote_cell_height": 392.390625
   }
  },
  {
   "cell_type": "markdown",
   "source": "First we need to get the novel, we can download the file manually or like this:",
   "metadata": {
    "tags": [],
    "cell_id": "00010-b0ab32fd-d2a2-46ae-92a0-9a42c20691fc",
    "deepnote_app_coordinates": {
     "x": 0,
     "y": 78,
     "w": 6,
     "h": 3
    },
    "deepnote_cell_type": "markdown",
    "deepnote_cell_height": 97.1875
   }
  },
  {
   "cell_type": "code",
   "metadata": {
    "tags": [],
    "cell_id": "00000-11776791-e6e5-416d-96dc-252c8102f113",
    "deepnote_to_be_reexecuted": false,
    "source_hash": "5a71243a",
    "execution_start": 1647082456511,
    "execution_millis": 167,
    "deepnote_app_coordinates": {
     "x": 0,
     "y": 81,
     "w": 9,
     "h": 10
    },
    "deepnote_cell_type": "code",
    "deepnote_cell_height": 365.03125
   },
   "source": "response = requests.get(\"https://gutenberg.org/files/345/345-0.txt\")\n\nif response.status_code == 200:\n    response.encoding = 'utf-8'\n    contents = response.text\n    print(contents[:500])",
   "outputs": [
    {
     "name": "stdout",
     "text": "﻿The Project Gutenberg eBook of Dracula, by Bram Stoker\r\n\r\nThis eBook is for the use of anyone anywhere in the United States and\r\nmost other parts of the world at no cost and with almost no restrictions\r\nwhatsoever. You may copy it, give it away or re-use it under the terms\r\nof the Project Gutenberg License included with this eBook or online at\r\nwww.gutenberg.org. If you are not located in the United States, you\r\nwill have to check the laws of the country where you are located before\r\nusing this\n",
     "output_type": "stream"
    }
   ],
   "execution_count": null
  },
  {
   "cell_type": "markdown",
   "source": "As you can see we can the novel's text without copyright problems. Lot of thanks to Project Gutenberg!\n\nBut these bits of text are not want we want to study. It's called the paratext and here, similarly to metadata, it gives information on the content.\n\nWe want only to have the novel's text, the story of Count Dracula. So let's find the start and the end.",
   "metadata": {
    "tags": [],
    "cell_id": "00012-7d261202-4be7-4ec0-8bb6-0b9028c6dbfe",
    "deepnote_app_coordinates": {
     "x": 0,
     "y": 92,
     "w": 12,
     "h": 8
    },
    "deepnote_cell_type": "markdown",
    "deepnote_cell_height": 304.390625
   }
  },
  {
   "cell_type": "code",
   "metadata": {
    "tags": [],
    "cell_id": "00004-1a67767a-694c-42e7-bc3e-b6422c9f08f2",
    "deepnote_to_be_reexecuted": false,
    "source_hash": "cec0ef43",
    "execution_start": 1647082456688,
    "execution_millis": 4,
    "deepnote_app_coordinates": {
     "x": 0,
     "y": 100,
     "w": 14,
     "h": 3
    },
    "deepnote_app_is_output_hidden": true,
    "deepnote_cell_type": "code",
    "deepnote_cell_height": 99
   },
   "source": "text = contents[contents.find('\\r\\n\\r\\n\\r\\n\\r\\n\\r\\nDRACULA\\r\\n\\r\\n\\r\\n\\r\\n\\r\\n')\n                                : contents.find('THE END')]",
   "outputs": [],
   "execution_count": null
  },
  {
   "cell_type": "markdown",
   "source": "__Preprocessing__\n\nWe want to make sure the text is usable before analysing it.\n\n\n\nLet's split it in chapters",
   "metadata": {
    "tags": [],
    "cell_id": "00014-d43d2cd8-ac83-43da-a519-f69feee401ee",
    "deepnote_app_coordinates": {
     "x": 1,
     "y": 103,
     "w": 5,
     "h": 6
    },
    "deepnote_cell_type": "markdown",
    "deepnote_cell_height": 147.59375
   }
  },
  {
   "cell_type": "code",
   "metadata": {
    "tags": [],
    "cell_id": "00002-cc06f3c2-7fdd-4ef0-b407-499eb7261f5d",
    "deepnote_to_be_reexecuted": false,
    "source_hash": "fe0d2c1c",
    "execution_start": 1647082456704,
    "execution_millis": 4,
    "deepnote_app_coordinates": {
     "x": 6,
     "y": 103,
     "w": 6,
     "h": 3
    },
    "deepnote_cell_type": "code",
    "deepnote_cell_height": 81
   },
   "source": "chapters = text.split('CHAPTER')",
   "outputs": [],
   "execution_count": null
  },
  {
   "cell_type": "code",
   "metadata": {
    "tags": [],
    "cell_id": "00002-44268003-744a-42b6-9d01-02799b5f2706",
    "deepnote_to_be_reexecuted": false,
    "source_hash": "bf5a1e34",
    "execution_start": 1647082456717,
    "execution_millis": 11207295756,
    "deepnote_app_coordinates": {
     "x": 6,
     "y": 106,
     "w": 4,
     "h": 8
    },
    "deepnote_cell_type": "code",
    "deepnote_cell_height": 310.234375
   },
   "source": "print(chapters[0])",
   "outputs": [
    {
     "name": "stdout",
     "text": "\r\n\r\n\r\n\r\n\r\nDRACULA\r\n\r\n\r\n\r\n\r\n\n",
     "output_type": "stream"
    }
   ],
   "execution_count": null
  },
  {
   "cell_type": "markdown",
   "source": "The first item in the chapters list isn't a chapter, but the title, let's remove it.",
   "metadata": {
    "tags": [],
    "cell_id": "00016-6e2df502-3fe0-482a-b8b5-a3249a0b6f10",
    "deepnote_app_coordinates": {
     "x": 1,
     "y": 110,
     "w": 5,
     "h": 5
    },
    "deepnote_cell_type": "markdown",
    "deepnote_cell_height": 97.1875
   }
  },
  {
   "cell_type": "code",
   "metadata": {
    "tags": [],
    "cell_id": "00004-4e3807e9-0433-4c36-aab2-df06d684a963",
    "deepnote_to_be_reexecuted": false,
    "source_hash": "35e93fb6",
    "execution_start": 1647082456744,
    "execution_millis": 27,
    "deepnote_app_coordinates": {
     "x": 6,
     "y": 114,
     "w": 4,
     "h": 3
    },
    "deepnote_app_is_output_hidden": true,
    "deepnote_cell_type": "code",
    "deepnote_cell_height": 118.171875,
    "deepnote_output_heights": [
     21.1875
    ]
   },
   "source": "chapters.pop(0)",
   "outputs": [
    {
     "output_type": "execute_result",
     "execution_count": 8,
     "data": {
      "text/plain": "'\\r\\n\\r\\n\\r\\n\\r\\n\\r\\nDRACULA\\r\\n\\r\\n\\r\\n\\r\\n\\r\\n'"
     },
     "metadata": {}
    }
   ],
   "execution_count": null
  },
  {
   "cell_type": "markdown",
   "source": "Let's look at the start and end to see how it is there",
   "metadata": {
    "tags": [],
    "cell_id": "00019-1ef407ec-5adf-4f6a-b24e-dc046a740096",
    "deepnote_app_coordinates": {
     "x": 1,
     "y": 117,
     "w": 5,
     "h": 3
    },
    "deepnote_cell_type": "markdown",
    "deepnote_cell_height": 74.796875
   }
  },
  {
   "cell_type": "code",
   "metadata": {
    "tags": [],
    "cell_id": "00003-4def23ac-5783-4b74-a02a-b34dc966f45c",
    "deepnote_to_be_reexecuted": false,
    "source_hash": "387b830c",
    "execution_start": 1647082456801,
    "execution_millis": 11207295684,
    "deepnote_app_coordinates": {
     "x": 6,
     "y": 118,
     "w": 5,
     "h": 7
    },
    "deepnote_cell_type": "code",
    "deepnote_cell_height": 449.90625
   },
   "source": "print(chapters[0][:50])\nprint(chapters[1][:50])\nprint(chapters[-1][:50])",
   "outputs": [
    {
     "name": "stdout",
     "text": " I\r\n\r\nJONATHAN HARKER'S JOURNAL\r\n\r\n(_Kept in short\n II\r\n\r\nJONATHAN HARKER'S JOURNAL--_continued_\r\n\r\n\r\n XXVII\r\n\r\nMINA HARKER'S JOURNAL\r\n\r\n\r\n_1 November._\n",
     "output_type": "stream"
    }
   ],
   "execution_count": null
  },
  {
   "cell_type": "markdown",
   "source": "We don't really want to have the chapter numbers.\nAssuming they are always formatted in the same way, we will remove the first line of each chapter.",
   "metadata": {
    "tags": [],
    "cell_id": "00022-2436a4d7-e80d-4873-ab0e-eaee0b11708b",
    "deepnote_app_coordinates": {
     "x": 1,
     "y": 120,
     "w": 4,
     "h": 7
    },
    "deepnote_cell_type": "markdown",
    "deepnote_cell_height": 142
   }
  },
  {
   "cell_type": "code",
   "metadata": {
    "tags": [],
    "cell_id": "00006-a5446c48-951a-4b24-acaa-59bce8b10679",
    "deepnote_to_be_reexecuted": false,
    "source_hash": "4547bead",
    "execution_start": 1647082456802,
    "execution_millis": 86,
    "deepnote_app_coordinates": {
     "x": 0,
     "y": 127,
     "w": 6,
     "h": 4
    },
    "deepnote_cell_type": "code",
    "deepnote_cell_height": 99
   },
   "source": "chapters = [chap[chap.find('\\r\\n'):]\n            for chap in chapters]",
   "outputs": [],
   "execution_count": null
  },
  {
   "cell_type": "code",
   "metadata": {
    "tags": [],
    "cell_id": "00007-0c1a92a9-540a-4d01-9784-c0944d92789b",
    "deepnote_to_be_reexecuted": false,
    "source_hash": "387b830c",
    "execution_start": 1647082456803,
    "execution_millis": 11207295693,
    "deepnote_app_coordinates": {
     "x": 6,
     "y": 126,
     "w": 4,
     "h": 7
    },
    "deepnote_cell_type": "code",
    "deepnote_cell_height": 469.75
   },
   "source": "print(chapters[0][:50])\nprint(chapters[1][:50])\nprint(chapters[-1][:50])",
   "outputs": [
    {
     "name": "stdout",
     "text": "\r\n\r\nJONATHAN HARKER'S JOURNAL\r\n\r\n(_Kept in shortha\n\r\n\r\nJONATHAN HARKER'S JOURNAL--_continued_\r\n\r\n\r\n_5\n\r\n\r\nMINA HARKER'S JOURNAL\r\n\r\n\r\n_1 November._--All \n",
     "output_type": "stream"
    }
   ],
   "execution_count": null
  },
  {
   "cell_type": "markdown",
   "source": "Now let's assemble back all the chapters together.\n\nI also decided to remove the underscores that indicate text formatting and the old end of line symbol.\nThese are replaced with a space to prevent words to be unwantedly glued together.",
   "metadata": {
    "tags": [],
    "cell_id": "00024-875094a2-4951-43ea-8f4e-60615f71147a",
    "deepnote_app_coordinates": {
     "x": 1,
     "y": 131,
     "w": 4,
     "h": 11
    },
    "deepnote_cell_type": "markdown",
    "deepnote_cell_height": 223.1875
   }
  },
  {
   "cell_type": "code",
   "metadata": {
    "tags": [],
    "cell_id": "00008-e97c3364-235f-4d45-89e7-8a77e33ec3e0",
    "deepnote_to_be_reexecuted": false,
    "source_hash": "a7b4f1f1",
    "execution_start": 1647082456840,
    "execution_millis": 49,
    "deepnote_app_coordinates": {
     "x": 5,
     "y": 136,
     "w": 7,
     "h": 5
    },
    "deepnote_app_is_output_hidden": true,
    "deepnote_cell_type": "code",
    "deepnote_cell_height": 117
   },
   "source": "text = ''.join([chap.replace('_', ' ')\n            .replace('\\r\\n', ' ')\n            for chap in chapters])",
   "outputs": [],
   "execution_count": null
  },
  {
   "cell_type": "markdown",
   "source": "In the preprocessing stage I often ask myself which parts of a text could be affect the analyses I want to do.\nCapitalisation and punctuation can affect our results. Do we want to treat 'Hello', 'hello', 'hello...' and 'hello!' as meaning the same or as being different.\n\nFunctions such as `.lower()`or `.isalnum()` in Python are handy for this.\n\nWe won't use them this time because spaCy handle these cases in an intelligent manner. Capitalisation and punctuation are useful to determinate where the sentences are and to communicate sentiments. So we don't want to remove them. ",
   "metadata": {
    "tags": [],
    "cell_id": "00026-6eb40c20-493c-4085-9355-23f3d7428e46",
    "deepnote_app_coordinates": {
     "x": 0,
     "y": 142,
     "w": 12,
     "h": 10
    },
    "deepnote_cell_type": "markdown",
    "deepnote_cell_height": 483.59375
   }
  },
  {
   "cell_type": "code",
   "metadata": {
    "tags": [],
    "cell_id": "00009-0ccf33d1-95ea-4fb5-80bb-f585bba8afb2",
    "deepnote_to_be_reexecuted": false,
    "source_hash": "77882368",
    "execution_start": 1647082456841,
    "execution_millis": 11207295651,
    "deepnote_cell_type": "code",
    "deepnote_cell_height": 116.3125
   },
   "source": "print(text[:500])",
   "outputs": [
    {
     "name": "stdout",
     "text": "  JONATHAN HARKER'S JOURNAL  ( Kept in shorthand. )    3 May. Bistritz. --Left Munich at 8:35 P. M., on 1st May, arriving at Vienna early next morning; should have arrived at 6:46, but train was an hour late. Buda-Pesth seems a wonderful place, from the glimpse which I got of it from the train and the little I could walk through the streets. I feared to go very far from the station, as we had arrived late and would start as near the correct time as possible. The impression I had was that we were\n",
     "output_type": "stream"
    }
   ],
   "execution_count": null
  },
  {
   "cell_type": "markdown",
   "source": "spacytextblob allows us to study sentiments, so we have to make sure we have it",
   "metadata": {
    "tags": [],
    "cell_id": "00028-99b3a2dd-3ab5-4139-bc67-6800ab3dead4",
    "deepnote_app_coordinates": {
     "x": 0,
     "y": 152,
     "w": 3,
     "h": 6
    },
    "deepnote_cell_type": "markdown",
    "deepnote_cell_height": 97.1875
   }
  },
  {
   "cell_type": "code",
   "metadata": {
    "tags": [],
    "cell_id": "00010-ef9ca4ed-e3c7-4f23-b7c8-9aaef2771e9a",
    "deepnote_to_be_reexecuted": false,
    "source_hash": "6ceb3b74",
    "execution_start": 1647082456842,
    "execution_millis": 806,
    "deepnote_app_coordinates": {
     "x": 3,
     "y": 152,
     "w": 9,
     "h": 7
    },
    "deepnote_cell_type": "code",
    "deepnote_cell_height": 170.3125
   },
   "source": "nlp = spacy.load('en_core_web_sm')\nnlp.add_pipe('spacytextblob')\n\nprint(nlp.pipe_names)",
   "outputs": [
    {
     "name": "stdout",
     "text": "['tok2vec', 'tagger', 'parser', 'attribute_ruler', 'lemmatizer', 'ner', 'spacytextblob']\n",
     "output_type": "stream"
    }
   ],
   "execution_count": null
  },
  {
   "cell_type": "code",
   "metadata": {
    "tags": [],
    "cell_id": "00016-661b5fc2-5824-4383-85ed-a451ea1cbaa2",
    "deepnote_to_be_reexecuted": false,
    "source_hash": "3935e9b2",
    "execution_start": 1647082457652,
    "execution_millis": 8,
    "deepnote_app_is_output_hidden": true,
    "deepnote_cell_type": "code",
    "deepnote_cell_height": 310.171875,
    "deepnote_output_heights": [
     213.1875
    ]
   },
   "source": "nlp.components",
   "outputs": [
    {
     "output_type": "execute_result",
     "execution_count": 15,
     "data": {
      "text/plain": "[('tok2vec', <spacy.pipeline.tok2vec.Tok2Vec at 0x7f01dfcb7b40>),\n ('tagger', <spacy.pipeline.tagger.Tagger at 0x7f01dfcb7a60>),\n ('parser', <spacy.pipeline.dep_parser.DependencyParser at 0x7f01dfa5fd50>),\n ('senter', <spacy.pipeline.senter.SentenceRecognizer at 0x7f01dfcb76e0>),\n ('attribute_ruler',\n  <spacy.pipeline.attributeruler.AttributeRuler at 0x7f01df9ede60>),\n ('lemmatizer',\n  <spacy.lang.en.lemmatizer.EnglishLemmatizer at 0x7f01df9f3410>),\n ('ner', <spacy.pipeline.ner.EntityRecognizer at 0x7f01dfa5fed0>),\n ('spacytextblob',\n  <spacytextblob.spacytextblob.SpacyTextBlob at 0x7f01dffb2050>)]"
     },
     "metadata": {}
    }
   ],
   "execution_count": null
  },
  {
   "cell_type": "markdown",
   "source": "Now, let's start the main dish.",
   "metadata": {
    "tags": [],
    "cell_id": "00031-74f78030-d065-4f01-85d0-d3bc6ef2b1a2",
    "deepnote_app_coordinates": {
     "x": 1,
     "y": 163,
     "w": 11,
     "h": 2
    },
    "deepnote_cell_type": "markdown",
    "deepnote_cell_height": 52.390625
   }
  },
  {
   "cell_type": "markdown",
   "source": "### DraCuly\n\nWe feed the novel's text to the natural language processing pipeline:",
   "metadata": {
    "tags": [],
    "cell_id": "00032-71f739ac-c84c-4212-baef-4d8350bc44ce",
    "deepnote_app_coordinates": {
     "x": 0,
     "y": 165,
     "w": 12,
     "h": 4
    },
    "deepnote_cell_type": "markdown",
    "deepnote_cell_height": 145.1875
   }
  },
  {
   "cell_type": "code",
   "metadata": {
    "tags": [],
    "cell_id": "00017-583b93e7-8539-409d-a24a-e820a014715e",
    "deepnote_to_be_reexecuted": false,
    "source_hash": "6d9eeed2",
    "execution_start": 1647082457664,
    "execution_millis": 95571,
    "deepnote_app_coordinates": {
     "x": 0,
     "y": 169,
     "w": 12,
     "h": 3
    },
    "deepnote_cell_type": "code",
    "deepnote_cell_height": 81
   },
   "source": "doc_book = nlp(text)",
   "outputs": [],
   "execution_count": null
  },
  {
   "cell_type": "markdown",
   "source": "Now we can look at the sentiments!\n\n### Sentiments",
   "metadata": {
    "tags": [],
    "cell_id": "00034-75a7d4e0-ef4b-4b1b-975d-3c9e7b3a9fed",
    "deepnote_app_coordinates": {
     "x": 0,
     "y": 172,
     "w": 6,
     "h": 4
    },
    "deepnote_cell_type": "markdown",
    "deepnote_cell_height": 98.390625
   }
  },
  {
   "cell_type": "code",
   "metadata": {
    "tags": [],
    "cell_id": "00019-ffe3e8e0-920c-445c-937d-78f707669159",
    "deepnote_to_be_reexecuted": false,
    "source_hash": "5103c5ce",
    "execution_start": 1647082553283,
    "execution_millis": 3386,
    "deepnote_app_coordinates": {
     "x": 0,
     "y": 176,
     "w": 8,
     "h": 5
    },
    "deepnote_cell_type": "code",
    "deepnote_cell_height": 117
   },
   "source": "sentence_sentiments = [sentence._.polarity \n                        for sentence \n                        in doc_book.sents]",
   "outputs": [],
   "execution_count": null
  },
  {
   "cell_type": "code",
   "metadata": {
    "tags": [],
    "cell_id": "00018-99826972-f977-4304-a850-3f5d57284853",
    "deepnote_to_be_reexecuted": false,
    "source_hash": "6b55a325",
    "execution_start": 1647082556681,
    "execution_millis": 1,
    "deepnote_app_coordinates": {
     "x": 8,
     "y": 173,
     "w": 5,
     "h": 12
    },
    "deepnote_cell_type": "code",
    "deepnote_cell_height": 291,
    "deepnote_output_heights": [
     194
    ]
   },
   "source": "sentence_sentiments[:10]",
   "outputs": [
    {
     "output_type": "execute_result",
     "execution_count": 18,
     "data": {
      "text/plain": "[0.0,\n 0.0,\n -0.049999999999999996,\n 0.40625,\n -0.017499999999999995,\n 0.4833333333333334,\n 0.31666666666666665,\n 0.0,\n 0.10333333333333332,\n 0.0]"
     },
     "metadata": {}
    }
   ],
   "execution_count": null
  },
  {
   "cell_type": "markdown",
   "source": "To have more insight on what these numbers reflect, let's print the corresponding sentences",
   "metadata": {
    "tags": [],
    "cell_id": "00037-0fcb704e-cc60-46d0-a046-39c8479004fa",
    "deepnote_app_coordinates": {
     "x": 0,
     "y": 182,
     "w": 7,
     "h": 3
    },
    "deepnote_cell_type": "markdown",
    "deepnote_cell_height": 97.1875
   }
  },
  {
   "cell_type": "code",
   "metadata": {
    "tags": [],
    "cell_id": "00019-2a7c81ff-3a39-4215-a432-f5fe7a7baeca",
    "deepnote_to_be_reexecuted": false,
    "source_hash": "f8383d00",
    "execution_start": 1647082556691,
    "execution_millis": 11,
    "deepnote_app_coordinates": {
     "x": 0,
     "y": 185,
     "w": 12,
     "h": 3
    },
    "deepnote_cell_type": "code",
    "deepnote_cell_height": 81
   },
   "source": "sent_dic = list(zip(sentence_sentiments, list(doc_book.sents)))",
   "outputs": [],
   "execution_count": null
  },
  {
   "cell_type": "code",
   "metadata": {
    "tags": [],
    "cell_id": "00020-28037365-1db1-4ecb-bd74-c04266c5eb62",
    "deepnote_to_be_reexecuted": false,
    "source_hash": "9eceea8",
    "execution_start": 1647082556713,
    "execution_millis": 4,
    "deepnote_app_coordinates": {
     "x": 0,
     "y": 188,
     "w": 12,
     "h": 8
    },
    "deepnote_app_is_code_hidden": true,
    "deepnote_cell_type": "code",
    "deepnote_cell_height": 406.171875,
    "deepnote_output_heights": [
     309.1875
    ]
   },
   "source": "sent_dic[:10]",
   "outputs": [
    {
     "output_type": "execute_result",
     "execution_count": 20,
     "data": {
      "text/plain": "[(0.0,   JONATHAN HARKER'S JOURNAL  ( Kept in shorthand. )),\n (0.0,    3 May. Bistritz.),\n (-0.049999999999999996,\n  --Left Munich at 8:35 P. M., on 1st May, arriving at Vienna early next morning; should have arrived at 6:46, but train was an hour late.),\n (0.40625,\n  Buda-Pesth seems a wonderful place, from the glimpse which I got of it from the train and the little I could walk through the streets.),\n (-0.017499999999999995,\n  I feared to go very far from the station, as we had arrived late and would start as near the correct time as possible.),\n (0.4833333333333334,\n  The impression I had was that we were leaving the West and entering the East; the most western of splendid bridges over the Danube, which is here of noble width and depth, took us among the traditions of Turkish rule.),\n (0.31666666666666665,\n   We left in pretty good time, and came after nightfall to Klausenburgh.),\n (0.0, Here I stopped for the night at the Hotel Royale.),\n (0.10333333333333332,\n  I had for dinner, or rather supper, a chicken done up some way with red pepper, which was very good but thirsty.),\n (0.0, ( Mem. , get recipe for Mina.))]"
     },
     "metadata": {}
    }
   ],
   "execution_count": null
  },
  {
   "cell_type": "markdown",
   "source": "What do you think?\n\nThis is what it means:\n- Sentences bad sentiments are negative ",
   "metadata": {
    "tags": [],
    "cell_id": "00040-6c7de217-432f-4ed7-bddb-c54034834569",
    "deepnote_app_coordinates": {
     "x": 0,
     "y": 196,
     "w": 7,
     "h": 6
    },
    "deepnote_cell_type": "markdown",
    "deepnote_cell_height": 161.59375
   }
  },
  {
   "cell_type": "code",
   "metadata": {
    "tags": [],
    "cell_id": "00019-34120258-f365-45c8-a075-7b9088e051c0",
    "deepnote_to_be_reexecuted": false,
    "source_hash": "67d0973d",
    "execution_start": 1647082556737,
    "execution_millis": 3,
    "deepnote_app_coordinates": {
     "x": 0,
     "y": 202,
     "w": 6,
     "h": 7
    },
    "deepnote_app_is_code_hidden": true,
    "deepnote_cell_type": "code",
    "deepnote_cell_height": 387,
    "deepnote_output_heights": [
     290
    ]
   },
   "source": "[(sentiment, sentence) for (sentiment, sentence) in sent_dic if sentiment == -1][:10]",
   "outputs": [
    {
     "output_type": "execute_result",
     "execution_count": 21,
     "data": {
      "text/plain": "[(-1.0, What sort of grim adventure was it on which I had embarked?),\n (-1.0,\n  How was it that all the people at Bistritz and on the coach had some terrible fear for me?),\n (-1.0,\n  ( Mem. , this diary seems horribly like the beginning of the \"Arabian Nights,\" for everything has to break off at cockcrow--or like the ghost of Hamlet's father.)),\n (-1.0,\n  God knows that there is ground for my terrible fear in this accursed place!),\n (-1.0,\n   I was awakened by the Count, who looked at me as grimly as a man can look as he said:--  \"To-morrow, my friend, we must part.),\n (-1.0,  I am alone in the castle with those awful women.),\n (-1.0, I may find a way from this dreadful place.),\n (-1.0, Isn't it awful!),\n (-1.0, This suspense is getting dreadful.),\n (-1.0,\n  The wind had by this time backed to the east, and there was a shudder amongst the watchers on the cliff as they realized the terrible danger in which she now was.)]"
     },
     "metadata": {}
    }
   ],
   "execution_count": null
  },
  {
   "cell_type": "markdown",
   "source": "- and more happy sentences get a positive score",
   "metadata": {
    "tags": [],
    "cell_id": "00042-7192da7d-af96-441f-8656-fa51a9527380",
    "deepnote_app_coordinates": {
     "x": 7,
     "y": 199,
     "w": 5,
     "h": 3
    },
    "deepnote_cell_type": "markdown",
    "deepnote_cell_height": 91.796875
   }
  },
  {
   "cell_type": "code",
   "metadata": {
    "tags": [],
    "cell_id": "00022-25f8a169-e211-4003-8e82-72b673e01b5a",
    "deepnote_to_be_reexecuted": false,
    "source_hash": "d6a05779",
    "execution_start": 1647082556753,
    "execution_millis": 1,
    "deepnote_app_coordinates": {
     "x": 6,
     "y": 202,
     "w": 6,
     "h": 7
    },
    "deepnote_app_is_code_hidden": true,
    "deepnote_cell_type": "code",
    "deepnote_cell_height": 387,
    "deepnote_output_heights": [
     290
    ]
   },
   "source": "[(sentiment, sentence) for (sentiment, sentence) in sent_dic if sentiment == 1][:10]",
   "outputs": [
    {
     "output_type": "execute_result",
     "execution_count": 22,
     "data": {
      "text/plain": "[(1.0,\n  I was told that this road is in summertime excellent, but that it had not yet been put in order after the winter snows.),\n (1.0,  \"Indeed,\" I said, \"you speak excellently.\"),\n (1.0,\n  The view was magnificent, and from where I stood there was every opportunity of seeing it.),\n (1.0, Great God!),\n (1.0, I can fancy what a wonderful power he must have over his patients.),\n (1.0,\n  I am very, very happy, and I don't know what I have done to deserve it.),\n (1.0, Happy thought!),\n (1.0,\n   \"We are the best nurses, you and I. You keep watch all night; see that she is well fed, and that nothing disturbs her.),\n (1.0,\n  When I told Mrs. Westenra that Dr. Van Helsing had directed that I should sit up with her she almost pooh-poohed the idea, pointing out her daughter's renewed strength and excellent spirits.),\n (1.0, Our evening was a very, very happy one.)]"
     },
     "metadata": {}
    }
   ],
   "execution_count": null
  },
  {
   "cell_type": "markdown",
   "source": "-1 and 1 are the most extreme sentiments, but there is everything in between too.\n\n0.0 scores however often are sentences that are neutral or where the sentiment is unclear. These are less interesting for our analysis, so we will keep them out.",
   "metadata": {
    "tags": [],
    "cell_id": "00044-8e488d7d-5b15-4c04-9594-1e2c1a8322db",
    "deepnote_app_coordinates": {
     "x": 0,
     "y": 209,
     "w": 12,
     "h": 4
    },
    "deepnote_cell_type": "markdown",
    "deepnote_cell_height": 223.1875
   }
  },
  {
   "cell_type": "code",
   "metadata": {
    "tags": [],
    "cell_id": "00018-a8b14afe-607e-445a-82d0-40f43e9e8a3f",
    "deepnote_to_be_reexecuted": false,
    "source_hash": "db2d35da",
    "execution_start": 1647082556765,
    "execution_millis": 11207105965,
    "deepnote_app_coordinates": {
     "x": 0,
     "y": 214,
     "w": 8,
     "h": 5
    },
    "deepnote_cell_type": "code",
    "deepnote_cell_height": 135
   },
   "source": "sentence_sentiments = [sentiment \n                        for sentiment \n                        in sentence_sentiments\n                        if sentiment != 0]",
   "outputs": [],
   "execution_count": null
  },
  {
   "cell_type": "code",
   "metadata": {
    "tags": [],
    "cell_id": "00018-20bac64a-be1e-4a5b-a59c-978e72737a9c",
    "deepnote_to_be_reexecuted": false,
    "source_hash": "6b55a325",
    "execution_start": 1647082556814,
    "execution_millis": 2,
    "deepnote_app_coordinates": {
     "x": 8,
     "y": 213,
     "w": 5,
     "h": 7
    },
    "deepnote_cell_type": "code",
    "deepnote_cell_height": 291,
    "deepnote_output_heights": [
     194
    ]
   },
   "source": "sentence_sentiments[:10]",
   "outputs": [
    {
     "output_type": "execute_result",
     "execution_count": 24,
     "data": {
      "text/plain": "[-0.049999999999999996,\n 0.40625,\n -0.017499999999999995,\n 0.4833333333333334,\n 0.31666666666666665,\n 0.10333333333333332,\n 0.5,\n 0.2966666666666667,\n -0.25,\n -0.2125]"
     },
     "metadata": {}
    }
   ],
   "execution_count": null
  },
  {
   "cell_type": "markdown",
   "source": "Let's see what it looks like:",
   "metadata": {
    "tags": [],
    "cell_id": "00047-5283dc87-2704-4f1c-bf02-a703b93b2656",
    "deepnote_app_coordinates": {
     "x": 0,
     "y": 220,
     "w": 12,
     "h": 3
    },
    "deepnote_cell_type": "markdown",
    "deepnote_cell_height": 52.390625
   }
  },
  {
   "cell_type": "code",
   "metadata": {
    "tags": [],
    "cell_id": "00021-09d4c1dd-3e2a-4b43-955a-0eed7c3e3f80",
    "deepnote_to_be_reexecuted": false,
    "source_hash": "2d839679",
    "execution_start": 1647082556815,
    "execution_millis": 0,
    "deepnote_cell_type": "code",
    "deepnote_cell_height": 369
   },
   "source": "def plot_sentiments_average(sent_list, parts, title, color = 'black'):\n    plt.figure(figsize=(20, 5))\n\n    #make groups of sentences\n    parts = int(len(sent_list) / parts) #length in elements of each part\n    temp = [sent_list[i:i + parts] \\\n            for i in range(0, len(sent_list), parts)]\n    \n    #make an average for each part\n    temp = [sum(part) / len(part) for part in temp]\n    \n    plt.plot(temp, color)\n    plt.title(f'Sentiments in {title}', size = 25)\n    plt.ylabel('Negative             -             Positive')\n    \n    # remove tick labels as they don't mean much here\n    plt.tick_params(labelleft=False, labelbottom=False)",
   "outputs": [],
   "execution_count": null
  },
  {
   "cell_type": "code",
   "metadata": {
    "tags": [],
    "cell_id": "00022-9ba37a11-1a77-4da0-8fe8-9df3fe0256f5",
    "deepnote_to_be_reexecuted": false,
    "source_hash": "2e60dcf3",
    "execution_start": 1647082556819,
    "execution_millis": 280,
    "deepnote_cell_type": "code",
    "deepnote_cell_height": 165,
    "deepnote_output_heights": [
     68
    ]
   },
   "source": "plot_sentiments_average(sentence_sentiments, 300, 'the original Dracula novel')",
   "outputs": [
    {
     "data": {
      "text/plain": "<Figure size 1440x360 with 1 Axes>",
      "image/png": "[encoded data removed]"
     },
     "metadata": {
      "image/png": {
       "width": 1144,
       "height": 314
      }
     },
     "output_type": "display_data"
    }
   ],
   "execution_count": null
  },
  {
   "cell_type": "markdown",
   "source": "There are a lot of ups and downs in the story.\n\nAround one third of the story things get really bad.\n\nThis is typical for the final act, where the protagonists must overcome a difficult challenge.\n\nAfter that things get better.",
   "metadata": {
    "tags": [],
    "cell_id": "00050-7b7e726b-3dc7-4e02-a939-939e320b5f7d",
    "deepnote_app_coordinates": {
     "x": 0,
     "y": 234,
     "w": 13,
     "h": 6
    },
    "deepnote_cell_type": "markdown",
    "deepnote_cell_height": 251.1875
   }
  },
  {
   "cell_type": "code",
   "metadata": {
    "tags": [],
    "cell_id": "00023-2a456d63-05c5-4221-b44e-c8f7fe5e034f",
    "deepnote_to_be_reexecuted": false,
    "source_hash": "84b269e8",
    "execution_start": 1647082557136,
    "execution_millis": 203,
    "deepnote_app_coordinates": {
     "x": 0,
     "y": 223,
     "w": 13,
     "h": 11
    },
    "deepnote_cell_type": "code",
    "deepnote_cell_height": 165,
    "deepnote_output_heights": [
     68
    ]
   },
   "source": "plot_sentiments_average(sentence_sentiments, 30, 'the original Dracula novel')",
   "outputs": [
    {
     "data": {
      "text/plain": "<Figure size 1440x360 with 1 Axes>",
      "image/png": "[encoded data removed]"
     },
     "metadata": {
      "image/png": {
       "width": 1144,
       "height": 314
      }
     },
     "output_type": "display_data"
    }
   ],
   "execution_count": null
  },
  {
   "cell_type": "markdown",
   "source": "What we saw just now is the text in the original Dracula novel.\n\nLet's apply the same technique on a description from Wikipedia of the novel:",
   "metadata": {
    "tags": [],
    "cell_id": "00052-7bb36c19-00ba-4844-9a4b-8a1f03bc2ee7",
    "deepnote_app_coordinates": {
     "x": 0,
     "y": 242,
     "w": 6,
     "h": 6
    },
    "deepnote_cell_type": "markdown",
    "deepnote_cell_height": 156
   }
  },
  {
   "cell_type": "code",
   "metadata": {
    "tags": [],
    "cell_id": "00020-3deb1639-7f36-465c-a0d8-f5709fe3b125",
    "deepnote_to_be_reexecuted": false,
    "source_hash": "18f4abed",
    "execution_start": 1647082557347,
    "execution_millis": 0,
    "deepnote_app_coordinates": {
     "x": 6,
     "y": 242,
     "w": 7,
     "h": 5
    },
    "deepnote_cell_type": "code",
    "deepnote_cell_height": 135
   },
   "source": "book_plot_wiki = \"\"\"Jonathan Harker, a newly qualified English solicitor, visits Count Dracula at his castle in the Carpathian Mountains to help the Count purchase a house near London. Ignoring the Count's warning, Harker wanders the castle and encounters three vampire women; Dracula rescues Harker, and gives the women a small child bound inside a bag. Harker awakens in bed; soon after, Dracula leaves the castle, abandoning him to the women; Harker escapes with his life and ends up delirious in a Budapest hospital. Dracula takes a ship for England with boxes of earth from his castle. The captain's log narrates the crew's disappearance until he alone remains, bound to the helm to maintain course. An animal resembling a large dog is seen leaping ashore when the ship runs aground at Whitby.\nLucy Westenra's letter to her best friend, Harker's fiancée Mina Murray, describes her marriage proposals from Dr. John Seward, Quincey Morris, and Arthur Holmwood. Lucy accepts Holmwood's, but all remain friends. Mina joins her friend Lucy on holiday in Whitby. Lucy begins sleepwalking. After his ship lands there, Dracula stalks Lucy. Mina receives a letter about her missing fiancé's illness, and goes to Budapest to nurse him. Lucy becomes very ill. Seward's old teacher, Professor Abraham Van Helsing, determines the nature of Lucy's condition, but refuses to disclose it. He diagnoses her with acute blood-loss. Van Helsing places garlic flowers around her room and makes her a necklace of them. Lucy's mother removes the garlic flowers, not knowing they repel vampires. While Seward and Van Helsing are absent, Lucy and her mother are terrified by a wolf and Mrs. Westenra dies of a heart attack; Lucy dies shortly thereafter. After her burial, newspapers report children being stalked in the night by a \"bloofer lady\" (beautiful lady), and Van Helsing deduces it is Lucy. The four go to her tomb and see that she is a vampire. They stake her heart, behead her, and fill her mouth with garlic. Jonathan Harker and his now-wife Mina have returned, and they join the campaign against Dracula.\nEveryone stays at Dr. Seward's asylum as the men begin to hunt Dracula. Van Helsing finally reveals that vampires can only rest on earth from their homeland. Dracula communicates with Seward's patient, Renfield, an insane man who eats vermin to absorb their life force. After Dracula learns of the group's plot against him, he uses Renfield to enter the asylum. He secretly attacks Mina three times, drinking her blood each time and forcing Mina to drink his blood on the final visit. She is cursed to become a vampire after her death unless Dracula is killed. As the men find Dracula's properties, they discover many earth boxes within. The vampire hunters open each of the boxes and seal wafers of sacramental bread inside them, rendering them useless to Dracula. They attempt to trap the Count in his Piccadilly house, but he escapes. They learn that Dracula is fleeing to his castle in Transylvania with his last box. Mina has a faint psychic connection to Dracula, which Van Helsing exploits via hypnosis to track Dracula's movements. Guided by Mina, they pursue him.\nIn Galatz, Romania, the hunters split up. Van Helsing and Mina go to Dracula's castle, where the professor destroys the vampire women. Jonathan Harker and Arthur Holmwood follow Dracula's boat on the river, while Quincey Morris and John Seward parallel them on land. After Dracula's box is finally loaded onto a wagon by Szgany men, the hunters converge and attack it. After routing the Szgany, Harker slashes Dracula's neck and Quincey stabs him in the heart. Dracula crumbles to dust, freeing Mina from her vampiric curse. Quincey is mortally wounded in the fight against the Szgany. He dies from his wounds, at peace with the knowledge that Mina is saved. A note by Jonathan Harker seven years later states that the Harkers have a son, named Quincey.\"\"\"",
   "outputs": [],
   "execution_count": null
  },
  {
   "cell_type": "code",
   "metadata": {
    "tags": [],
    "cell_id": "00028-803734e1-5641-4fc0-b649-0dbccaf19f62",
    "deepnote_to_be_reexecuted": false,
    "source_hash": "39dd8b15",
    "execution_start": 1647082557355,
    "execution_millis": 193,
    "deepnote_app_coordinates": {
     "x": 6,
     "y": 247,
     "w": 7,
     "h": 3
    },
    "deepnote_cell_type": "code",
    "deepnote_cell_height": 81
   },
   "source": "doc_book_plot = nlp(book_plot_wiki)",
   "outputs": [],
   "execution_count": null
  },
  {
   "cell_type": "markdown",
   "source": "We will use this again later on, so I made a function for it:",
   "metadata": {
    "tags": [],
    "cell_id": "00055-1b64073c-c8d5-4225-b00e-2646ab265ef5",
    "deepnote_app_coordinates": {
     "x": 1,
     "y": 248,
     "w": 5,
     "h": 3
    },
    "deepnote_cell_type": "markdown",
    "deepnote_cell_height": 74.796875
   }
  },
  {
   "cell_type": "code",
   "metadata": {
    "tags": [],
    "cell_id": "00028-03cc9e02-1aae-4b9c-b1a9-85083fbbb9b9",
    "deepnote_to_be_reexecuted": false,
    "source_hash": "db373148",
    "execution_start": 1647082557595,
    "execution_millis": 0,
    "deepnote_app_coordinates": {
     "x": 6,
     "y": 250,
     "w": 7,
     "h": 8
    },
    "deepnote_cell_type": "code",
    "deepnote_cell_height": 207
   },
   "source": "def calc_sentence_sentiments(doc):\n    #retrieve sentiment scores\n    temp = [sentence._.polarity for sentence in doc.sents]\n\n    # remove null values\n    temp = [sentiment for sentiment in temp if sentiment != 0]\n\n    return temp",
   "outputs": [],
   "execution_count": null
  },
  {
   "cell_type": "code",
   "metadata": {
    "tags": [],
    "cell_id": "00029-25537f99-9975-4d7b-9f07-b7466beb222a",
    "deepnote_to_be_reexecuted": false,
    "source_hash": "241ba6f9",
    "execution_start": 1647082557596,
    "execution_millis": 0,
    "deepnote_app_coordinates": {
     "x": 6,
     "y": 258,
     "w": 7,
     "h": 3
    },
    "deepnote_cell_type": "code",
    "deepnote_cell_height": 81
   },
   "source": "wiki_sentiments = calc_sentence_sentiments(doc_book_plot)",
   "outputs": [],
   "execution_count": null
  },
  {
   "cell_type": "markdown",
   "source": "The summary is really short compared to the novel, which is actually the point for a summary.\n\nHere are all the sentiments extracted from it:",
   "metadata": {
    "tags": [],
    "cell_id": "00058-e1ab231e-3565-46c2-ab97-95ff26b29fa9",
    "deepnote_app_coordinates": {
     "x": 0,
     "y": 256,
     "w": 6,
     "h": 6
    },
    "deepnote_cell_type": "markdown",
    "deepnote_cell_height": 156
   }
  },
  {
   "cell_type": "code",
   "metadata": {
    "tags": [],
    "cell_id": "00030-ed8817c1-9388-45d1-909a-a3b42028c8be",
    "deepnote_to_be_reexecuted": false,
    "source_hash": "53e17492",
    "execution_start": 1647082557642,
    "execution_millis": 2,
    "deepnote_app_coordinates": {
     "x": 1,
     "y": 251,
     "w": 5,
     "h": 5
    },
    "deepnote_app_is_code_hidden": true,
    "deepnote_cell_type": "code",
    "deepnote_cell_height": 387,
    "deepnote_output_heights": [
     290
    ]
   },
   "source": "wiki_sentiments",
   "outputs": [
    {
     "output_type": "execute_result",
     "execution_count": 32,
     "data": {
      "text/plain": "[0.07878787878787878,\n -0.25,\n 0.21428571428571427,\n 1.0,\n -0.2,\n -0.65,\n 0.1,\n 0.6,\n 0.85,\n -1.0,\n -0.2,\n -0.2,\n 0.5,\n -0.25,\n -0.5]"
     },
     "metadata": {}
    }
   ],
   "execution_count": null
  },
  {
   "cell_type": "code",
   "metadata": {
    "tags": [],
    "cell_id": "00031-602146f8-a785-4dad-96bf-1e69e7bf19f7",
    "deepnote_to_be_reexecuted": false,
    "source_hash": "4c9e742",
    "execution_start": 1647082557642,
    "execution_millis": 228,
    "deepnote_app_coordinates": {
     "x": 0,
     "y": 262,
     "w": 12,
     "h": 8
    },
    "deepnote_app_is_code_hidden": true,
    "deepnote_cell_type": "code",
    "deepnote_cell_height": 291,
    "deepnote_output_heights": [
     68
    ]
   },
   "source": "plt.figure(figsize=(20, 5))\n\nplt.plot(wiki_sentiments)\nplt.title(\"Sentiments in the Dracula novel's plot described on Wikipedia\", size = 25)\nplt.ylabel('Negative             -             Positive')\n\n# remove tick labels as they don't mean much here\nplt.tick_params(labelleft=False, labelbottom=False)",
   "outputs": [
    {
     "data": {
      "text/plain": "<Figure size 1440x360 with 1 Axes>",
      "image/png": "[encoded data removed]"
     },
     "metadata": {
      "image/png": {
       "width": 1144,
       "height": 314
      }
     },
     "output_type": "display_data"
    }
   ],
   "execution_count": null
  },
  {
   "cell_type": "markdown",
   "source": "We can see a big dip around on third of the story again.\n\nBecause the style of writing in a summary differs a lot from the novel, we can't really use these sentiments to make precise conclusions, but they still give an overall idea.\n\nThe end described on the Wikipedia page of the novel looks to have a more negative tone.",
   "metadata": {
    "tags": [],
    "cell_id": "00061-3ce43df8-adaf-4a3a-9fc4-d8d44d7b3c0c",
    "deepnote_app_coordinates": {
     "x": 0,
     "y": 270,
     "w": 12,
     "h": 6
    },
    "deepnote_cell_type": "markdown",
    "deepnote_cell_height": 304.390625
   }
  },
  {
   "cell_type": "markdown",
   "source": "We can compute the average mood of the texts. Here are the sentiment scores of the origial Dracula novel and the Wikipedia plot summary. But due to the texts being different formats we can't really interpret these.",
   "metadata": {
    "tags": [],
    "cell_id": "00062-795e6149-9032-449a-8eba-c11bbb6794ba",
    "deepnote_app_coordinates": {
     "x": 0,
     "y": 276,
     "w": 5,
     "h": 9
    },
    "deepnote_cell_type": "markdown",
    "deepnote_cell_height": 186.796875
   }
  },
  {
   "cell_type": "code",
   "metadata": {
    "tags": [],
    "cell_id": "00035-6eb615d4-3eb1-4c8c-b84f-3679154fafab",
    "deepnote_to_be_reexecuted": false,
    "source_hash": "7400a05b",
    "execution_start": 1647082557876,
    "execution_millis": 6,
    "deepnote_app_coordinates": {
     "x": 5,
     "y": 276,
     "w": 4,
     "h": 4
    },
    "deepnote_cell_type": "code",
    "deepnote_cell_height": 118.171875,
    "deepnote_output_heights": [
     21.1875
    ]
   },
   "source": "doc_book._.polarity ",
   "outputs": [
    {
     "output_type": "execute_result",
     "execution_count": 34,
     "data": {
      "text/plain": "0.07495122086295743"
     },
     "metadata": {}
    }
   ],
   "execution_count": null
  },
  {
   "cell_type": "code",
   "metadata": {
    "tags": [],
    "cell_id": "00036-fd217382-d16e-4e47-af6c-2bf1a22dd4d9",
    "deepnote_to_be_reexecuted": false,
    "source_hash": "f96ba88c",
    "execution_start": 1647082557930,
    "execution_millis": 11207105653,
    "deepnote_app_coordinates": {
     "x": 5,
     "y": 280,
     "w": 4,
     "h": 5
    },
    "deepnote_cell_type": "code",
    "deepnote_cell_height": 118.171875,
    "deepnote_output_heights": [
     21.1875
    ]
   },
   "source": "doc_book_plot._.polarity ",
   "outputs": [
    {
     "output_type": "execute_result",
     "execution_count": 35,
     "data": {
      "text/plain": "-0.00766733266733266"
     },
     "metadata": {}
    }
   ],
   "execution_count": null
  },
  {
   "cell_type": "markdown",
   "source": "### Named entites recognition\n\nspaCy can detect extract information from texts. This pipeline can be trained for specific goals, but the default one is sufficient for today.\n\nHere is what it looks like:",
   "metadata": {
    "tags": [],
    "cell_id": "00065-03462fd8-8c8b-48e9-b6a4-6515312c9672",
    "deepnote_app_coordinates": {
     "x": 0,
     "y": 286,
     "w": 7,
     "h": 7
    },
    "deepnote_cell_type": "markdown",
    "deepnote_cell_height": 258.390625
   }
  },
  {
   "cell_type": "code",
   "metadata": {
    "tags": [],
    "cell_id": "00036-aef55a1a-3bd1-4e40-be7b-b6e54a2459d8",
    "deepnote_to_be_reexecuted": false,
    "source_hash": "f65052a7",
    "execution_start": 1647082557931,
    "execution_millis": 364,
    "deepnote_app_coordinates": {
     "x": 7,
     "y": 285,
     "w": 7,
     "h": 13
    },
    "deepnote_cell_type": "code",
    "deepnote_cell_height": 703.5,
    "deepnote_output_heights": [
     606.515625
    ]
   },
   "source": "displacy.render(doc_book[:200], style='ent', jupyter='True')",
   "outputs": [
    {
     "data": {
      "text/plain": "<IPython.core.display.HTML object>",
      "text/html": "<span class=\"tex2jax_ignore\"><div class=\"entities\" style=\"line-height: 2.5; direction: ltr\">  \n<mark class=\"entity\" style=\"background: #aa9cfc; padding: 0.45em 0.6em; margin: 0 0.25em; line-height: 1; border-radius: 0.35em;\">\n    JONATHAN HARKER'S\n    <span style=\"font-size: 0.8em; font-weight: bold; line-height: 1; border-radius: 0.35em; vertical-align: middle; margin-left: 0.5rem\">PERSON</span>\n</mark>\n \n<mark class=\"entity\" style=\"background: #7aecec; padding: 0.45em 0.6em; margin: 0 0.25em; line-height: 1; border-radius: 0.35em;\">\n    JOURNAL\n    <span style=\"font-size: 0.8em; font-weight: bold; line-height: 1; border-radius: 0.35em; vertical-align: middle; margin-left: 0.5rem\">ORG</span>\n</mark>\n  ( Kept in shorthand. )    3 May. Bistritz. --Left \n<mark class=\"entity\" style=\"background: #aa9cfc; padding: 0.45em 0.6em; margin: 0 0.25em; line-height: 1; border-radius: 0.35em;\">\n    Munich\n    <span style=\"font-size: 0.8em; font-weight: bold; line-height: 1; border-radius: 0.35em; vertical-align: middle; margin-left: 0.5rem\">PERSON</span>\n</mark>\n at 8:35 \n<mark class=\"entity\" style=\"background: #aa9cfc; padding: 0.45em 0.6em; margin: 0 0.25em; line-height: 1; border-radius: 0.35em;\">\n    P. M.\n    <span style=\"font-size: 0.8em; font-weight: bold; line-height: 1; border-radius: 0.35em; vertical-align: middle; margin-left: 0.5rem\">PERSON</span>\n</mark>\n, on \n<mark class=\"entity\" style=\"background: #bfe1d9; padding: 0.45em 0.6em; margin: 0 0.25em; line-height: 1; border-radius: 0.35em;\">\n    1st May\n    <span style=\"font-size: 0.8em; font-weight: bold; line-height: 1; border-radius: 0.35em; vertical-align: middle; margin-left: 0.5rem\">DATE</span>\n</mark>\n, arriving at \n<mark class=\"entity\" style=\"background: #feca74; padding: 0.45em 0.6em; margin: 0 0.25em; line-height: 1; border-radius: 0.35em;\">\n    Vienna\n    <span style=\"font-size: 0.8em; font-weight: bold; line-height: 1; border-radius: 0.35em; vertical-align: middle; margin-left: 0.5rem\">GPE</span>\n</mark>\n \n<mark class=\"entity\" style=\"background: #bfe1d9; padding: 0.45em 0.6em; margin: 0 0.25em; line-height: 1; border-radius: 0.35em;\">\n    early next morning\n    <span style=\"font-size: 0.8em; font-weight: bold; line-height: 1; border-radius: 0.35em; vertical-align: middle; margin-left: 0.5rem\">TIME</span>\n</mark>\n; should have arrived at \n<mark class=\"entity\" style=\"background: #bfe1d9; padding: 0.45em 0.6em; margin: 0 0.25em; line-height: 1; border-radius: 0.35em;\">\n    6:46\n    <span style=\"font-size: 0.8em; font-weight: bold; line-height: 1; border-radius: 0.35em; vertical-align: middle; margin-left: 0.5rem\">DATE</span>\n</mark>\n, but train was \n<mark class=\"entity\" style=\"background: #bfe1d9; padding: 0.45em 0.6em; margin: 0 0.25em; line-height: 1; border-radius: 0.35em;\">\n    an hour\n    <span style=\"font-size: 0.8em; font-weight: bold; line-height: 1; border-radius: 0.35em; vertical-align: middle; margin-left: 0.5rem\">TIME</span>\n</mark>\n late. \n<mark class=\"entity\" style=\"background: #aa9cfc; padding: 0.45em 0.6em; margin: 0 0.25em; line-height: 1; border-radius: 0.35em;\">\n    Buda-Pesth\n    <span style=\"font-size: 0.8em; font-weight: bold; line-height: 1; border-radius: 0.35em; vertical-align: middle; margin-left: 0.5rem\">PERSON</span>\n</mark>\n seems a wonderful place, from the glimpse which I got of it from the train and the little I could walk through the streets. I feared to go very far from the station, as we had arrived late and would start as near the correct time as possible. The impression I had was that we were leaving the \n<mark class=\"entity\" style=\"background: #ff9561; padding: 0.45em 0.6em; margin: 0 0.25em; line-height: 1; border-radius: 0.35em;\">\n    West\n    <span style=\"font-size: 0.8em; font-weight: bold; line-height: 1; border-radius: 0.35em; vertical-align: middle; margin-left: 0.5rem\">LOC</span>\n</mark>\n and entering the \n<mark class=\"entity\" style=\"background: #ff9561; padding: 0.45em 0.6em; margin: 0 0.25em; line-height: 1; border-radius: 0.35em;\">\n    East\n    <span style=\"font-size: 0.8em; font-weight: bold; line-height: 1; border-radius: 0.35em; vertical-align: middle; margin-left: 0.5rem\">LOC</span>\n</mark>\n; the most western of splendid bridges over the \n<mark class=\"entity\" style=\"background: #aa9cfc; padding: 0.45em 0.6em; margin: 0 0.25em; line-height: 1; border-radius: 0.35em;\">\n    Danube\n    <span style=\"font-size: 0.8em; font-weight: bold; line-height: 1; border-radius: 0.35em; vertical-align: middle; margin-left: 0.5rem\">PERSON</span>\n</mark>\n, which is here of noble width and depth, took us among the traditions of \n<mark class=\"entity\" style=\"background: #c887fb; padding: 0.45em 0.6em; margin: 0 0.25em; line-height: 1; border-radius: 0.35em;\">\n    Turkish\n    <span style=\"font-size: 0.8em; font-weight: bold; line-height: 1; border-radius: 0.35em; vertical-align: middle; margin-left: 0.5rem\">NORP</span>\n</mark>\n rule.  We left in pretty good time, and came after nightfall to \n<mark class=\"entity\" style=\"background: #feca74; padding: 0.45em 0.6em; margin: 0 0.25em; line-height: 1; border-radius: 0.35em;\">\n    Klausenburgh\n    <span style=\"font-size: 0.8em; font-weight: bold; line-height: 1; border-radius: 0.35em; vertical-align: middle; margin-left: 0.5rem\">GPE</span>\n</mark>\n. Here I stopped for \n<mark class=\"entity\" style=\"background: #bfe1d9; padding: 0.45em 0.6em; margin: 0 0.25em; line-height: 1; border-radius: 0.35em;\">\n    the night\n    <span style=\"font-size: 0.8em; font-weight: bold; line-height: 1; border-radius: 0.35em; vertical-align: middle; margin-left: 0.5rem\">TIME</span>\n</mark>\n at \n<mark class=\"entity\" style=\"background: #9cc9cc; padding: 0.45em 0.6em; margin: 0 0.25em; line-height: 1; border-radius: 0.35em;\">\n    the Hotel Royale\n    <span style=\"font-size: 0.8em; font-weight: bold; line-height: 1; border-radius: 0.35em; vertical-align: middle; margin-left: 0.5rem\">FAC</span>\n</mark>\n. I had for dinner, or rather supper, a chicken done up some way with red pepper, which was very good but thirsty. ( </div></span>"
     },
     "metadata": {},
     "output_type": "display_data"
    }
   ],
   "execution_count": null
  },
  {
   "cell_type": "markdown",
   "source": "These entities are classified in different types of information.\n\nWe can filter for a specific type, such as characters, with the entity label `PERSON`:",
   "metadata": {
    "tags": [],
    "cell_id": "00067-a8dab9fe-7100-430f-92b0-797f5c6f6e9c",
    "deepnote_app_coordinates": {
     "x": 0,
     "y": 293,
     "w": 7,
     "h": 5
    },
    "deepnote_cell_type": "markdown",
    "deepnote_cell_height": 156
   }
  },
  {
   "cell_type": "code",
   "metadata": {
    "tags": [],
    "cell_id": "00034-9a47c159-7d6b-42a0-ac0c-e4e62a67046e",
    "deepnote_to_be_reexecuted": false,
    "source_hash": "ac1b0ffa",
    "execution_start": 1647082557953,
    "execution_millis": 1,
    "deepnote_app_coordinates": {
     "x": 0,
     "y": 298,
     "w": 14,
     "h": 3
    },
    "deepnote_cell_type": "code",
    "deepnote_cell_height": 99
   },
   "source": "characters_wiki = [ent.text for ent in doc_book_plot.ents if ent.label_ == 'PERSON']\ncharacters_book = [ent.text for ent in doc_book.ents if ent.label_ == 'PERSON']",
   "outputs": [],
   "execution_count": null
  },
  {
   "cell_type": "markdown",
   "source": "To compare the two texts, let's look at the most frequent person entities:",
   "metadata": {
    "tags": [],
    "cell_id": "00069-7e46c04a-4837-4bf1-9ccf-b5a1c329c5fd",
    "deepnote_app_coordinates": {
     "x": 0,
     "y": 301,
     "w": 3,
     "h": 5
    },
    "deepnote_cell_type": "markdown",
    "deepnote_cell_height": 97.1875
   }
  },
  {
   "cell_type": "code",
   "metadata": {
    "tags": [],
    "cell_id": "00035-67174f4e-6748-48d6-a5a8-37ebcb23e7b1",
    "deepnote_to_be_reexecuted": false,
    "source_hash": "e378e8ab",
    "execution_start": 1647082557997,
    "execution_millis": 310,
    "deepnote_app_coordinates": {
     "x": 3,
     "y": 301,
     "w": 3,
     "h": 11
    },
    "deepnote_cell_type": "code",
    "deepnote_cell_height": 405,
    "deepnote_output_heights": [
     290
    ]
   },
   "source": "#novel's text\nCounter(characters_book).most_common(15)",
   "outputs": [
    {
     "output_type": "execute_result",
     "execution_count": 38,
     "data": {
      "text/plain": "[('Lucy', 271),\n ('Van Helsing', 200),\n ('Jonathan', 117),\n ('Harker', 104),\n ('Arthur', 96),\n ('Seward', 94),\n ('Mina', 67),\n ('Quincey', 54),\n ('Morris', 47),\n ('Renfield', 46),\n ('John', 29),\n ('Quincey Morris', 21),\n ('Madam Mina', 20),\n ('Westenra', 19),\n ('Hawkins', 18)]"
     },
     "metadata": {}
    }
   ],
   "execution_count": null
  },
  {
   "cell_type": "code",
   "metadata": {
    "tags": [],
    "cell_id": "00035-b414cd3d-f6bb-4032-8059-715a726eb7fc",
    "deepnote_to_be_reexecuted": false,
    "source_hash": "86bcff2a",
    "execution_start": 1647082557998,
    "execution_millis": 0,
    "deepnote_app_coordinates": {
     "x": 6,
     "y": 301,
     "w": 3,
     "h": 11
    },
    "deepnote_cell_type": "code",
    "deepnote_cell_height": 405,
    "deepnote_output_heights": [
     290
    ]
   },
   "source": "#plot on Wiki\nCounter(characters_wiki).most_common(15)",
   "outputs": [
    {
     "output_type": "execute_result",
     "execution_count": 39,
     "data": {
      "text/plain": "[('Dracula', 19),\n ('Lucy', 10),\n ('Harker', 6),\n ('Mina', 6),\n ('Jonathan Harker', 4),\n ('Quincey', 3),\n ('John Seward', 2),\n ('Quincey Morris', 2),\n ('Arthur Holmwood', 2),\n ('Van Helsing', 2),\n ('Renfield', 2),\n ('Count Dracula', 1),\n ('Lucy Westenra', 1),\n ('Mina Murray', 1),\n ('Holmwood', 1)]"
     },
     "metadata": {}
    }
   ],
   "execution_count": null
  },
  {
   "cell_type": "markdown",
   "source": "It is interesting to see that Wikipedia gives more attention to Dracula than in the book.\nThis could also be because in the original text, Darcula is referenced in an indirect manner.\nThis is something we can't know right now, or only if we start reading.",
   "metadata": {
    "tags": [],
    "cell_id": "00071-74552e23-513f-48e6-8f7f-ecaab33d339a",
    "deepnote_app_coordinates": {
     "x": 9,
     "y": 302,
     "w": 4,
     "h": 10
    },
    "deepnote_cell_type": "markdown",
    "deepnote_cell_height": 209.1875
   }
  },
  {
   "cell_type": "markdown",
   "source": "A cool thing we can do also is set theory!\n\nWe can look if in the summary there are characters that aren't in the book",
   "metadata": {
    "tags": [],
    "cell_id": "00073-1d2c4655-35c8-4b2d-a242-237f2fe2c9db",
    "deepnote_app_coordinates": {
     "x": 0,
     "y": 315,
     "w": 12,
     "h": 3
    },
    "deepnote_cell_type": "markdown",
    "deepnote_cell_height": 156
   }
  },
  {
   "cell_type": "code",
   "metadata": {
    "tags": [],
    "cell_id": "00035-f8de94d8-238d-46af-8c3d-4d52fc018bf1",
    "deepnote_to_be_reexecuted": false,
    "source_hash": "5b3c0473",
    "execution_start": 1647082557999,
    "execution_millis": 308,
    "deepnote_app_coordinates": {
     "x": 0,
     "y": 318,
     "w": 12,
     "h": 4
    },
    "deepnote_cell_type": "code",
    "deepnote_cell_height": 111.828125
   },
   "source": "print(set(characters_wiki) - set(characters_book))",
   "outputs": [
    {
     "name": "stdout",
     "text": "set()\n",
     "output_type": "stream"
    }
   ],
   "execution_count": null
  },
  {
   "cell_type": "markdown",
   "source": "The resulting set is empty, it is quite obvious because else the summary is incorrect.\n\nThis would happen if it wasn't the case:",
   "metadata": {
    "tags": [],
    "cell_id": "00075-8a6230a7-6bd4-41d9-ae55-55f6eb5bbbfa",
    "deepnote_app_coordinates": {
     "x": 0,
     "y": 322,
     "w": 12,
     "h": 3
    },
    "deepnote_cell_type": "markdown",
    "deepnote_cell_height": 156
   }
  },
  {
   "cell_type": "code",
   "metadata": {
    "tags": [],
    "cell_id": "00038-f6ca5abc-9c54-4ba8-a808-9e971eac02ca",
    "deepnote_to_be_reexecuted": false,
    "source_hash": "d57fe239",
    "execution_start": 1647082558044,
    "execution_millis": 264,
    "deepnote_app_coordinates": {
     "x": 0,
     "y": 325,
     "w": 12,
     "h": 4
    },
    "deepnote_cell_type": "code",
    "deepnote_cell_height": 111.828125
   },
   "source": "print(set(characters_wiki + ['another character']) - set(characters_book))",
   "outputs": [
    {
     "name": "stdout",
     "text": "{'another character'}\n",
     "output_type": "stream"
    }
   ],
   "execution_count": null
  },
  {
   "cell_type": "markdown",
   "source": "My favorite entity type is `WORK_OF_ART` which returns titles of books, artworks and objects.\n\n <sup>(I'm really biased because I study art and literature haha)</sup>\n\nThis entity isn't used showed really often in spaCy tutorials, probably because it is less useful than the others, but I wanted to shine some light on it.\n\nIt doesn't help the results aren't really accurate, it has some confusion with characters and speech expressions.\n\nMina seems to have artsy vibes in spaCy's eyes.\n\nBut these misclassifications are really interesting and fun.\n\nThey could be works of art, and some of them could be metal album names or horror movie titles!\n\n<sup>note: I made a set to remove duplicates and order the strings</sup>\n\n",
   "metadata": {
    "tags": [],
    "cell_id": "00077-58d1c602-1b5a-46e0-a3a2-bca27c60a76c",
    "deepnote_app_coordinates": {
     "x": 0,
     "y": 330,
     "w": 7,
     "h": 19
    },
    "deepnote_cell_type": "markdown",
    "deepnote_cell_height": 643.1875
   }
  },
  {
   "cell_type": "code",
   "metadata": {
    "tags": [],
    "cell_id": "00034-afa6476f-5fdf-406e-be36-d70139e8fc9f",
    "deepnote_to_be_reexecuted": false,
    "source_hash": "bc0c4f22",
    "execution_start": 1647082558045,
    "execution_millis": 264,
    "deepnote_app_coordinates": {
     "x": 7,
     "y": 331,
     "w": 6,
     "h": 17
    },
    "deepnote_cell_type": "code",
    "deepnote_cell_height": 739.5,
    "deepnote_output_heights": [
     606.515625
    ]
   },
   "source": "set([ent.text for ent\nin doc_book.ents\nif ent.label_ == 'WORK_OF_ART'])",
   "outputs": [
    {
     "output_type": "execute_result",
     "execution_count": 42,
     "data": {
      "text/plain": "{'\"Count Dracula',\n '\"Dear Madam,--  ',\n '\"Lord Godalming',\n '\"The English Herr',\n '\"The Host',\n '\"The Pall Mall Gazette',\n '\"The Szgany',\n '\"The Westminster Gazette',\n '\"We Szekelys',\n '\"Westminster Gazette',\n '4 May. --I',\n 'ARTHUR',\n 'Amen',\n 'At Purfleet',\n 'Bersicker',\n 'Blue',\n 'Charcot',\n 'DRACULA',\n 'Dame Nature',\n 'Dear Madam Mina,--',\n 'Dear Madam,--  ',\n 'Dear Sirs,--  ',\n 'Diary    Hillingham',\n 'Evening',\n 'Fear for  ',\n 'Finis',\n 'For Sale',\n 'Fortune',\n 'Hamlet',\n 'Hush',\n \"Jack Straw's\",\n 'Kukri',\n 'Lenore\":--      \"Denn die Todten',\n 'Lord----',\n 'Love',\n 'MINA HARKER',\n 'Madam Mina',\n 'Midnight',\n 'Mina',\n 'Mina and Seward',\n 'Mittel Land',\n 'New Woman',\n 'New Women',\n 'Pall Mall Gazette',\n 'QUINCEY P. MORRIS',\n 'Quick, Doctor, quick',\n 'THE ESCAPED WOLF',\n 'The  Acherontia Aitetropos of the Sphinges',\n 'The  Czarina Catherine  ',\n 'The Count is a criminal',\n 'The Dailygraph',\n 'The Exeter News',\n 'The Kensington Horror',\n 'The Pall Mall Gazette',\n 'The Stabbing Woman',\n 'The Thing in the coffin',\n 'The Westminster Gazette',\n 'The Westminster Gazette\"--I',\n 'The Whitby Gazette',\n 'The Woman in Black',\n 'VAN HELSING',\n 'Van Helsing',\n 'Young miss',\n 'Yours',\n 'the Law List',\n 'the Old Mon',\n 'the Stars and Stripes'}"
     },
     "metadata": {}
    }
   ],
   "execution_count": null
  },
  {
   "cell_type": "markdown",
   "source": "Times are also interesting to extract, looking quickly at them we can see that the story happens mostly at night!",
   "metadata": {
    "tags": [],
    "cell_id": "00079-4a816a67-a37a-4c22-95ef-3e153a3695dc",
    "deepnote_app_coordinates": {
     "x": 0,
     "y": 349,
     "w": 12,
     "h": 3
    },
    "deepnote_cell_type": "markdown",
    "deepnote_cell_height": 119.59375
   }
  },
  {
   "cell_type": "code",
   "metadata": {
    "tags": [],
    "cell_id": "00035-68305e50-9927-4c35-95d9-8d161e615710",
    "deepnote_to_be_reexecuted": false,
    "source_hash": "3d2c439c",
    "execution_start": 1647082558046,
    "execution_millis": 263,
    "deepnote_app_coordinates": {
     "x": 0,
     "y": 352,
     "w": 12,
     "h": 6
    },
    "deepnote_cell_type": "code",
    "deepnote_cell_height": 152.3125
   },
   "source": "print([ent.text for ent\nin doc_book.ents\nif (ent.label_ == 'TIME')])",
   "outputs": [
    {
     "name": "stdout",
     "text": "['early next morning', 'an hour', 'the night', 'all night', 'forcemeat', 'a little before eight', '7:30', 'more than an hour', 'midnight', 'afternoon', 'evening', 'earlier in the evening', 'An hour', 'early to-night', 'night', 'a few minutes of midnight', 'a few minutes', 'the morning', 'the afternoon', 'early morning', 'a good night', 'last night', 'last night', 'one night', 'an hour', 'the previous night', 'the last evening', 'hour after hour', 'a few hours', 'Good-morning', 'a few hours', 'morning', 'Last evening', 'this evening', 'Last night', 'the next morning', 'a minute', 'A minute later', 'an hour or', '--This morning', 'before morning', 'a couple of hours', 'morning', 'the night', 'this morning', 'Last night', 'a few hours', 'morning', 'morning', 'a minute or', 'morning', \"ten o'clock\", 'Good-night', 'an hour ago', 'night', 'a few moments', 'Last night', \"a few minutes'\", 'evening', 'the afternoon', 'midnight', 'A little after midnight', 'a very few minutes', 'last night', 'this morning', 'Early this morning', 'noon', 'last night', 'last night', \"a few hours'\", 'night', 'midnight', \"from few minutes'\", 'a few seconds', 'last night', 'last night', 'this morning', 'this to-night', \"11 o'clock\", 'every night', 'a minute or so', 'night', 'noon', 'this morning', 'night', 'the previous morning', 'This afternoon', 'night', 'hours', 'night', 'Last night', '9:30 to-night', '4:30 to-morrow afternoon', 'Last night', 'all that night', 'evening', 'last night', \"About eight o'clock\", 'half an hour', 'night', 'ten minutes', 'a few minutes', 'hours', 'this afternoon', 'an hour', 'a little after the hour', 'night', 'one night', 'just before dawn', 'Three nights', 'a few hours', 'an hour', 'this night', 'Last night', 'This morning', \"two o'clock\", 'a few seconds', 'noon', 'noon', 'about five minutes', \"five o'clock\", 'a few minutes', 'at high noon', 'an hour', 'this morning', 'all night', 'dusk', 'the early morning', 'early in the morning', 'last night', 'a couple of hours', 'Good-night', '--This afternoon', 'To-night', 'two nights', 'Good-night', \"eight o'clock\", 'a lovely morning', 'morning', 'this morning', 'this night', 'another hour', 'nights', 'morning', 'last night', 'about two hours', 'night', \"Just before twelve o'clock\", 'twenty-two hours', 'this night', 'this night', 'such an hour', \"ten o'clock\", 'seconds', 'hours', 'a few seconds later', 'early in the morning', 'hour', 'late in the afternoon', '--All last night', \"nearly six o'clock\", 'the hours', \"six o'clock\", 'This afternoon', 'half an hour', 'a few minutes', 'the long hours', \"six o'clock\", 'five minutes', 'another half hour', 'evening', 'the to-night', 'noon', 'five minutes', \"five o'clock\", 'the night before', 'Every hour', 'the night', \"a few minutes'\", 'about twenty minutes', 'late in the evening', 'the following morning', 'night', 'last night', 'late in the morning', 'a bad night', 'last night', 'hours', 'this very hour', 'night', 'this morning', 'night', \"two o'clock\", 'a few minutes', 'hour', \"6 o'clock\", '6:25 to-night', \"eight o'clock\", 'last night', 'a few minutes', 'each hour', 'last night', 'the previous night', 'this afternoon', 'the night', 'another night', \"About ten o'clock\", 'the night', \"a few hours'\", 'noon', \"two o'clock\", 'noon', 'more than an hour', 'last night', 'last night', 'last night', 'one hour', 'this night', 'night', 'morning', 'Last night', \"a little before ten o'clock\", 'this night', 'this night', 'The night', 'several minutes', 'Last night', 'up to an hour ago', 'noon', 'night', \"little before twelve o'clock\", 'last night', 'a few minutes', 'about fifteen minutes', 'an hour', 'night', 'a few minutes', \"nine o'clock\", 'to-night', 'the last hour', 'nights', 'nights', \"five o'clock\", 'a minute', 'Good-evening', 'five minutes', 'this morning', 'this very hour', \"nine o'clock\", 'two hours', \"six o'clock\", 'the hours of the day', 'noon', 'A minute later', 'between the hours of noon', 'this night', 'a few minutes', 'the morning', 'this very hour', 'Good-night', 'a few minutes', 'A few minutes later', 'about a minute three', 'our night', 'a few seconds', 'later in the day', 'noon', \"last night's\", 'this morning', 'This morning', 'one morning', 'last night', 'the morning', 'night', 'a good night', 'Last night', 'afternoon', 'Good-night', 'evening', 'evening', 'the previous night', \"five o'clock that morning\", \"twelve o'clock\", 'dusk', 'a few seconds', 'night', 'before morning', 'this morning', 'This morning', 'last night', 'a little after midnight', 'a few minutes', 'a few minutes', 'a few minutes', 'hours', 'this afternoon', 'a few seconds', 'a few seconds', 'to-night', 'this hour', 'a few seconds', 'a couple of minutes', \"six o'clock\", 'half an hour', 'this morning', 'the minutes and seconds', 'all hour', \"ten o'clock\", 'last night', 'that night', 'a few minutes', 'this evening', \"12:30 o'clock\", 'Last night', 'this morning', 'one hour', '12:45', 'twenty minutes past one', 'hourly', 'a minute', \"five o'clock\", 'the night', 'last night', 'all night', 'morning', 'two or three minutes later', 'this hour', 'a few minutes', 'several minutes', \"three o'clock\", 'last night', 'last afternoon', \"about five o'clock\", 'the river that hour', 'morning', 'this morning', 'half an hour', 'every hour', 'morning', 'afternoon', 'this morning', 'midnight', 'morning', 'a minute', 'Evening', 'some half hour', 'A very few minutes', 'the morning of the 12th', 'the same night', \"about five o'clock\", 'this morning', \"only about 24 hours'\", \"one o'clock\", 'this morning', 'an hour ago', 'About noon', 'some hours', 'last evening', 'last night', 'this morning', 'a few seconds', '6:30', 'night', 'hour', 'so many hours', 'a great hour', 'Last night', 'the night', 'daytime', 'Early this morning', 'three hours', 'this morning', 'a few seconds', 'this morning', 'an hour', 'evening', 'half an hour', 'every minute', 'night', 'night', 'a minute', 'another hour', 'three hours', 'every hour', 'night', 'evening', 'Early this morning', 'morning', 'all night', 'this morning', 'about noon', 'only a few hours', 'noon', 'this morning', 'an hour', 'morning', 'all night', 'night', 'morning', 'morning', 'morning', 'that night', 'before morning', 'morning', 'night', 'the cold hour', 'the cold hour', 'evening', 'afternoon', 'late in the afternoon', 'last night', 'less than an hour']\n",
     "output_type": "stream"
    }
   ],
   "execution_count": null
  },
  {
   "cell_type": "markdown",
   "source": "We can look at the other entities in the summary to have some insights on the content of the story.\n\n<sup>(Mina is quite onmipresent, she's a location here too)</sup>",
   "metadata": {
    "tags": [],
    "cell_id": "00081-5f797c29-d383-4a75-9389-a901cd254e77",
    "deepnote_app_coordinates": {
     "x": 0,
     "y": 359,
     "w": 6,
     "h": 9
    },
    "deepnote_cell_type": "markdown",
    "deepnote_cell_height": 156
   }
  },
  {
   "cell_type": "code",
   "metadata": {
    "tags": [],
    "cell_id": "00038-ded823bd-8711-4027-8249-9f5f66b855d9",
    "deepnote_to_be_reexecuted": false,
    "source_hash": "5e85c0b0",
    "execution_start": 1647082558094,
    "execution_millis": 216,
    "deepnote_app_coordinates": {
     "x": 6,
     "y": 358,
     "w": 5,
     "h": 12
    },
    "deepnote_cell_type": "code",
    "deepnote_cell_height": 524.796875
   },
   "source": "for ent in doc_book_plot.ents:\n    if ent.label_ != 'PERSON' and ent.label_ != 'CARDINAL':\n        print(ent.text, ent.label_)",
   "outputs": [
    {
     "name": "stdout",
     "text": "English NORP\nthe Carpathian Mountains EVENT\nCount ORG\nLondon GPE\nCount ORG\nBudapest GPE\nEngland GPE\nWhitby ORG\nBudapest GPE\nVan Helsing ORG\nSeward ORG\nMina ORG\nTransylvania GPE\nVan Helsing ORG\nGalatz GPE\nRomania GPE\nSzgany LOC\nSzgany LOC\nseven years later DATE\nHarkers ORG\n",
     "output_type": "stream"
    }
   ],
   "execution_count": null
  },
  {
   "cell_type": "markdown",
   "source": "Okay, this is interesting, but we are not here to have a literature class on Bram Stoker's oeuvre.\nWe want to find a good Halloween movie.\n\n\n### Movie adaptations\n\n",
   "metadata": {
    "tags": [],
    "cell_id": "00083-e7816bdc-bab3-41cb-a788-983494e7a458",
    "deepnote_app_coordinates": {
     "x": 0,
     "y": 368,
     "w": 6,
     "h": 7
    },
    "deepnote_cell_type": "markdown",
    "deepnote_cell_height": 165.59375
   }
  },
  {
   "cell_type": "markdown",
   "source": "Screenplays are most of the time under copyright, so we will forget this, I am not a Law student.\n\nMovie descriptions are made to sell and don't tell everything, so this isn't the best.\n\nLuckily we have another option to get a glimpse in the content of a movie: Wikipedia~~!",
   "metadata": {
    "tags": [],
    "cell_id": "00084-c7363dd9-0a08-4010-833e-0ae5715b022b",
    "deepnote_app_coordinates": {
     "x": 0,
     "y": 375,
     "w": 5,
     "h": 10
    },
    "deepnote_cell_type": "markdown",
    "deepnote_cell_height": 259.59375
   }
  },
  {
   "cell_type": "markdown",
   "source": "##### Dataset\n\nJustinR, _Wikipedia Movie Plots (Plot descriptions for ~35,000 movies)_, 2018:\nwww.kaggle.com/jrobischon/wikipedia-movie-plots",
   "metadata": {
    "tags": [],
    "cell_id": "00085-54d71c69-4e55-45cb-9897-fbffc407a296",
    "deepnote_app_coordinates": {
     "x": 5,
     "y": 375,
     "w": 6,
     "h": 6
    },
    "deepnote_cell_type": "markdown",
    "deepnote_cell_height": 178
   }
  },
  {
   "cell_type": "markdown",
   "source": "```sql\nSELECT * FROM plots\nWHERE Title LIKE '%Dracula%'\n```",
   "metadata": {
    "tags": [],
    "cell_id": "00047-14f41acc-2b9b-45fe-9567-ca59dfb6965c",
    "deepnote_app_coordinates": {
     "x": 5,
     "y": 381,
     "w": 6,
     "h": 4
    },
    "deepnote_cell_type": "markdown",
    "deepnote_cell_height": 117.1875
   }
  },
  {
   "cell_type": "markdown",
   "source": "The dataset has a lot of movies. Using SQLite I filtered out movies with the word Dracula in the titles, and saved them in a CSV file which I uploaded here.\n\nThere are a lot of movies that take inspiration from the Dracula legend and vampire myths. This is only a selection of them and I won't dig too deep today. But I still had to do something: add the _Nosferatu_ (1922) movie, the first 'adaptation' of the novel, where the names were changed due to copyrigth. We can't miss on this classic.\n\nI also did minor some changes, such as replacing the plot of _The Return of Dracula_ with the correct one or removing the Bollywood version by Bhooshan Lal as this one sadly doesn't have a plot description on wiki (the plot of the book has used instead, even if there's overlap it isn't the description of the movie). It's always important to check your data for errors!",
   "metadata": {
    "tags": [],
    "cell_id": "00087-35e71228-97c7-4874-a0e6-4052c01bdb45",
    "deepnote_app_coordinates": {
     "x": 0,
     "y": 385,
     "w": 12,
     "h": 12
    },
    "deepnote_cell_type": "markdown",
    "deepnote_cell_height": 662.796875
   }
  },
  {
   "cell_type": "code",
   "metadata": {
    "tags": [],
    "deepnote_variable_name": "df_1",
    "sql_integration_id": "deepnote-dataframe-sql",
    "cell_id": "00086-297dfc05-fa2f-479f-a4ed-14c2829a1ad9",
    "deepnote_to_be_reexecuted": false,
    "source_hash": "25fd752f",
    "execution_start": 1647082558095,
    "execution_millis": 538,
    "deepnote_app_coordinates": {
     "x": 1,
     "y": 397,
     "w": 10,
     "h": 23
    },
    "deepnote_sql_source": "SELECT *, LEN(Plot)\nFROM '/work/dracula_nosferatu_plots.csv'",
    "deepnote_cell_type": "sql",
    "deepnote_cell_height": 693.4375,
    "deepnote_output_heights": [
     606.515625
    ]
   },
   "source": "\n\ndf_1 = _deepnote_execute_sql(\"\"\"SELECT *, LEN(Plot)\nFROM '/work/dracula_nosferatu_plots.csv'\n\"\"\", 'SQL_DEEPNOTE_DATAFRAME_SQL')\ndf_1",
   "outputs": [
    {
     "output_type": "execute_result",
     "execution_count": 45,
     "data": {
      "application/vnd.deepnote.dataframe.v3+json": {
       "column_count": 9,
       "row_count": 27,
       "columns": [
        {
         "name": "ReleaseYear",
         "dtype": "int64",
         "stats": {
          "unique_count": 22,
          "nan_count": 0,
          "min": "1922",
          "max": "2014",
          "histogram": [
           {
            "bin_start": 1922,
            "bin_end": 1931.2,
            "count": 2
           },
           {
            "bin_start": 1931.2,
            "bin_end": 1940.4,
            "count": 1
           },
           {
            "bin_start": 1940.4,
            "bin_end": 1949.6,
            "count": 2
           },
           {
            "bin_start": 1949.6,
            "bin_end": 1958.8,
            "count": 2
           },
           {
            "bin_start": 1958.8,
            "bin_end": 1968,
            "count": 3
           },
           {
            "bin_start": 1968,
            "bin_end": 1977.2,
            "count": 9
           },
           {
            "bin_start": 1977.2,
            "bin_end": 1986.4,
            "count": 1
           },
           {
            "bin_start": 1986.4,
            "bin_end": 1995.6,
            "count": 2
           },
           {
            "bin_start": 1995.6,
            "bin_end": 2004.8,
            "count": 2
           },
           {
            "bin_start": 2004.8,
            "bin_end": 2014,
            "count": 3
           }
          ]
         }
        },
        {
         "name": "Title",
         "dtype": "object",
         "stats": {
          "unique_count": 25,
          "nan_count": 0,
          "categories": [
           {
            "name": "Dracula",
            "count": 3
           },
           {
            "name": "Dracula's Daughter",
            "count": 1
           },
           {
            "name": "23 others",
            "count": 23
           }
          ]
         }
        },
        {
         "name": "Origin/Ethnicity",
         "dtype": "object",
         "stats": {
          "unique_count": 5,
          "nan_count": 0,
          "categories": [
           {
            "name": "American",
            "count": 15
           },
           {
            "name": "British",
            "count": 9
           },
           {
            "name": "3 others",
            "count": 3
           }
          ]
         }
        },
        {
         "name": "Director",
         "dtype": "object",
         "stats": {
          "unique_count": 22,
          "nan_count": 0,
          "categories": [
           {
            "name": "Terence Fisher",
            "count": 3
           },
           {
            "name": "Al Adamson",
            "count": 2
           },
           {
            "name": "20 others",
            "count": 22
           }
          ]
         }
        },
        {
         "name": "Cast",
         "dtype": "object",
         "stats": {
          "unique_count": 27,
          "nan_count": 0,
          "categories": [
           {
            "name": "Bela Lugosi, Helen Chandler, David Manners",
            "count": 1
           },
           {
            "name": "Otto Kruger, Gloria Holden, John Carradine",
            "count": 1
           },
           {
            "name": "25 others",
            "count": 25
           }
          ]
         }
        },
        {
         "name": "Genre",
         "dtype": "object",
         "stats": {
          "unique_count": 5,
          "nan_count": 0,
          "categories": [
           {
            "name": "horror",
            "count": 23
           },
           {
            "name": "western, horror",
            "count": 1
           },
           {
            "name": "3 others",
            "count": 3
           }
          ]
         }
        },
        {
         "name": "WikiPage",
         "dtype": "object",
         "stats": {
          "unique_count": 27,
          "nan_count": 0,
          "categories": [
           {
            "name": "https://en.wikipedia.org/wiki/Dracula_(1931_English-language_film)",
            "count": 1
           },
           {
            "name": "https://en.wikipedia.org/wiki/Dracula%27s_Daughter",
            "count": 1
           },
           {
            "name": "25 others",
            "count": 25
           }
          ]
         }
        },
        {
         "name": "Plot",
         "dtype": "object",
         "stats": {
          "unique_count": 27,
          "nan_count": 0,
          "categories": [
           {
            "name": "Renfield (Dwight Frye) is a solicitor traveling to Count Dracula's (Bela Lugosi) castle in Transylvania on a business matter. The people in the local village fear that vampires inhabit the castle and warn Renfield not to go there. Renfield refuses to stay at the inn and asks his carriage driver to take him to the Borgo Pass. Renfield is driven to the castle by Dracula's coach, with Dracula disguised as the driver. En route, Renfield sticks his head out the window to ask the driver to slow down, but sees the driver has disappeared; a bat leads the horses.\nRenfield enters the castle welcomed by the charming but eccentric Count, who unbeknownst to Renfield, is a vampire. They discuss Dracula's intention to lease Carfax Abbey in London, where he intends to travel the next day. Dracula hypnotizes Renfield into opening a window. Renfield faints as a bat appears and Dracula's three wives close in on him. Dracula waves them away, then attacks Renfield himself.\nAboard the schooner Vesta, Renfield is a raving lunatic slave to Dracula, who hides in a coffin and feeds on the ship's crew. When the ship reaches England, Renfield is discovered to be the only living person. Renfield is sent to Dr. Seward's sanatorium adjoining Carfax Abbey.\nAt a London theatre, Dracula meets Seward (Herbert Bunston). Seward introduces his daughter Mina (Helen Chandler), her fiancé John Harker (David Manners) and the family friend Lucy Weston (Frances Dade). Lucy is fascinated by Count Dracula. That night, Dracula enters her room and feasts on her blood while she sleeps. Lucy dies the next day after a string of transfusions.\nRenfield is obsessed with eating flies and spiders. Professor Van Helsing (Edward Van Sloan) analyzes Renfield's blood and discovers his obsession. He starts talking about vampires, and that afternoon Renfield begs Seward to send him away, claiming his nightly cries may disturb Mina's dreams. When Dracula calls Renfield with wolf howling, Renfield is disturbed by Van Helsing showing him wolfsbane, which Van Helsing says is used for protection from vampires.\nDracula visits Mina, asleep in her bedroom, and bites her. The next evening, Dracula enters for a visit and Van Helsing and Harker notice that he does not have a reflection. When Van Helsing reveals this to Dracula, he smashes the mirror and leaves. Van Helsing deduces that Dracula is the vampire behind the recent tragedies.\nMina leaves her room and runs to Dracula in the garden, where he attacks her. She is found by the maid. Newspapers report that a woman in white is luring children from the park and biting them. Mina recognizes the lady as Lucy, risen as a vampire. Harker wants to take Mina to London for safety, but is convinced to leave Mina with Van Helsing. Van Helsing orders Nurse Briggs (Joan Standing) to take care of Mina when she sleeps, and not to remove the wreath of wolfsbane from her neck.\nRenfield escapes from his cell and listens to the men discuss vampires. Before his attendant takes Renfield back to his cell, Renfield relates to them how Dracula convinced Renfield to allow him to enter the sanitorium by promising him thousands of rats with blood and life in them. Dracula enters the Seward parlour and talks with Van Helsing. Dracula states that Mina now belongs to him, and warns Van Helsing to return to his home country. Van Helsing swears to excavate Carfax Abbey and destroy Dracula. Dracula attempts to hypnotize Van Helsing, but the latter's resolve proves stronger. As Dracula lunges at Van Helsing, he withdraws a crucifix from his coat, forcing Dracula to retreat.\nHarker visits Mina on a terrace, and she speaks of how much she loves \"nights and fogs\". A bat flies above them and squeaks to Mina. She then attacks Harker but Van Helsing and Seward save him. Mina confesses what Dracula has done to her, and tells Harker their love is finished.\nDracula hypnotizes Briggs into removing the wolfsbane from Mina's neck and opening the windows. Van Helsing and Harker see Renfield heading for Carfax Abbey. They see Dracula with Mina in the abbey. When Harker shouts to Mina, Dracula thinks Renfield has led them there and kills him. Dracula is hunted by Van Helsing and Harker knowing that Dracula is forced to sleep in his coffin during daylight, and the sun is rising. Van Helsing prepares a wooden stake while Harker searches for Mina. Van Helsing impales Dracula, killing him, and Mina returns to normal.",
            "count": 1
           },
           {
            "name": "Dracula's Daughter begins a few moments after Dracula ends. Count Dracula has just been destroyed by Professor Von Helsing (Edward Van Sloan). Von Helsing is taken by police to Scotland Yard, where he explains that he indeed did destroy Count Dracula, but because he had already been dead for over 500 years, it cannot be considered murder. Instead of hiring a lawyer, he enlists the aid of a psychiatrist, Dr. Jeffrey Garth (Otto Kruger), who was once one of his star students.\nMeanwhile, Dracula's daughter, Countess Marya Zaleska (Gloria Holden), with the aid of her manservant, Sandor (Irving Pichel), steals Dracula’s body from Scotland Yard and ritualistically burns it, hoping to break her curse of vampirism. However, Sandor soon begins to discourage her telling her that all that is in her eyes is \"death.\" She soon gives into her thirst for blood. The Countess resumes her hunting, mesmerizing her victims with her exotic jeweled ring. After a chance meeting with Dr. Garth at a society party, the Countess asks him to help her overcome the influence she feels from beyond the grave. The doctor advises her to defeat her cravings by confronting them and the Countess becomes hopeful that her will, plus Dr. Garth's science, will be strong enough to overcome Dracula's malevolence.\nThe Countess sends Sandor to fetch her a model to paint; he returns with Lili (Nan Grey). Countess Zaleska initially resists her urges but succumbs and attacks her. Lili survives the attack and is examined by Dr. Garth through hypnosis; she reveals enough information to let Dr. Garth know that it was Countess Zaleska that attacked her, but suffers heart failure and dies. The Countess gives up fighting her urges and accepts that a cure is not possible; she lures Dr. Garth to Transylvania by kidnapping Janet (Marguerite Churchill), his secretary, whom he has a playfully antagonistic relationship with, but now realizes that he cares for her. Zaleska intends to transform Dr. Garth into a vampire to be her eternal companion. Arriving at Castle Dracula in Transylvania, Dr. Garth agrees to exchange his life for Janet's. Before he can be transformed, Countess Zaleska is destroyed when Sandor shoots her through the heart with an arrow as revenge for her breaking her promise to make him immortal. He takes aim at Dr. Garth but is shot dead by a Scotland Yard policeman who, along with Von Helsing, have followed Dr. Garth from London.",
            "count": 1
           },
           {
            "name": "25 others",
            "count": 25
           }
          ]
         }
        },
        {
         "name": "len(plot)",
         "dtype": "int64",
         "stats": {
          "unique_count": 27,
          "nan_count": 0,
          "min": "832",
          "max": "6812",
          "histogram": [
           {
            "bin_start": 832,
            "bin_end": 1430,
            "count": 2
           },
           {
            "bin_start": 1430,
            "bin_end": 2028,
            "count": 1
           },
           {
            "bin_start": 2028,
            "bin_end": 2626,
            "count": 3
           },
           {
            "bin_start": 2626,
            "bin_end": 3224,
            "count": 3
           },
           {
            "bin_start": 3224,
            "bin_end": 3822,
            "count": 7
           },
           {
            "bin_start": 3822,
            "bin_end": 4420,
            "count": 4
           },
           {
            "bin_start": 4420,
            "bin_end": 5018,
            "count": 5
           },
           {
            "bin_start": 5018,
            "bin_end": 5616,
            "count": 0
           },
           {
            "bin_start": 5616,
            "bin_end": 6214,
            "count": 0
           },
           {
            "bin_start": 6214,
            "bin_end": 6812,
            "count": 2
           }
          ]
         }
        },
        {
         "name": "_deepnote_index_column",
         "dtype": "int64"
        }
       ],
       "rows": [
        {
         "ReleaseYear": 1931,
         "Title": "Dracula",
         "Origin/Ethnicity": "American",
         "Director": "Tod Browning",
         "Cast": "Bela Lugosi, Helen Chandler, David Manners",
         "Genre": "horror",
         "WikiPage": "https://en.wikipedia.org/wiki/Dracula_(1931_English-language_film)",
         "Plot": "Renfield (Dwight Frye) is a solicitor traveling to Count Dracula's (Bela Lugosi) castle in Transylv…",
         "len(plot)": 4430,
         "_deepnote_index_column": 0
        },
        {
         "ReleaseYear": 1936,
         "Title": "Dracula's Daughter",
         "Origin/Ethnicity": "American",
         "Director": "Lambert Hillyer",
         "Cast": "Otto Kruger, Gloria Holden, John Carradine",
         "Genre": "horror",
         "WikiPage": "https://en.wikipedia.org/wiki/Dracula%27s_Daughter",
         "Plot": "Dracula's Daughter begins a few moments after Dracula ends. Count Dracula has just been destroyed b…",
         "len(plot)": 2430,
         "_deepnote_index_column": 1
        },
        {
         "ReleaseYear": 1943,
         "Title": "Son of Dracula",
         "Origin/Ethnicity": "American",
         "Director": "Robert Siodmak",
         "Cast": "Lon Chaney, Jr., Evelyn Ankers",
         "Genre": "horror",
         "WikiPage": "https://en.wikipedia.org/wiki/Son_of_Dracula_(1943_film)",
         "Plot": "Hungarian Count Alucard (Lon Chaney Jr.), a mysterious stranger, arrives in the U.S. invited by Kat…",
         "len(plot)": 2810,
         "_deepnote_index_column": 2
        },
        {
         "ReleaseYear": 1945,
         "Title": "House of Dracula",
         "Origin/Ethnicity": "American",
         "Director": "Erle C. Kenton",
         "Cast": "Lon Chaney, John Carradine, Onslow Stevens Martha O'Driscoll, Skelton Knaggs",
         "Genre": "horror",
         "WikiPage": "https://en.wikipedia.org/wiki/House_of_Dracula",
         "Plot": "Count Dracula (Carradine) arrives at the castle home of Dr. Franz Edlemann (Onslow Stevens). The Co…",
         "len(plot)": 4455,
         "_deepnote_index_column": 3
        },
        {
         "ReleaseYear": 1958,
         "Title": "The Return of Dracula",
         "Origin/Ethnicity": "American",
         "Director": "Paul Landres",
         "Cast": "Francis Lederer, Norma Eberhardt",
         "Genre": "horror",
         "WikiPage": "https://en.wikipedia.org/wiki/The_Return_of_Dracula",
         "Plot": "In Central Europe, Investigator John Meierman and several assistants attempt to trap Count Dracula …",
         "len(plot)": 4074,
         "_deepnote_index_column": 4
        },
        {
         "ReleaseYear": 1966,
         "Title": "Billy the Kid vs. Dracula",
         "Origin/Ethnicity": "American",
         "Director": "William Beaudine",
         "Cast": "John Carradine, Chuck Courtney",
         "Genre": "western, horror",
         "WikiPage": "https://en.wikipedia.org/wiki/Billy_the_Kid_vs._Dracula",
         "Plot": "The film centers on Dracula's plot to convert Billy the Kid's fiancee, Betty Bentley, into his vamp…",
         "len(plot)": 1092,
         "_deepnote_index_column": 5
        },
        {
         "ReleaseYear": 1969,
         "Title": "Blood of Dracula's Castle",
         "Origin/Ethnicity": "American",
         "Director": "Al Adamson",
         "Cast": "John Carradine, Robert Dix",
         "Genre": "horror",
         "WikiPage": "https://en.wikipedia.org/wiki/Blood_of_Dracula%27s_Castle",
         "Plot": "Count Dracula (Alexander D'Arcy) and his vampire wife (Paula Raymond), hiding behind the pseudonyms…",
         "len(plot)": 832,
         "_deepnote_index_column": 6
        },
        {
         "ReleaseYear": 1971,
         "Title": "Dracula vs. Frankenstein",
         "Origin/Ethnicity": "American",
         "Director": "Al Adamson",
         "Cast": "Lon Chaney, Jr., J. Carrol Naish",
         "Genre": "horror",
         "WikiPage": "https://en.wikipedia.org/wiki/Dracula_vs._Frankenstein",
         "Plot": "Wheelchair-bound mad scientist Dr. Durea (J. Carrol Naish), the last descendant of the original Dr.…",
         "len(plot)": 3821,
         "_deepnote_index_column": 7
        },
        {
         "ReleaseYear": 1979,
         "Title": "Dracula",
         "Origin/Ethnicity": "American",
         "Director": "John Badham",
         "Cast": "Frank Langella, Laurence Olivier",
         "Genre": "horror",
         "WikiPage": "https://en.wikipedia.org/wiki/Dracula_(1979_film)",
         "Plot": "In Whitby, England in 1913, Count Dracula (Frank Langella) arrives from Transylvania via the ship D…",
         "len(plot)": 3643,
         "_deepnote_index_column": 8
        },
        {
         "ReleaseYear": 1992,
         "Title": "Bram Stoker's Dracula",
         "Origin/Ethnicity": "American",
         "Director": "Francis Ford Coppola",
         "Cast": "Gary Oldman, Winona Ryder, Keanu Reeves, Anthony Hopkins",
         "Genre": "horror",
         "WikiPage": "https://en.wikipedia.org/wiki/Bram_Stoker%27s_Dracula",
         "Plot": "In 1462, Vlad Dracula, a member of the Order of the Dragon, returns from a victory against the Turk…",
         "len(plot)": 4475,
         "_deepnote_index_column": 9
        }
       ]
      },
      "text/plain": "    ReleaseYear                                 Title Origin/Ethnicity  \\\n0          1931                               Dracula         American   \n1          1936                    Dracula's Daughter         American   \n2          1943                        Son of Dracula         American   \n3          1945                      House of Dracula         American   \n4          1958                 The Return of Dracula         American   \n5          1966             Billy the Kid vs. Dracula         American   \n6          1969             Blood of Dracula's Castle         American   \n7          1971              Dracula vs. Frankenstein         American   \n8          1979                               Dracula         American   \n9          1992                 Bram Stoker's Dracula         American   \n10         1995           Dracula: Dead and Loving It         American   \n11         2000                          Dracula 2000         American   \n12         2012                        Dracula Reborn         American   \n13         2013              Dracula: The Dark Prince         American   \n14         2014                        Dracula Untold         American   \n15         1958                               Dracula          British   \n16         1960                 The Brides of Dracula          British   \n17         1966           Dracula: Prince of Darkness          British   \n18         1968      Dracula Has Risen from the Grave          British   \n19         1969            Taste the Blood of Dracula          British   \n20         1970                      Scars of Dracula          British   \n21         1971                      Countess Dracula          British   \n22         1972                       Dracula AD 1972          British   \n23         1974          The Satanic Rites of Dracula          British   \n24         2002  Dracula: Pages from a Virgin's Diary         Canadian   \n25         1971                       Lake of Dracula         Japanese   \n26         1922       Nosferatu: A Symphony of Horror           German   \n\n                           Director  \\\n0                      Tod Browning   \n1                   Lambert Hillyer   \n2                    Robert Siodmak   \n3                    Erle C. Kenton   \n4                      Paul Landres   \n5                  William Beaudine   \n6                        Al Adamson   \n7                        Al Adamson   \n8                       John Badham   \n9              Francis Ford Coppola   \n10                       Mel Brooks   \n11                  Patrick Lussier   \n12                  Patrick McManus   \n13              Pearry Reginald Teo   \n14                       Gary Shore   \n15                   Terence Fisher   \n16                   Terence Fisher   \n17                   Terence Fisher   \n18                  Freddie Francis   \n19                      Peter Sasdy   \n20                   Roy Ward Baker   \n21                      Peter Sasdy   \n22                      Alan Gibson   \n23                      Alan Gibson   \n24                       Guy Maddin   \n25  Yamamoto, MichioMichio Yamamoto   \n26                     F. W. Murnau   \n\n                                                 Cast  \\\n0          Bela Lugosi, Helen Chandler, David Manners   \n1          Otto Kruger, Gloria Holden, John Carradine   \n2                      Lon Chaney, Jr., Evelyn Ankers   \n3   Lon Chaney, John Carradine, Onslow Stevens Mar...   \n4                    Francis Lederer, Norma Eberhardt   \n5                      John Carradine, Chuck Courtney   \n6                          John Carradine, Robert Dix   \n7                    Lon Chaney, Jr., J. Carrol Naish   \n8                    Frank Langella, Laurence Olivier   \n9   Gary Oldman, Winona Ryder, Keanu Reeves, Antho...   \n10  Leslie Nielsen, Peter MacNicol, Steven Weber, ...   \n11  Gerard Butler, Christopher Plummer, Jonny Lee ...   \n12  Corey Landis, Victoria Summer, Krash Miller, S...   \n13             Luke Roberts, Jon Voight, Kelly Wenham   \n14  Luke Evans\\nSarah Gadon\\nDominic Cooper\\nZach ...   \n15                     Peter Cushing, Christopher Lee   \n16                        Peter Cushing, Martita Hunt   \n17                   Christopher Lee, Barbara Shelley   \n18                     Christopher Lee, Rupert Davies   \n19       Christopher Lee, Geoffrey Keen, Gwen Watford   \n20   Christopher Lee, Patrick Troughton, Jenny Hanley   \n21                           Ingrid Pitt, Nigel Green   \n22                     Christopher Lee, Peter Cushing   \n23      Christopher Lee, Peter Cushing, Joanna Lumley   \n24  Johnny W. Chang, Tara Birtwhistle and members ...   \n25          Midori Fujita, Sanae Emi, Choei Takahashi   \n26  Max Schreck, Gustav von Wangenheim, Greta Schr...   \n\n                                               Genre  \\\n0                                             horror   \n1                                             horror   \n2                                             horror   \n3                                             horror   \n4                                             horror   \n5                                    western, horror   \n6                                             horror   \n7                                             horror   \n8                                             horror   \n9                                             horror   \n10                                            comedy   \n11                                            horror   \n12                                            horror   \n13                                            horror   \n14                                           fantasy   \n15                                            horror   \n16                                            horror   \n17                                            horror   \n18                                            horror   \n19                                            horror   \n20                                            horror   \n21                                            horror   \n22                                            horror   \n23                                            horror   \n24  dance film/ horror from the novel by bram stoker   \n25                                            horror   \n26                                            horror   \n\n                                             WikiPage  \\\n0   https://en.wikipedia.org/wiki/Dracula_(1931_En...   \n1   https://en.wikipedia.org/wiki/Dracula%27s_Daug...   \n2   https://en.wikipedia.org/wiki/Son_of_Dracula_(...   \n3      https://en.wikipedia.org/wiki/House_of_Dracula   \n4   https://en.wikipedia.org/wiki/The_Return_of_Dr...   \n5   https://en.wikipedia.org/wiki/Billy_the_Kid_vs...   \n6   https://en.wikipedia.org/wiki/Blood_of_Dracula...   \n7   https://en.wikipedia.org/wiki/Dracula_vs._Fran...   \n8   https://en.wikipedia.org/wiki/Dracula_(1979_film)   \n9   https://en.wikipedia.org/wiki/Bram_Stoker%27s_...   \n10  https://en.wikipedia.org/wiki/Dracula:_Dead_an...   \n11         https://en.wikipedia.org/wiki/Dracula_2000   \n12       https://en.wikipedia.org/wiki/Dracula_Reborn   \n13  https://en.wikipedia.org/wiki/Dracula:_The_Dar...   \n14       https://en.wikipedia.org/wiki/Dracula_Untold   \n15  https://en.wikipedia.org/wiki/Dracula_(1958_film)   \n16  https://en.wikipedia.org/wiki/The_Brides_of_Dr...   \n17  https://en.wikipedia.org/wiki/Dracula:_Prince_...   \n18  https://en.wikipedia.org/wiki/Dracula_Has_Rise...   \n19  https://en.wikipedia.org/wiki/Taste_the_Blood_...   \n20     https://en.wikipedia.org/wiki/Scars_of_Dracula   \n21     https://en.wikipedia.org/wiki/Countess_Dracula   \n22      https://en.wikipedia.org/wiki/Dracula_AD_1972   \n23  https://en.wikipedia.org/wiki/The_Satanic_Rite...   \n24  https://en.wikipedia.org/wiki/Dracula:_Pages_f...   \n25      https://en.wikipedia.org/wiki/Lake_of_Dracula   \n26            https://en.wikipedia.org/wiki/Nosferatu   \n\n                                                 Plot  len(plot)  \n0   Renfield (Dwight Frye) is a solicitor travelin...       4430  \n1   Dracula's Daughter begins a few moments after ...       2430  \n2   Hungarian Count Alucard (Lon Chaney Jr.), a my...       2810  \n3   Count Dracula (Carradine) arrives at the castl...       4455  \n4   In Central Europe, Investigator John Meierman ...       4074  \n5   The film centers on Dracula's plot to convert ...       1092  \n6   Count Dracula (Alexander D'Arcy) and his vampi...        832  \n7   Wheelchair-bound mad scientist Dr. Durea (J. C...       3821  \n8   In Whitby, England in 1913, Count Dracula (Fra...       3643  \n9   In 1462, Vlad Dracula, a member of the Order o...       4475  \n10  Solicitor Thomas Renfield travels all the way ...       4260  \n11  Matthew Van Helsing, the alleged descendant of...       3709  \n12  In Los Angeles, California, realtor Jonathan H...       2743  \n13  Dracula, a Romanian prince, knight of the secr...       4208  \n14  Before the Renaissance, Vlad Țepeș is the Prin...       4597  \n15  In 1885, Jonathan Harker arrives at the castle...       6237  \n16  A gloomy wood is seen as a voice is heard, nar...       6812  \n17  A prologue replays the final scenes from Dracu...       3789  \n18  A year later in 1906, following the events of ...       3395  \n19  Three gentlemen - William Hargood, Samuel Paxt...       4586  \n20  Soon afterwards, the local villagers are enrag...       3587  \n21  In 17th-century Hungary, recently widowed Coun...       1695  \n22  A century later, a new generation of Britons a...       2283  \n23  In 1974, a Secret Service agent (Maurice O'Con...       4272  \n24  In 1897, a visitor from the East, Count Dracul...       3374  \n25  A young girl named Akiko walks loses her dog w...       2783  \n26  In 1838, in the German town of Wisborg, Thomas...       2580  ",
      "text/html": "<div>\n<style scoped>\n    .dataframe tbody tr th:only-of-type {\n        vertical-align: middle;\n    }\n\n    .dataframe tbody tr th {\n        vertical-align: top;\n    }\n\n    .dataframe thead th {\n        text-align: right;\n    }\n</style>\n<table border=\"1\" class=\"dataframe\">\n  <thead>\n    <tr style=\"text-align: right;\">\n      <th></th>\n      <th>ReleaseYear</th>\n      <th>Title</th>\n      <th>Origin/Ethnicity</th>\n      <th>Director</th>\n      <th>Cast</th>\n      <th>Genre</th>\n      <th>WikiPage</th>\n      <th>Plot</th>\n      <th>len(plot)</th>\n    </tr>\n  </thead>\n  <tbody>\n    <tr>\n      <th>0</th>\n      <td>1931</td>\n      <td>Dracula</td>\n      <td>American</td>\n      <td>Tod Browning</td>\n      <td>Bela Lugosi, Helen Chandler, David Manners</td>\n      <td>horror</td>\n      <td>https://en.wikipedia.org/wiki/Dracula_(1931_En...</td>\n      <td>Renfield (Dwight Frye) is a solicitor travelin...</td>\n      <td>4430</td>\n    </tr>\n    <tr>\n      <th>1</th>\n      <td>1936</td>\n      <td>Dracula's Daughter</td>\n      <td>American</td>\n      <td>Lambert Hillyer</td>\n      <td>Otto Kruger, Gloria Holden, John Carradine</td>\n      <td>horror</td>\n      <td>https://en.wikipedia.org/wiki/Dracula%27s_Daug...</td>\n      <td>Dracula's Daughter begins a few moments after ...</td>\n      <td>2430</td>\n    </tr>\n    <tr>\n      <th>2</th>\n      <td>1943</td>\n      <td>Son of Dracula</td>\n      <td>American</td>\n      <td>Robert Siodmak</td>\n      <td>Lon Chaney, Jr., Evelyn Ankers</td>\n      <td>horror</td>\n      <td>https://en.wikipedia.org/wiki/Son_of_Dracula_(...</td>\n      <td>Hungarian Count Alucard (Lon Chaney Jr.), a my...</td>\n      <td>2810</td>\n    </tr>\n    <tr>\n      <th>3</th>\n      <td>1945</td>\n      <td>House of Dracula</td>\n      <td>American</td>\n      <td>Erle C. Kenton</td>\n      <td>Lon Chaney, John Carradine, Onslow Stevens Mar...</td>\n      <td>horror</td>\n      <td>https://en.wikipedia.org/wiki/House_of_Dracula</td>\n      <td>Count Dracula (Carradine) arrives at the castl...</td>\n      <td>4455</td>\n    </tr>\n    <tr>\n      <th>4</th>\n      <td>1958</td>\n      <td>The Return of Dracula</td>\n      <td>American</td>\n      <td>Paul Landres</td>\n      <td>Francis Lederer, Norma Eberhardt</td>\n      <td>horror</td>\n      <td>https://en.wikipedia.org/wiki/The_Return_of_Dr...</td>\n      <td>In Central Europe, Investigator John Meierman ...</td>\n      <td>4074</td>\n    </tr>\n    <tr>\n      <th>5</th>\n      <td>1966</td>\n      <td>Billy the Kid vs. Dracula</td>\n      <td>American</td>\n      <td>William Beaudine</td>\n      <td>John Carradine, Chuck Courtney</td>\n      <td>western, horror</td>\n      <td>https://en.wikipedia.org/wiki/Billy_the_Kid_vs...</td>\n      <td>The film centers on Dracula's plot to convert ...</td>\n      <td>1092</td>\n    </tr>\n    <tr>\n      <th>6</th>\n      <td>1969</td>\n      <td>Blood of Dracula's Castle</td>\n      <td>American</td>\n      <td>Al Adamson</td>\n      <td>John Carradine, Robert Dix</td>\n      <td>horror</td>\n      <td>https://en.wikipedia.org/wiki/Blood_of_Dracula...</td>\n      <td>Count Dracula (Alexander D'Arcy) and his vampi...</td>\n      <td>832</td>\n    </tr>\n    <tr>\n      <th>7</th>\n      <td>1971</td>\n      <td>Dracula vs. Frankenstein</td>\n      <td>American</td>\n      <td>Al Adamson</td>\n      <td>Lon Chaney, Jr., J. Carrol Naish</td>\n      <td>horror</td>\n      <td>https://en.wikipedia.org/wiki/Dracula_vs._Fran...</td>\n      <td>Wheelchair-bound mad scientist Dr. Durea (J. C...</td>\n      <td>3821</td>\n    </tr>\n    <tr>\n      <th>8</th>\n      <td>1979</td>\n      <td>Dracula</td>\n      <td>American</td>\n      <td>John Badham</td>\n      <td>Frank Langella, Laurence Olivier</td>\n      <td>horror</td>\n      <td>https://en.wikipedia.org/wiki/Dracula_(1979_film)</td>\n      <td>In Whitby, England in 1913, Count Dracula (Fra...</td>\n      <td>3643</td>\n    </tr>\n    <tr>\n      <th>9</th>\n      <td>1992</td>\n      <td>Bram Stoker's Dracula</td>\n      <td>American</td>\n      <td>Francis Ford Coppola</td>\n      <td>Gary Oldman, Winona Ryder, Keanu Reeves, Antho...</td>\n      <td>horror</td>\n      <td>https://en.wikipedia.org/wiki/Bram_Stoker%27s_...</td>\n      <td>In 1462, Vlad Dracula, a member of the Order o...</td>\n      <td>4475</td>\n    </tr>\n    <tr>\n      <th>10</th>\n      <td>1995</td>\n      <td>Dracula: Dead and Loving It</td>\n      <td>American</td>\n      <td>Mel Brooks</td>\n      <td>Leslie Nielsen, Peter MacNicol, Steven Weber, ...</td>\n      <td>comedy</td>\n      <td>https://en.wikipedia.org/wiki/Dracula:_Dead_an...</td>\n      <td>Solicitor Thomas Renfield travels all the way ...</td>\n      <td>4260</td>\n    </tr>\n    <tr>\n      <th>11</th>\n      <td>2000</td>\n      <td>Dracula 2000</td>\n      <td>American</td>\n      <td>Patrick Lussier</td>\n      <td>Gerard Butler, Christopher Plummer, Jonny Lee ...</td>\n      <td>horror</td>\n      <td>https://en.wikipedia.org/wiki/Dracula_2000</td>\n      <td>Matthew Van Helsing, the alleged descendant of...</td>\n      <td>3709</td>\n    </tr>\n    <tr>\n      <th>12</th>\n      <td>2012</td>\n      <td>Dracula Reborn</td>\n      <td>American</td>\n      <td>Patrick McManus</td>\n      <td>Corey Landis, Victoria Summer, Krash Miller, S...</td>\n      <td>horror</td>\n      <td>https://en.wikipedia.org/wiki/Dracula_Reborn</td>\n      <td>In Los Angeles, California, realtor Jonathan H...</td>\n      <td>2743</td>\n    </tr>\n    <tr>\n      <th>13</th>\n      <td>2013</td>\n      <td>Dracula: The Dark Prince</td>\n      <td>American</td>\n      <td>Pearry Reginald Teo</td>\n      <td>Luke Roberts, Jon Voight, Kelly Wenham</td>\n      <td>horror</td>\n      <td>https://en.wikipedia.org/wiki/Dracula:_The_Dar...</td>\n      <td>Dracula, a Romanian prince, knight of the secr...</td>\n      <td>4208</td>\n    </tr>\n    <tr>\n      <th>14</th>\n      <td>2014</td>\n      <td>Dracula Untold</td>\n      <td>American</td>\n      <td>Gary Shore</td>\n      <td>Luke Evans\\nSarah Gadon\\nDominic Cooper\\nZach ...</td>\n      <td>fantasy</td>\n      <td>https://en.wikipedia.org/wiki/Dracula_Untold</td>\n      <td>Before the Renaissance, Vlad Țepeș is the Prin...</td>\n      <td>4597</td>\n    </tr>\n    <tr>\n      <th>15</th>\n      <td>1958</td>\n      <td>Dracula</td>\n      <td>British</td>\n      <td>Terence Fisher</td>\n      <td>Peter Cushing, Christopher Lee</td>\n      <td>horror</td>\n      <td>https://en.wikipedia.org/wiki/Dracula_(1958_film)</td>\n      <td>In 1885, Jonathan Harker arrives at the castle...</td>\n      <td>6237</td>\n    </tr>\n    <tr>\n      <th>16</th>\n      <td>1960</td>\n      <td>The Brides of Dracula</td>\n      <td>British</td>\n      <td>Terence Fisher</td>\n      <td>Peter Cushing, Martita Hunt</td>\n      <td>horror</td>\n      <td>https://en.wikipedia.org/wiki/The_Brides_of_Dr...</td>\n      <td>A gloomy wood is seen as a voice is heard, nar...</td>\n      <td>6812</td>\n    </tr>\n    <tr>\n      <th>17</th>\n      <td>1966</td>\n      <td>Dracula: Prince of Darkness</td>\n      <td>British</td>\n      <td>Terence Fisher</td>\n      <td>Christopher Lee, Barbara Shelley</td>\n      <td>horror</td>\n      <td>https://en.wikipedia.org/wiki/Dracula:_Prince_...</td>\n      <td>A prologue replays the final scenes from Dracu...</td>\n      <td>3789</td>\n    </tr>\n    <tr>\n      <th>18</th>\n      <td>1968</td>\n      <td>Dracula Has Risen from the Grave</td>\n      <td>British</td>\n      <td>Freddie Francis</td>\n      <td>Christopher Lee, Rupert Davies</td>\n      <td>horror</td>\n      <td>https://en.wikipedia.org/wiki/Dracula_Has_Rise...</td>\n      <td>A year later in 1906, following the events of ...</td>\n      <td>3395</td>\n    </tr>\n    <tr>\n      <th>19</th>\n      <td>1969</td>\n      <td>Taste the Blood of Dracula</td>\n      <td>British</td>\n      <td>Peter Sasdy</td>\n      <td>Christopher Lee, Geoffrey Keen, Gwen Watford</td>\n      <td>horror</td>\n      <td>https://en.wikipedia.org/wiki/Taste_the_Blood_...</td>\n      <td>Three gentlemen - William Hargood, Samuel Paxt...</td>\n      <td>4586</td>\n    </tr>\n    <tr>\n      <th>20</th>\n      <td>1970</td>\n      <td>Scars of Dracula</td>\n      <td>British</td>\n      <td>Roy Ward Baker</td>\n      <td>Christopher Lee, Patrick Troughton, Jenny Hanley</td>\n      <td>horror</td>\n      <td>https://en.wikipedia.org/wiki/Scars_of_Dracula</td>\n      <td>Soon afterwards, the local villagers are enrag...</td>\n      <td>3587</td>\n    </tr>\n    <tr>\n      <th>21</th>\n      <td>1971</td>\n      <td>Countess Dracula</td>\n      <td>British</td>\n      <td>Peter Sasdy</td>\n      <td>Ingrid Pitt, Nigel Green</td>\n      <td>horror</td>\n      <td>https://en.wikipedia.org/wiki/Countess_Dracula</td>\n      <td>In 17th-century Hungary, recently widowed Coun...</td>\n      <td>1695</td>\n    </tr>\n    <tr>\n      <th>22</th>\n      <td>1972</td>\n      <td>Dracula AD 1972</td>\n      <td>British</td>\n      <td>Alan Gibson</td>\n      <td>Christopher Lee, Peter Cushing</td>\n      <td>horror</td>\n      <td>https://en.wikipedia.org/wiki/Dracula_AD_1972</td>\n      <td>A century later, a new generation of Britons a...</td>\n      <td>2283</td>\n    </tr>\n    <tr>\n      <th>23</th>\n      <td>1974</td>\n      <td>The Satanic Rites of Dracula</td>\n      <td>British</td>\n      <td>Alan Gibson</td>\n      <td>Christopher Lee, Peter Cushing, Joanna Lumley</td>\n      <td>horror</td>\n      <td>https://en.wikipedia.org/wiki/The_Satanic_Rite...</td>\n      <td>In 1974, a Secret Service agent (Maurice O'Con...</td>\n      <td>4272</td>\n    </tr>\n    <tr>\n      <th>24</th>\n      <td>2002</td>\n      <td>Dracula: Pages from a Virgin's Diary</td>\n      <td>Canadian</td>\n      <td>Guy Maddin</td>\n      <td>Johnny W. Chang, Tara Birtwhistle and members ...</td>\n      <td>dance film/ horror from the novel by bram stoker</td>\n      <td>https://en.wikipedia.org/wiki/Dracula:_Pages_f...</td>\n      <td>In 1897, a visitor from the East, Count Dracul...</td>\n      <td>3374</td>\n    </tr>\n    <tr>\n      <th>25</th>\n      <td>1971</td>\n      <td>Lake of Dracula</td>\n      <td>Japanese</td>\n      <td>Yamamoto, MichioMichio Yamamoto</td>\n      <td>Midori Fujita, Sanae Emi, Choei Takahashi</td>\n      <td>horror</td>\n      <td>https://en.wikipedia.org/wiki/Lake_of_Dracula</td>\n      <td>A young girl named Akiko walks loses her dog w...</td>\n      <td>2783</td>\n    </tr>\n    <tr>\n      <th>26</th>\n      <td>1922</td>\n      <td>Nosferatu: A Symphony of Horror</td>\n      <td>German</td>\n      <td>F. W. Murnau</td>\n      <td>Max Schreck, Gustav von Wangenheim, Greta Schr...</td>\n      <td>horror</td>\n      <td>https://en.wikipedia.org/wiki/Nosferatu</td>\n      <td>In 1838, in the German town of Wisborg, Thomas...</td>\n      <td>2580</td>\n    </tr>\n  </tbody>\n</table>\n</div>"
     },
     "metadata": {}
    }
   ],
   "execution_count": null
  },
  {
   "cell_type": "markdown",
   "source": "Deepnote allows us to explore the data in an interactive way. If you want you want, there are features to visualize it too.\n\nWe can see that Dracula movies aren't always Horror movie: the genre can be Fantasy, Western and Dance too.\n\nTerence Fisher directed the most of Dracula movies.\n\nIt is also important to note that the length of the plot description varies. The shortest being around 800 characters and the longuest almost 7000.",
   "metadata": {
    "tags": [],
    "cell_id": "00089-e2729653-9a7e-4001-b9a6-8789ac6934c0",
    "deepnote_app_coordinates": {
     "x": 0,
     "y": 420,
     "w": 12,
     "h": 9
    },
    "deepnote_cell_type": "markdown",
    "deepnote_cell_height": 408
   }
  },
  {
   "cell_type": "code",
   "metadata": {
    "tags": [],
    "cell_id": "00049-b05b4963-9098-47a4-ba6f-c5ce7fec6035",
    "deepnote_to_be_reexecuted": false,
    "source_hash": "72598ae3",
    "execution_start": 1647082558642,
    "execution_millis": 6,
    "deepnote_app_coordinates": {
     "x": 6,
     "y": 429,
     "w": 6,
     "h": 5
    },
    "deepnote_cell_type": "code",
    "deepnote_cell_height": 117
   },
   "source": "with open('/work/dracula_nosferatu_plots.csv', newline='') as f:\n    reader = csv.reader(f)\n    movie_plots = list(reader)",
   "outputs": [],
   "execution_count": null
  },
  {
   "cell_type": "markdown",
   "source": "For my own convenience I choose to use a nested lists format for the CSV file, but you can ude Pandas dataframes or SQL integrations too. These allow for extra features on Deepnote.",
   "metadata": {
    "tags": [],
    "cell_id": "00091-66382b63-22b3-4895-88d0-cbbe283d2571",
    "deepnote_app_coordinates": {
     "x": 0,
     "y": 429,
     "w": 6,
     "h": 5
    },
    "deepnote_cell_type": "markdown",
    "deepnote_cell_height": 164.390625
   }
  },
  {
   "cell_type": "code",
   "metadata": {
    "tags": [],
    "cell_id": "00048-9e146c7b-59c9-4022-8158-99856ce78998",
    "deepnote_to_be_reexecuted": false,
    "source_hash": "33225b5c",
    "execution_start": 1647082558662,
    "execution_millis": 11207105166,
    "deepnote_cell_type": "code",
    "deepnote_cell_height": 116.3125
   },
   "source": "print(movie_plots[0])",
   "outputs": [
    {
     "name": "stdout",
     "text": "['ReleaseYear', 'Title', 'Origin/Ethnicity', 'Director', 'Cast', 'Genre', 'WikiPage', 'Plot']\n",
     "output_type": "stream"
    }
   ],
   "execution_count": null
  },
  {
   "cell_type": "markdown",
   "source": "As there are a lot of movies, I made a class for them",
   "metadata": {
    "tags": [],
    "cell_id": "00093-154b4bbb-6338-4421-bcd3-bd726a10439c",
    "deepnote_app_coordinates": {
     "x": 0,
     "y": 437,
     "w": 4,
     "h": 4
    },
    "deepnote_cell_type": "markdown",
    "deepnote_cell_height": 74.796875
   }
  },
  {
   "cell_type": "code",
   "metadata": {
    "tags": [],
    "cell_id": "00050-9252f1f9-dcde-4355-80ca-1d9e8da8b870",
    "deepnote_to_be_reexecuted": false,
    "source_hash": "d7a2d8bb",
    "execution_start": 1647082558669,
    "execution_millis": 4,
    "deepnote_app_coordinates": {
     "x": 4,
     "y": 434,
     "w": 8,
     "h": 11
    },
    "deepnote_cell_type": "code",
    "deepnote_cell_height": 297
   },
   "source": "class movie:\n    instances = []\n\n    def __init__(self, item, varname):\n        self.name = varname\n        self.release_year = item[0]\n        self.title = item[1]\n        self.plot = item[-1]\n        self.__class__.instances.append(self)\n\n    def spacy_magic(self):\n        self.nlp = nlp(self.plot)\n",
   "outputs": [],
   "execution_count": null
  },
  {
   "cell_type": "code",
   "metadata": {
    "tags": [],
    "cell_id": "00053-b55e9a9f-b7cd-48a5-ba7e-f1ddad5558bc",
    "deepnote_to_be_reexecuted": false,
    "source_hash": "109d2de5",
    "execution_start": 1647082558710,
    "execution_millis": 3,
    "deepnote_cell_type": "code",
    "deepnote_cell_height": 118.171875,
    "deepnote_output_heights": [
     21.1875
    ]
   },
   "source": "Counter([film[0] for film in movie_plots]).most_common(5)",
   "outputs": [
    {
     "output_type": "execute_result",
     "execution_count": 49,
     "data": {
      "text/plain": "[('1971', 3), ('1958', 2), ('1966', 2), ('1969', 2), ('ReleaseYear', 1)]"
     },
     "metadata": {}
    }
   ],
   "execution_count": null
  },
  {
   "cell_type": "code",
   "metadata": {
    "tags": [],
    "cell_id": "00096-11645c04-65da-4d30-af2c-7b75f8f44729",
    "deepnote_to_be_reexecuted": false,
    "source_hash": "6b35cc37",
    "execution_start": 1647082558711,
    "execution_millis": 2,
    "deepnote_cell_type": "code",
    "deepnote_cell_height": 195,
    "deepnote_output_heights": [
     98
    ]
   },
   "source": "Counter([film[1] for film in movie_plots]).most_common(5)",
   "outputs": [
    {
     "output_type": "execute_result",
     "execution_count": 50,
     "data": {
      "text/plain": "[('Dracula', 3),\n ('Title', 1),\n (\"Dracula's Daughter\", 1),\n ('Son of Dracula', 1),\n ('House of Dracula', 1)]"
     },
     "metadata": {}
    }
   ],
   "execution_count": null
  },
  {
   "cell_type": "markdown",
   "source": "I want each to have a distinct variable name, so I will use a combination of the release year and three first letters of the title",
   "metadata": {
    "tags": [],
    "cell_id": "00096-0e0550dc-9e2d-40d0-859a-c6af64b622a6",
    "deepnote_app_coordinates": {
     "x": 0,
     "y": 441,
     "w": 4,
     "h": 6
    },
    "deepnote_cell_type": "markdown",
    "deepnote_cell_height": 119.59375
   }
  },
  {
   "cell_type": "code",
   "metadata": {
    "tags": [],
    "cell_id": "00053-e75e68cb-df8b-4bed-bcdf-03f8cf0fb6fd",
    "deepnote_to_be_reexecuted": false,
    "source_hash": "ef28173c",
    "execution_start": 1647082558712,
    "execution_millis": 0,
    "deepnote_app_coordinates": {
     "x": 4,
     "y": 445,
     "w": 8,
     "h": 7
    },
    "deepnote_cell_type": "code",
    "deepnote_cell_height": 171
   },
   "source": "for film in movie_plots[1:]:\n    #make name\n    varname = film[0] + film[1][:3]\n\n    #make movie object\n    globals()[varname] = movie(film, varname)",
   "outputs": [],
   "execution_count": null
  },
  {
   "cell_type": "code",
   "metadata": {
    "tags": [],
    "cell_id": "00055-523a879f-8be1-4d18-9202-50bfc43a9c6f",
    "deepnote_to_be_reexecuted": false,
    "source_hash": "88bdabdb",
    "execution_start": 1647082558716,
    "execution_millis": 4,
    "deepnote_cell_type": "code",
    "deepnote_cell_height": 134.3125
   },
   "source": "for film in movie.instances:\n    print(film.name, end = ' ')",
   "outputs": [
    {
     "name": "stdout",
     "text": "1931Dra 1936Dra 1943Son 1945Hou 1958The 1966Bil 1969Blo 1971Dra 1979Dra 1992Bra 1995Dra 2000Dra 2012Dra 2013Dra 2014Dra 1958Dra 1960The 1966Dra 1968Dra 1969Tas 1970Sca 1971Cou 1972Dra 1974The 2002Dra 1971Lak 1922Nos ",
     "output_type": "stream"
    }
   ],
   "execution_count": null
  },
  {
   "cell_type": "markdown",
   "source": "Let's put their plot through the NLP pipeline",
   "metadata": {
    "tags": [],
    "cell_id": "00100-e63aa9de-d075-4074-99df-654ab0c93e5e",
    "deepnote_app_coordinates": {
     "x": 0,
     "y": 447,
     "w": 4,
     "h": 3
    },
    "deepnote_cell_type": "markdown",
    "deepnote_cell_height": 74.796875
   }
  },
  {
   "cell_type": "code",
   "metadata": {
    "tags": [],
    "cell_id": "00056-fb650311-4a3d-412d-a953-7be50073648b",
    "deepnote_to_be_reexecuted": false,
    "source_hash": "f09f0d59",
    "execution_start": 1647082558769,
    "execution_millis": 4362,
    "deepnote_app_coordinates": {
     "x": 0,
     "y": 452,
     "w": 12,
     "h": 3
    },
    "deepnote_cell_type": "code",
    "deepnote_cell_height": 99
   },
   "source": "for film in movie.instances:\n    film.spacy_magic()",
   "outputs": [],
   "execution_count": null
  },
  {
   "cell_type": "markdown",
   "source": "We can now look at characters that are in the movies but not in the original book:",
   "metadata": {
    "tags": [],
    "cell_id": "00102-d9bf8e6e-d173-4b1c-9256-5d1d0194a0c2",
    "deepnote_app_coordinates": {
     "x": 0,
     "y": 455,
     "w": 3,
     "h": 6
    },
    "deepnote_cell_type": "markdown",
    "deepnote_cell_height": 97.1875
   }
  },
  {
   "cell_type": "code",
   "metadata": {
    "tags": [],
    "cell_id": "00058-0640c020-f753-4a85-9c83-8476e9dfcb93",
    "deepnote_to_be_reexecuted": false,
    "source_hash": "317294ad",
    "execution_start": 1647082563161,
    "execution_millis": 387,
    "deepnote_app_coordinates": {
     "x": 4,
     "y": 455,
     "w": 8,
     "h": 19
    },
    "deepnote_app_is_code_hidden": true,
    "deepnote_cell_type": "code",
    "deepnote_cell_height": 755
   },
   "source": "for film in movie.instances:\n    print('\\n', film.title, film.release_year, 'new characters:')\n    characters_wiki = [ent.text for ent in film.nlp.ents if ent.label_ == 'PERSON']\n    print(set(characters_wiki) - set(characters_book))",
   "outputs": [
    {
     "name": "stdout",
     "text": "\n Dracula 1931 new characters:\n{'Helen Chandler', 'Dwight Frye', 'John Harker', 'Lucy Weston', 'Dracula with Mina', 'Carfax Abbey', 'Joan Standing', 'Edward Van Sloan', 'Briggs', 'Herbert Bunston', 'Bela Lugosi', 'Nurse Briggs', \"Count Dracula's\", 'David Manners'}\n\n Dracula's Daughter 1936 new characters:\n{'Irving Pichel', 'Otto Kruger', 'Countess Zaleska', 'Countess', 'Gloria Holden', 'Von Helsing', 'Countess Marya', 'Sandor', 'Janet', 'Edward Van Sloan', 'Garth', 'Lili (Nan Grey', 'Jeffrey Garth'}\n\n Son of Dracula 1943 new characters:\n{'Katherine Caldwell', 'Brewster', 'Katherine', 'George Irving', 'Claire', 'Frank', 'Alucard', 'Louise Allbritton', 'Frank Stanley', 'Caldwell'}\n\n House of Dracula 1945 new characters:\n{'Niemann', 'Onslow Stevens', \"Martha O'Driscoll\", 'Latos', 'Lawrence Talbot', 'Frankenstein', 'Steinmuhl', 'Skelton Knaggs', 'Franz Edlemann', 'Lionel Atwill', 'Holtz', 'Jane Adams', 'Talbot', 'Edlemann'}\n\n The Return of Dracula 1958 new characters:\n{'Jennie', 'Whitfield', 'Cora', 'Tim', 'John Meierman', 'Rachel', 'Bryant', 'Bellac Gordal', 'Mickey', 'Bellac', 'Meierman', 'Mack Bryant'}\n\n Billy the Kid vs. Dracula 1966 new characters:\n{\"Billy the Kid's\", 'Underhill', 'Billy', 'Betty Bentley'}\n\n Blood of Dracula's Castle 1969 new characters:\n{'John Carradine', 'Paula Raymond', 'George (', 'Johnny'}\n\n Dracula vs. Frankenstein 1971 new characters:\n{'Judith Fontaine', 'Mike Howard', 'Rico', 'Frankenstein', 'Mike', 'Forrest J. Ackerman', 'Greydon Clark', 'Judith', 'Anthony Eisley', 'Grazbo', 'Monster', 'Durea', 'Martin', 'Angelo Rossitto', 'Joanie', 'Anne Morrell', 'J. Carrol Naish', 'Roger Engel', 'John Bloom', 'Beaumont', 'Jim Davis', 'Russ Tamblyn', 'Groton'}\n\n Dracula 1979 new characters:\n{'Donald Pleasence', 'Demeter', 'James Bond', 'Trevor Eve', 'Carfax Abbey', 'Frank Langella', 'Kate Nelligan', 'Lucy Seward', 'Jan Francis', 'Tony Haygarth', 'Milo Renfield', 'Maurice Binder'}\n\n Bram Stoker's Dracula 1992 new characters:\n{'Vlad Dracula', 'Carfax Abbey', 'hunt Dracula', 'Jonathan meets Dracula'}\n\n Dracula: Dead and Loving It 1995 new characters:\n{'Dwight Frye', 'Thomas Renfield', 'Carfax Abbey', 'Dracula grabs Mina', \"Count Dracula's\"}\n\n Dracula 2000 2000 new characters:\n{'Valerie', 'Lucy Westerman', 'Simon Sheppard', 'Carfax Abbey', 'Simon', 'Matthew Van Helsing', 'Mary Heller', 'Mary escape'}\n\n Dracula Reborn 2012 new characters:\n{'Krash Miller', 'Linda Bella', 'Vladimir Sarkany', 'Lucy Spencer', 'Ian Pfister', 'Quincy Morris', 'Corey Landis', 'Quincy', 'Lina', 'Stuart Rigby', 'Keith Reay', 'Dani Lennon', 'Joan Seward', 'James Hillier', 'Charlie Garcia', 'Victoria Summer'}\n\n Dracula: The Dark Prince 2013 new characters:\n{'Leonardo', 'Andros', 'Erzebet', 'Lightbringer', 'Demetria', 'Leonardo Van Helsing', 'Lucian', 'Lucien'}\n\n Dracula Untold 2014 new characters:\n{'Mirena', 'Broken Tooth Mountain', 'Mehmed', 'Sultan Mehmed II', 'Vlad', 'Janissaries', 'Impaler', 'Vlad Țepeș'}\n\n Dracula 1958 new characters:\n{'Holmwoods', 'Soon Dracula', 'Tania', 'Gerda', 'Lucy Holmwood', 'Karlstadt'}\n\n The Brides of Dracula 1960 new characters:\n{'Baroness', 'Stepnik', 'Meinster', 'Gina', 'Helsing', \"M. R. James'\", 'Marianne Danielle', 'Marianne', 'Greta'}\n\n Dracula: Prince of Darkness 1966 new characters:\n{'Diana', 'Helen', 'Sandor', 'Klove', 'Alan', 'Charles shoots', 'Charles'}\n\n Dracula Has Risen from the Grave 1968 new characters:\n{'Barry Andrews', 'Zena', 'Barbara Ewing', 'Veronica Carlson', 'Ernest Mueller', 'Ewan Hooper', 'Mueller', 'Rupert Davies', 'Anna', 'Maria under', 'Paul', 'Maria'}\n\n Taste the Blood of Dracula 1969 new characters:\n{'Jeremy', 'Courtley', 'Alice', 'Hargood', 'William Hargood', 'Samuel Paxton', 'Prayer', 'Jonathon Secker', 'Paul', 'Paxton'}\n\n Scars of Dracula 1970 new characters:\n{'Sarah Framsen', 'Simon Carlson', 'Klove', 'Tania', 'Paul Carlson', 'Sarah'}\n\n Countess Dracula 1971 new characters:\n{'Ilona', 'Fabio', 'Toth', 'Dobi', 'Julie', 'Elisabeth', 'Hungarian Countess', 'Countess Ilona', 'Imre Toth', 'Countess Dracula'}\n\n Dracula AD 1972 1972 new characters:\n{'Marsha Hunt', 'Laura Bellows', 'Stephanie Beacham', 'Jessica', 'Britons', 'Lorrimer', 'Jessica Van Helsing', 'Gaynor Keating', 'Caroline Munro', 'Michael Coles', 'Bob', 'Laura', 'Peter Cushing', 'Philip Miller', 'Christopher Neame', 'Lorrimer Van Helsing', 'Alucard accidentally', 'Johnny Alucard', 'Alucard'}\n\n The Satanic Rites of Dracula 1974 new characters:\n{'Valerie Van Ost', 'Torrence', 'Jessica', \"Maurice O'Connell\", 'Joanna Lumley', 'Julian Keeley', 'Keeley', 'John Porter', 'Jane', 'Richard Vernon', 'Michael Coles', 'Chin Yang', 'William Franklyn', 'Peter Cushing', 'Christopher Lee', 'Lorrimer Van Helsing', 'D. D. Denham', 'Barbara Yu Ling', 'Richard Mathews'}\n\n Dracula: Pages from a Virgin's Diary 2002 new characters:\n{'Jonathon Harker'}\n\n Lake of Dracula 1971 new characters:\n{'Takashi Saki', 'Maki', 'Takahashi', 'Saki', 'Akiko', 'Mori Kishida', 'Kusaku', 'Natsuko'}\n\n Nosferatu: A Symphony of Horror 1922 new characters:\n{'Bulwer', 'Herr Knock', 'Hutter', 'Ellen', 'Count Orlok', 'Thomas Hutter', 'Harding', \"Count Orlok's\"}\n",
     "output_type": "stream"
    }
   ],
   "execution_count": null
  },
  {
   "cell_type": "markdown",
   "source": "Some have a totally different cast of characters!\n\n_Dracula: Pages from a Virgin's Diary_ seem to be the least different in terms of characters. The new names that spaCy found are due to different spellings (Jonathon or Jonathan, a 'Soon' or ''s' that shouldn't be there).",
   "metadata": {
    "tags": [],
    "cell_id": "00104-708b6d70-c2a3-4c3f-9a55-ba22b86bdc68",
    "deepnote_app_coordinates": {
     "x": 0,
     "y": 461,
     "w": 4,
     "h": 13
    },
    "deepnote_cell_type": "markdown",
    "deepnote_cell_height": 245.59375
   }
  },
  {
   "cell_type": "markdown",
   "source": "We can also look where the stories take place:",
   "metadata": {
    "tags": [],
    "cell_id": "00105-fd583a45-ce4d-4f14-afba-58e928609527",
    "deepnote_app_coordinates": {
     "x": 0,
     "y": 474,
     "w": 12,
     "h": 2
    },
    "deepnote_cell_type": "markdown",
    "deepnote_cell_height": 74.796875
   }
  },
  {
   "cell_type": "code",
   "metadata": {
    "tags": [],
    "cell_id": "00096-84f21e35-e591-498c-bb99-dff47a8b0fba",
    "deepnote_to_be_reexecuted": false,
    "source_hash": "52a6f126",
    "execution_start": 1647082563177,
    "execution_millis": 378,
    "deepnote_app_coordinates": {
     "x": 0,
     "y": 476,
     "w": 12,
     "h": 8
    },
    "deepnote_cell_type": "code",
    "deepnote_cell_height": 755
   },
   "source": "for film in movie.instances:\n    print('\\n', film.title, film.release_year, 'focus:')\n    focus = [ent.text for ent in film.nlp.ents if (ent.label_ in ('GPE', 'FAC', 'ORG'))]\n    print(set(focus))",
   "outputs": [
    {
     "name": "stdout",
     "text": "\n Dracula 1931 focus:\n{'Mina', 'Van Helsing', 'England', 'Harker', 'Vesta', 'Transylvania', 'London'}\n\n Dracula's Daughter 1936 focus:\n{'Scotland Yard', 'Countess', 'Castle Dracula', 'Zaleska', 'Transylvania', 'London'}\n\n Son of Dracula 1943 focus:\n{'Brewster', 'Count', 'Katherine', 'Dark Oaks', 'U.S.', 'New Orleans', 'Alucard', 'Sheriff'}\n\n House of Dracula 1945 focus:\n{'Visaria', 'Count', 'Wolfman', 'Nina', 'Edlemann', 'Milizia', 'Talbot'}\n\n The Return of Dracula 1958 focus:\n{'Jennie', 'Carleton', 'Germany', 'Rachel', 'the United States', 'Mickey', 'Bellac', 'California'}\n\n Billy the Kid vs. Dracula 1966 focus:\n{'Count', 'Bentley', 'Betty'}\n\n Blood of Dracula's Castle 1969 focus:\n{'Count and Countess Townsend', 'California', \"Shea's Castle\", 'Arizona', 'Bloody Marys', 'Lancaster'}\n\n Dracula vs. Frankenstein 1971 focus:\n{'Judith', 'Jr.', 'Emporium', 'Lon Chaney', 'Las Vegas', 'Durea', 'Venice', 'Samantha', 'Martin', 'the Creature Emporium', 'California'}\n\n Dracula 1979 focus:\n{'Count', 'Romania', 'Whitby', 'England', 'Harker', 'Transylvania'}\n\n Bram Stoker's Dracula 1992 focus:\n{'Count', 'Varna', 'Romania', 'London', 'Van Helsing', 'Bowie', 'England', 'Elisabeta', 'Jonathan and Mina', 'Seward', 'Transylvania', 'the Order of the Dragon', 'Holmwood'}\n\n Dracula: Dead and Loving It 1995 focus:\n{'Van Hesling', 'England', 'opera house', 'Transylvania', 'Carfax', 'London', 'Moldavian'}\n\n Dracula 2000 2000 focus:\n{'Solina', 'Louisiana', 'Van Helsing', 'Marcus', 'England', 'New Orleans', 'London', 'America', 'Sun'}\n\n Dracula Reborn 2012 focus:\n{'Varna', 'Los Angeles', 'Van Helsing', 'Lina', 'Holmwood', 'California'}\n\n Dracula: The Dark Prince 2013 focus:\n{'Esme', 'Erzebet', 'Alina', 'Abel', \"Lucien's\"}\n\n Dracula Untold 2014 focus:\n{'Renaissance', 'Mirena', 'the Ottoman Empire', 'London', 'Mehmed', 'Cozia Monastery', 'Castle Dracula', 'the Prince of Wallachia', 'Transylvania', 'Easter', 'Janissaries', 'Vlad', 'Îngeraș', 'Ingeras'}\n\n Dracula 1958 focus:\n{'Arthur guard', \"Van Helsing's\", 'Ingolstadt', 'Klausenberg', 'Arthur', 'Van Helsing', 'Tania', 'Gerda', 'Harker', 'Dracula', 'the Virgin Mary', 'Klausenburg'}\n\n The Brides of Dracula 1960 focus:\n{\"Van Helsing's\", 'Baroness', 'Severin', 'Van Helsing', 'Transylvania', 'Baron', 'Marianne'}\n\n Dracula: Prince of Darkness 1966 focus:\n{'Diana', 'Count', 'Kents', 'Van Helsing', 'Helen', 'Ludwig', 'Alan', 'Karlsbad'}\n\n Dracula Has Risen from the Grave 1968 focus:\n{'Castle Dracula', 'Keinenberg', 'Mueller'}\n\n Taste the Blood of Dracula 1969 focus:\n{'Jeremy', 'Secker', 'Alice', 'Hargood', 'Paul and Alice', 'Weller', 'the Cafe Royal', 'Courtley', 'Paul', 'Paxton'}\n\n Scars of Dracula 1970 focus:\n{'Count', 'Castle Dracula', 'Klove', 'Tania', 'Kleinenberg'}\n\n Countess Dracula 1971 focus:\n{'Hungary', 'Dobi'}\n\n Dracula AD 1972 1972 focus:\n{'Lorrimer Van Helsing', \"St. Bartolph's\", 'Van Helsing', 'Jessica', 'Murray'}\n\n The Satanic Rites of Dracula 1974 focus:\n{\"Van Helsing's\", 'Colonel Mathews', 'Torrence', 'Count', 'Keeley', 'Van Helsing', \"Scotland Yard's\", 'Secret Service', 'Freddie Jones', 'Murray', 'Undead'}\n\n Dracula: Pages from a Virgin's Diary 2002 focus:\n{\"Van Helsing's\", 'the Brides of Dracula', 'Van Helsing', 'Castle Dracula', 'Brides of Dracula', 'Harker', 'London'}\n\n Lake of Dracula 1971 focus:\n{'Japan', 'Natsuko', 'Natsuku'}\n\n Nosferatu: A Symphony of Horror 1922 focus:\n{'Orlok', 'Transylvania', 'Wisborg'}\n",
     "output_type": "stream"
    }
   ],
   "execution_count": null
  },
  {
   "cell_type": "markdown",
   "source": "Or the overall tone of the plots",
   "metadata": {
    "tags": [],
    "cell_id": "00107-65adc9f5-5fc6-40d1-a91b-5ee2425d9167",
    "deepnote_app_coordinates": {
     "x": 0,
     "y": 485,
     "w": 12,
     "h": 2
    },
    "deepnote_cell_type": "markdown",
    "deepnote_cell_height": 52.390625
   }
  },
  {
   "cell_type": "code",
   "metadata": {
    "tags": [],
    "cell_id": "00097-b57e1a7a-2d04-4f61-a4e8-d0b0ce03815f",
    "deepnote_to_be_reexecuted": false,
    "source_hash": "54158236",
    "execution_start": 1647082563220,
    "execution_millis": 336,
    "deepnote_app_coordinates": {
     "x": 0,
     "y": 487,
     "w": 12,
     "h": 6
    },
    "deepnote_cell_type": "code",
    "deepnote_cell_height": 719
   },
   "source": "for film in movie.instances:\n    print('\\n', film.title, film.release_year, 'average plot mood: ', round(film.nlp._.polarity, 2))",
   "outputs": [
    {
     "name": "stdout",
     "text": "\n Dracula 1931 average plot mood:  0.02\n\n Dracula's Daughter 1936 average plot mood:  -0.04\n\n Son of Dracula 1943 average plot mood:  -0.01\n\n House of Dracula 1945 average plot mood:  -0.1\n\n The Return of Dracula 1958 average plot mood:  -0.1\n\n Billy the Kid vs. Dracula 1966 average plot mood:  0.34\n\n Blood of Dracula's Castle 1969 average plot mood:  -0.05\n\n Dracula vs. Frankenstein 1971 average plot mood:  0.1\n\n Dracula 1979 average plot mood:  0.0\n\n Bram Stoker's Dracula 1992 average plot mood:  -0.09\n\n Dracula: Dead and Loving It 1995 average plot mood:  -0.0\n\n Dracula 2000 2000 average plot mood:  -0.03\n\n Dracula Reborn 2012 average plot mood:  0.04\n\n Dracula: The Dark Prince 2013 average plot mood:  0.03\n\n Dracula Untold 2014 average plot mood:  0.07\n\n Dracula 1958 average plot mood:  -0.02\n\n The Brides of Dracula 1960 average plot mood:  -0.01\n\n Dracula: Prince of Darkness 1966 average plot mood:  0.03\n\n Dracula Has Risen from the Grave 1968 average plot mood:  0.06\n\n Taste the Blood of Dracula 1969 average plot mood:  -0.08\n\n Scars of Dracula 1970 average plot mood:  0.05\n\n Countess Dracula 1971 average plot mood:  0.1\n\n Dracula AD 1972 1972 average plot mood:  -0.1\n\n The Satanic Rites of Dracula 1974 average plot mood:  -0.02\n\n Dracula: Pages from a Virgin's Diary 2002 average plot mood:  0.06\n\n Lake of Dracula 1971 average plot mood:  -0.02\n\n Nosferatu: A Symphony of Horror 1922 average plot mood:  0.11\n",
     "output_type": "stream"
    }
   ],
   "execution_count": null
  },
  {
   "cell_type": "markdown",
   "source": "We can order them:",
   "metadata": {
    "tags": [],
    "cell_id": "00109-48a4ba36-2e92-451f-a5fe-8b9cd695f2c6",
    "deepnote_cell_type": "markdown",
    "deepnote_cell_height": 52.390625
   }
  },
  {
   "cell_type": "code",
   "metadata": {
    "tags": [],
    "cell_id": "00097-0c49d106-8141-453d-98e2-f07dae0d5336",
    "deepnote_to_be_reexecuted": false,
    "source_hash": "7f8929d3",
    "execution_start": 1647082563240,
    "execution_millis": 1,
    "deepnote_cell_type": "code",
    "deepnote_cell_height": 243
   },
   "source": "titles = []\nids = []\nmoods = []\n\nfor film in movie.instances:\n    titles.append(film.title)\n    ids.append(film.name)\n    moods.append(film.nlp._.polarity)\n\ndf_sentiments = pd.DataFrame(data = {'id' : ids, 'title' : titles, 'mood' : moods})",
   "outputs": [],
   "execution_count": null
  },
  {
   "cell_type": "code",
   "metadata": {
    "tags": [],
    "cell_id": "00098-4e8b8111-3781-40f9-a30c-24c2c14434b6",
    "deepnote_to_be_reexecuted": false,
    "source_hash": "34514476",
    "execution_start": 1647082563305,
    "execution_millis": 272,
    "deepnote_app_coordinates": {
     "x": 0,
     "y": 493,
     "w": 12,
     "h": 12
    },
    "deepnote_app_is_code_hidden": true,
    "deepnote_cell_type": "code",
    "deepnote_cell_height": 635.4375,
    "deepnote_output_heights": [
     611
    ]
   },
   "source": "df_sentiments.sort_values(by='mood')",
   "outputs": [
    {
     "output_type": "execute_result",
     "execution_count": 58,
     "data": {
      "application/vnd.deepnote.dataframe.v3+json": {
       "column_count": 3,
       "row_count": 27,
       "columns": [
        {
         "name": "id",
         "dtype": "object",
         "stats": {
          "unique_count": 27,
          "nan_count": 0,
          "categories": [
           {
            "name": "1945Hou",
            "count": 1
           },
           {
            "name": "1972Dra",
            "count": 1
           },
           {
            "name": "25 others",
            "count": 25
           }
          ]
         }
        },
        {
         "name": "title",
         "dtype": "object",
         "stats": {
          "unique_count": 25,
          "nan_count": 0,
          "categories": [
           {
            "name": "Dracula",
            "count": 3
           },
           {
            "name": "House of Dracula",
            "count": 1
           },
           {
            "name": "23 others",
            "count": 23
           }
          ]
         }
        },
        {
         "name": "mood",
         "dtype": "float64",
         "stats": {
          "unique_count": 27,
          "nan_count": 0,
          "min": "-0.09889705882352944",
          "max": "0.3425685425685425",
          "histogram": [
           {
            "bin_start": -0.09889705882352944,
            "bin_end": -0.05475049868432224,
            "count": 5
           },
           {
            "bin_start": -0.05475049868432224,
            "bin_end": -0.010603938545115044,
            "count": 7
           },
           {
            "bin_start": -0.010603938545115044,
            "bin_end": 0.033542621594092145,
            "count": 6
           },
           {
            "bin_start": 0.033542621594092145,
            "bin_end": 0.07768918173329935,
            "count": 5
           },
           {
            "bin_start": 0.07768918173329935,
            "bin_end": 0.12183574187250655,
            "count": 3
           },
           {
            "bin_start": 0.12183574187250655,
            "bin_end": 0.1659823020117137,
            "count": 0
           },
           {
            "bin_start": 0.1659823020117137,
            "bin_end": 0.21012886215092091,
            "count": 0
           },
           {
            "bin_start": 0.21012886215092091,
            "bin_end": 0.2542754222901281,
            "count": 0
           },
           {
            "bin_start": 0.2542754222901281,
            "bin_end": 0.2984219824293353,
            "count": 0
           },
           {
            "bin_start": 0.2984219824293353,
            "bin_end": 0.3425685425685425,
            "count": 1
           }
          ]
         }
        },
        {
         "name": "_deepnote_index_column",
         "dtype": "int64"
        }
       ],
       "rows": [
        {
         "id": "1945Hou",
         "title": "House of Dracula",
         "mood": -0.09889705882352944,
         "_deepnote_index_column": 3
        },
        {
         "id": "1972Dra",
         "title": "Dracula AD 1972",
         "mood": -0.09835115864527628,
         "_deepnote_index_column": 22
        },
        {
         "id": "1958The",
         "title": "The Return of Dracula",
         "mood": -0.09565295815295814,
         "_deepnote_index_column": 4
        },
        {
         "id": "1992Bra",
         "title": "Bram Stoker's Dracula",
         "mood": -0.0946408529741863,
         "_deepnote_index_column": 9
        },
        {
         "id": "1969Tas",
         "title": "Taste the Blood of Dracula",
         "mood": -0.07720923520923523,
         "_deepnote_index_column": 19
        },
        {
         "id": "1969Blo",
         "title": "Blood of Dracula's Castle",
         "mood": -0.052500000000000005,
         "_deepnote_index_column": 6
        },
        {
         "id": "1936Dra",
         "title": "Dracula's Daughter",
         "mood": -0.03809523809523811,
         "_deepnote_index_column": 1
        },
        {
         "id": "2000Dra",
         "title": "Dracula 2000",
         "mood": -0.033274833274833285,
         "_deepnote_index_column": 11
        },
        {
         "id": "1974The",
         "title": "The Satanic Rites of Dracula",
         "mood": -0.02083333333333334,
         "_deepnote_index_column": 23
        },
        {
         "id": "1971Lak",
         "title": "Lake of Dracula",
         "mood": -0.019658119658119665,
         "_deepnote_index_column": 25
        }
       ]
      },
      "text/plain": "         id                                 title      mood\n3   1945Hou                      House of Dracula -0.098897\n22  1972Dra                       Dracula AD 1972 -0.098351\n4   1958The                 The Return of Dracula -0.095653\n9   1992Bra                 Bram Stoker's Dracula -0.094641\n19  1969Tas            Taste the Blood of Dracula -0.077209\n6   1969Blo             Blood of Dracula's Castle -0.052500\n1   1936Dra                    Dracula's Daughter -0.038095\n11  2000Dra                          Dracula 2000 -0.033275\n23  1974The          The Satanic Rites of Dracula -0.020833\n25  1971Lak                       Lake of Dracula -0.019658\n15  1958Dra                               Dracula -0.016742\n2   1943Son                        Son of Dracula -0.012447\n16  1960The                 The Brides of Dracula -0.009354\n10  1995Dra           Dracula: Dead and Loving It -0.003981\n8   1979Dra                               Dracula  0.004738\n0   1931Dra                               Dracula  0.022863\n13  2013Dra              Dracula: The Dark Prince  0.027395\n17  1966Dra           Dracula: Prince of Darkness  0.029464\n12  2012Dra                        Dracula Reborn  0.037106\n20  1970Sca                      Scars of Dracula  0.050076\n18  1968Dra      Dracula Has Risen from the Grave  0.061003\n24  2002Dra  Dracula: Pages from a Virgin's Diary  0.061753\n14  2014Dra                        Dracula Untold  0.068846\n7   1971Dra              Dracula vs. Frankenstein  0.095052\n21  1971Cou                      Countess Dracula  0.099380\n26  1922Nos       Nosferatu: A Symphony of Horror  0.110963\n5   1966Bil             Billy the Kid vs. Dracula  0.342569",
      "text/html": "<div>\n<style scoped>\n    .dataframe tbody tr th:only-of-type {\n        vertical-align: middle;\n    }\n\n    .dataframe tbody tr th {\n        vertical-align: top;\n    }\n\n    .dataframe thead th {\n        text-align: right;\n    }\n</style>\n<table border=\"1\" class=\"dataframe\">\n  <thead>\n    <tr style=\"text-align: right;\">\n      <th></th>\n      <th>id</th>\n      <th>title</th>\n      <th>mood</th>\n    </tr>\n  </thead>\n  <tbody>\n    <tr>\n      <th>3</th>\n      <td>1945Hou</td>\n      <td>House of Dracula</td>\n      <td>-0.098897</td>\n    </tr>\n    <tr>\n      <th>22</th>\n      <td>1972Dra</td>\n      <td>Dracula AD 1972</td>\n      <td>-0.098351</td>\n    </tr>\n    <tr>\n      <th>4</th>\n      <td>1958The</td>\n      <td>The Return of Dracula</td>\n      <td>-0.095653</td>\n    </tr>\n    <tr>\n      <th>9</th>\n      <td>1992Bra</td>\n      <td>Bram Stoker's Dracula</td>\n      <td>-0.094641</td>\n    </tr>\n    <tr>\n      <th>19</th>\n      <td>1969Tas</td>\n      <td>Taste the Blood of Dracula</td>\n      <td>-0.077209</td>\n    </tr>\n    <tr>\n      <th>6</th>\n      <td>1969Blo</td>\n      <td>Blood of Dracula's Castle</td>\n      <td>-0.052500</td>\n    </tr>\n    <tr>\n      <th>1</th>\n      <td>1936Dra</td>\n      <td>Dracula's Daughter</td>\n      <td>-0.038095</td>\n    </tr>\n    <tr>\n      <th>11</th>\n      <td>2000Dra</td>\n      <td>Dracula 2000</td>\n      <td>-0.033275</td>\n    </tr>\n    <tr>\n      <th>23</th>\n      <td>1974The</td>\n      <td>The Satanic Rites of Dracula</td>\n      <td>-0.020833</td>\n    </tr>\n    <tr>\n      <th>25</th>\n      <td>1971Lak</td>\n      <td>Lake of Dracula</td>\n      <td>-0.019658</td>\n    </tr>\n    <tr>\n      <th>15</th>\n      <td>1958Dra</td>\n      <td>Dracula</td>\n      <td>-0.016742</td>\n    </tr>\n    <tr>\n      <th>2</th>\n      <td>1943Son</td>\n      <td>Son of Dracula</td>\n      <td>-0.012447</td>\n    </tr>\n    <tr>\n      <th>16</th>\n      <td>1960The</td>\n      <td>The Brides of Dracula</td>\n      <td>-0.009354</td>\n    </tr>\n    <tr>\n      <th>10</th>\n      <td>1995Dra</td>\n      <td>Dracula: Dead and Loving It</td>\n      <td>-0.003981</td>\n    </tr>\n    <tr>\n      <th>8</th>\n      <td>1979Dra</td>\n      <td>Dracula</td>\n      <td>0.004738</td>\n    </tr>\n    <tr>\n      <th>0</th>\n      <td>1931Dra</td>\n      <td>Dracula</td>\n      <td>0.022863</td>\n    </tr>\n    <tr>\n      <th>13</th>\n      <td>2013Dra</td>\n      <td>Dracula: The Dark Prince</td>\n      <td>0.027395</td>\n    </tr>\n    <tr>\n      <th>17</th>\n      <td>1966Dra</td>\n      <td>Dracula: Prince of Darkness</td>\n      <td>0.029464</td>\n    </tr>\n    <tr>\n      <th>12</th>\n      <td>2012Dra</td>\n      <td>Dracula Reborn</td>\n      <td>0.037106</td>\n    </tr>\n    <tr>\n      <th>20</th>\n      <td>1970Sca</td>\n      <td>Scars of Dracula</td>\n      <td>0.050076</td>\n    </tr>\n    <tr>\n      <th>18</th>\n      <td>1968Dra</td>\n      <td>Dracula Has Risen from the Grave</td>\n      <td>0.061003</td>\n    </tr>\n    <tr>\n      <th>24</th>\n      <td>2002Dra</td>\n      <td>Dracula: Pages from a Virgin's Diary</td>\n      <td>0.061753</td>\n    </tr>\n    <tr>\n      <th>14</th>\n      <td>2014Dra</td>\n      <td>Dracula Untold</td>\n      <td>0.068846</td>\n    </tr>\n    <tr>\n      <th>7</th>\n      <td>1971Dra</td>\n      <td>Dracula vs. Frankenstein</td>\n      <td>0.095052</td>\n    </tr>\n    <tr>\n      <th>21</th>\n      <td>1971Cou</td>\n      <td>Countess Dracula</td>\n      <td>0.099380</td>\n    </tr>\n    <tr>\n      <th>26</th>\n      <td>1922Nos</td>\n      <td>Nosferatu: A Symphony of Horror</td>\n      <td>0.110963</td>\n    </tr>\n    <tr>\n      <th>5</th>\n      <td>1966Bil</td>\n      <td>Billy the Kid vs. Dracula</td>\n      <td>0.342569</td>\n    </tr>\n  </tbody>\n</table>\n</div>"
     },
     "metadata": {}
    }
   ],
   "execution_count": null
  },
  {
   "cell_type": "markdown",
   "source": "Even if it is a horror movie, _Billy the Kid vs. Dracula_ seems to be the most positive one",
   "metadata": {
    "tags": [],
    "cell_id": "00112-7ef529f9-5c49-4d07-99d3-ec3971fe97d3",
    "deepnote_app_coordinates": {
     "x": 0,
     "y": 505,
     "w": 4,
     "h": 5
    },
    "deepnote_cell_type": "markdown",
    "deepnote_cell_height": 97.1875
   }
  },
  {
   "cell_type": "markdown",
   "source": "We can also look at how the mood changes through the movies:",
   "metadata": {
    "tags": [],
    "cell_id": "00113-e7f14755-8df2-4cd1-9785-cda732243aec",
    "deepnote_app_coordinates": {
     "x": 0,
     "y": 510,
     "w": 4,
     "h": 4
    },
    "deepnote_cell_type": "markdown",
    "deepnote_cell_height": 74.796875
   }
  },
  {
   "cell_type": "code",
   "metadata": {
    "tags": [],
    "cell_id": "00099-e56a206f-0d05-48c8-a6f5-7b037cf189ed",
    "deepnote_to_be_reexecuted": false,
    "source_hash": "b0e48752",
    "execution_start": 1647082563318,
    "execution_millis": 4,
    "deepnote_cell_type": "code",
    "deepnote_cell_height": 225
   },
   "source": "def plot_sentiments(film):\n    sentiments = [sent._.polarity for sent in film.nlp.sents if sent._.polarity != 0]\n    plt.figure(figsize=(10, 0.5))\n\n    plt.plot(sentiments)\n    plt.title(f'Sentiments in {film.title} ({film.release_year})', size = 15)\n\n    # remove tick labels as they don't mean much here\n    plt.tick_params(labelleft=False, labelbottom=False)",
   "outputs": [],
   "execution_count": null
  },
  {
   "cell_type": "code",
   "metadata": {
    "tags": [],
    "cell_id": "00100-14e2f9ce-4ff0-492a-94d3-5f525e2d3581",
    "deepnote_to_be_reexecuted": false,
    "source_hash": "44c4e642",
    "execution_start": 1647082563377,
    "execution_millis": 5219,
    "deepnote_app_coordinates": {
     "x": 4,
     "y": 505,
     "w": 8,
     "h": 8
    },
    "deepnote_app_is_code_hidden": true,
    "deepnote_cell_type": "code",
    "deepnote_cell_height": 1751.359375,
    "deepnote_output_heights": [
     null,
     28.21875,
     28.21875,
     28.21875,
     28.21875,
     28.21875,
     28.21875,
     28.21875,
     28.21875,
     26.75,
     28.21875,
     28.21875,
     28.21875,
     28.21875,
     28.21875,
     28.21875,
     28.21875,
     28.21875,
     28.21875,
     28.21875,
     28.21875,
     28.21875,
     28.21875,
     28.21875,
     28.21875,
     28.21875,
     28.21875,
     28.21875
    ]
   },
   "source": "for film in movie.instances:\n    plot_sentiments(film)",
   "outputs": [
    {
     "name": "stderr",
     "text": "/shared-libs/python3.7/py-core/lib/python3.7/site-packages/ipykernel_launcher.py:3: RuntimeWarning: More than 20 figures have been opened. Figures created through the pyplot interface (`matplotlib.pyplot.figure`) are retained until explicitly closed and may consume too much memory. (To control this warning, see the rcParam `figure.max_open_warning`).\n  This is separate from the ipykernel package so we can avoid doing imports until\n",
     "output_type": "stream"
    },
    {
     "data": {
      "text/plain": "<Figure size 720x36 with 1 Axes>",
      "image/png": "[encoded data removed]"
     },
     "metadata": {
      "image/png": {
       "width": 575,
       "height": 63
      }
     },
     "output_type": "display_data"
    },
    {
     "data": {
      "text/plain": "<Figure size 720x36 with 1 Axes>",
      "image/png": "[encoded data removed]"
     },
     "metadata": {
      "image/png": {
       "width": 575,
       "height": 63
      }
     },
     "output_type": "display_data"
    },
    {
     "data": {
      "text/plain": "<Figure size 720x36 with 1 Axes>",
      "image/png": "[encoded data removed]"
     },
     "metadata": {
      "image/png": {
       "width": 575,
       "height": 63
      }
     },
     "output_type": "display_data"
    },
    {
     "data": {
      "text/plain": "<Figure size 720x36 with 1 Axes>",
      "image/png": "[encoded data removed]"
     },
     "metadata": {
      "image/png": {
       "width": 575,
       "height": 63
      }
     },
     "output_type": "display_data"
    },
    {
     "data": {
      "text/plain": "<Figure size 720x36 with 1 Axes>",
      "image/png": "[encoded data removed]"
     },
     "metadata": {
      "image/png": {
       "width": 575,
       "height": 63
      }
     },
     "output_type": "display_data"
    },
    {
     "data": {
      "text/plain": "<Figure size 720x36 with 1 Axes>",
      "image/png": "[encoded data removed]"
     },
     "metadata": {
      "image/png": {
       "width": 575,
       "height": 63
      }
     },
     "output_type": "display_data"
    },
    {
     "data": {
      "text/plain": "<Figure size 720x36 with 1 Axes>",
      "image/png": "[encoded data removed]"
     },
     "metadata": {
      "image/png": {
       "width": 575,
       "height": 63
      }
     },
     "output_type": "display_data"
    },
    {
     "data": {
      "text/plain": "<Figure size 720x36 with 1 Axes>",
      "image/png": "[encoded data removed]"
     },
     "metadata": {
      "image/png": {
       "width": 575,
       "height": 63
      }
     },
     "output_type": "display_data"
    },
    {
     "data": {
      "text/plain": "<Figure size 720x36 with 1 Axes>",
      "image/png": "[encoded data removed]"
     },
     "metadata": {
      "image/png": {
       "width": 575,
       "height": 63
      }
     },
     "output_type": "display_data"
    },
    {
     "data": {
      "text/plain": "<Figure size 720x36 with 1 Axes>",
      "image/png": "[encoded data removed]"
     },
     "metadata": {
      "image/png": {
       "width": 575,
       "height": 63
      }
     },
     "output_type": "display_data"
    },
    {
     "data": {
      "text/plain": "<Figure size 720x36 with 1 Axes>",
      "image/png": "[encoded data removed]"
     },
     "metadata": {
      "image/png": {
       "width": 575,
       "height": 63
      }
     },
     "output_type": "display_data"
    },
    {
     "data": {
      "text/plain": "<Figure size 720x36 with 1 Axes>",
      "image/png": "[encoded data removed]"
     },
     "metadata": {
      "image/png": {
       "width": 575,
       "height": 63
      }
     },
     "output_type": "display_data"
    },
    {
     "data": {
      "text/plain": "<Figure size 720x36 with 1 Axes>",
      "image/png": "[encoded data removed]"
     },
     "metadata": {
      "image/png": {
       "width": 575,
       "height": 63
      }
     },
     "output_type": "display_data"
    },
    {
     "data": {
      "text/plain": "<Figure size 720x36 with 1 Axes>",
      "image/png": "[encoded data removed]"
     },
     "metadata": {
      "image/png": {
       "width": 575,
       "height": 63
      }
     },
     "output_type": "display_data"
    },
    {
     "data": {
      "text/plain": "<Figure size 720x36 with 1 Axes>",
      "image/png": "[encoded data removed]"
     },
     "metadata": {
      "image/png": {
       "width": 575,
       "height": 63
      }
     },
     "output_type": "display_data"
    },
    {
     "data": {
      "text/plain": "<Figure size 720x36 with 1 Axes>",
      "image/png": "[encoded data removed]"
     },
     "metadata": {
      "image/png": {
       "width": 575,
       "height": 63
      }
     },
     "output_type": "display_data"
    },
    {
     "data": {
      "text/plain": "<Figure size 720x36 with 1 Axes>",
      "image/png": "[encoded data removed]"
     },
     "metadata": {
      "image/png": {
       "width": 575,
       "height": 63
      }
     },
     "output_type": "display_data"
    },
    {
     "data": {
      "text/plain": "<Figure size 720x36 with 1 Axes>",
      "image/png": "[encoded data removed]"
     },
     "metadata": {
      "image/png": {
       "width": 575,
       "height": 63
      }
     },
     "output_type": "display_data"
    },
    {
     "data": {
      "text/plain": "<Figure size 720x36 with 1 Axes>",
      "image/png": "[encoded data removed]"
     },
     "metadata": {
      "image/png": {
       "width": 575,
       "height": 63
      }
     },
     "output_type": "display_data"
    },
    {
     "data": {
      "text/plain": "<Figure size 720x36 with 1 Axes>",
      "image/png": "[encoded data removed]"
     },
     "metadata": {
      "image/png": {
       "width": 575,
       "height": 63
      }
     },
     "output_type": "display_data"
    },
    {
     "data": {
      "text/plain": "<Figure size 720x36 with 1 Axes>",
      "image/png": "[encoded data removed]"
     },
     "metadata": {
      "image/png": {
       "width": 575,
       "height": 63
      }
     },
     "output_type": "display_data"
    },
    {
     "data": {
      "text/plain": "<Figure size 720x36 with 1 Axes>",
      "image/png": "[encoded data removed]"
     },
     "metadata": {
      "image/png": {
       "width": 575,
       "height": 63
      }
     },
     "output_type": "display_data"
    },
    {
     "data": {
      "text/plain": "<Figure size 720x36 with 1 Axes>",
      "image/png": "[encoded data removed]"
     },
     "metadata": {
      "image/png": {
       "width": 575,
       "height": 63
      }
     },
     "output_type": "display_data"
    },
    {
     "data": {
      "text/plain": "<Figure size 720x36 with 1 Axes>",
      "image/png": "[encoded data removed]"
     },
     "metadata": {
      "image/png": {
       "width": 575,
       "height": 63
      }
     },
     "output_type": "display_data"
    },
    {
     "data": {
      "text/plain": "<Figure size 720x36 with 1 Axes>",
      "image/png": "[encoded data removed]"
     },
     "metadata": {
      "image/png": {
       "width": 575,
       "height": 63
      }
     },
     "output_type": "display_data"
    },
    {
     "data": {
      "text/plain": "<Figure size 720x36 with 1 Axes>",
      "image/png": "[encoded data removed]"
     },
     "metadata": {
      "image/png": {
       "width": 575,
       "height": 63
      }
     },
     "output_type": "display_data"
    },
    {
     "data": {
      "text/plain": "<Figure size 720x36 with 1 Axes>",
      "image/png": "[encoded data removed]"
     },
     "metadata": {
      "image/png": {
       "width": 575,
       "height": 63
      }
     },
     "output_type": "display_data"
    }
   ],
   "execution_count": null
  },
  {
   "cell_type": "code",
   "metadata": {
    "tags": [],
    "cell_id": "00102-79b2ae62-afbb-4a31-b92f-ffcba5c27605",
    "deepnote_to_be_reexecuted": false,
    "source_hash": "b9e9e0f2",
    "execution_start": 1647082568634,
    "execution_millis": 0,
    "deepnote_app_coordinates": {
     "x": 5,
     "y": 516,
     "w": 7,
     "h": 5
    },
    "deepnote_cell_type": "code",
    "deepnote_cell_height": 207
   },
   "source": "def display_only_entities(doc, types):\n    previous = [] # to look for duplicates\n\n    for ent in doc.nlp.ents:\n        if (ent.text in previous) == False:\n            if ent.label_ in types:\n                displacy.render(ent, style='ent', jupyter='True')\n                previous.append(ent.text)",
   "outputs": [],
   "execution_count": null
  },
  {
   "cell_type": "markdown",
   "source": "With some widgets we can browse the content of the movies in a more fluid way, and without revealing the plot!",
   "metadata": {
    "tags": [],
    "cell_id": "00117-8adb336d-95af-4d3a-b027-8f9a7e37b3ea",
    "deepnote_app_coordinates": {
     "x": 0,
     "y": 516,
     "w": 5,
     "h": 5
    },
    "deepnote_cell_type": "markdown",
    "deepnote_cell_height": 119.59375
   }
  },
  {
   "cell_type": "code",
   "metadata": {
    "tags": [],
    "cell_id": "00100-77be1b99-6c27-49c3-9d1e-b4259eac518b",
    "deepnote_to_be_reexecuted": false,
    "source_hash": "7f39ac80",
    "execution_start": 1647082568635,
    "execution_millis": 2,
    "deepnote_cell_type": "code",
    "deepnote_cell_height": 118.171875,
    "deepnote_output_heights": [
     21.1875
    ]
   },
   "source": "len(movie.instances)",
   "outputs": [
    {
     "output_type": "execute_result",
     "execution_count": 62,
     "data": {
      "text/plain": "27"
     },
     "metadata": {}
    }
   ],
   "execution_count": null
  },
  {
   "cell_type": "code",
   "metadata": {
    "deepnote_variable_name": "movienum",
    "deepnote_variable_value": "15",
    "deepnote_slider_min_value": 1,
    "deepnote_slider_max_value": 28,
    "deepnote_slider_step": 1,
    "cell_id": "00101-673899c0-8314-4cd1-99da-088de10abc3a",
    "deepnote_to_be_reexecuted": false,
    "source_hash": "2c129220",
    "execution_start": 1647082568636,
    "execution_millis": 11207102392,
    "deepnote_app_coordinates": {
     "x": 4,
     "y": 522,
     "w": 8,
     "h": 4
    },
    "deepnote_cell_type": "input-slider",
    "deepnote_cell_height": 88.796875
   },
   "source": "movienum = 15",
   "outputs": [],
   "execution_count": null
  },
  {
   "cell_type": "code",
   "metadata": {
    "deepnote_variable_name": "focus",
    "deepnote_variable_value": "Universe",
    "deepnote_variable_options": [
     "Universe",
     "Characters",
     "Time"
    ],
    "deepnote_variable_custom_options": [
     "Universe",
     "Characters",
     "Time"
    ],
    "deepnote_variable_selected_variable": "",
    "deepnote_variable_select_type": "from-options",
    "cell_id": "00102-f5b9fd2e-b0c5-4d4e-b449-db60de88bc3a",
    "deepnote_to_be_reexecuted": false,
    "source_hash": "ae14871c",
    "execution_start": 1647082568661,
    "execution_millis": 11207102373,
    "deepnote_app_coordinates": {
     "x": 1,
     "y": 522,
     "w": 3,
     "h": 4
    },
    "deepnote_cell_type": "input-select",
    "deepnote_cell_height": 79.1875
   },
   "source": "focus = 'Universe'",
   "outputs": [],
   "execution_count": null
  },
  {
   "cell_type": "code",
   "metadata": {
    "tags": [],
    "cell_id": "00122-d4657020-8b13-400d-9ad1-b3d264297f0c",
    "deepnote_to_be_reexecuted": false,
    "source_hash": "3fc7f063",
    "execution_start": 1647082568662,
    "execution_millis": 0,
    "deepnote_app_coordinates": {
     "x": 0,
     "y": 526,
     "w": 11,
     "h": 10
    },
    "deepnote_app_is_code_hidden": true,
    "deepnote_cell_type": "code",
    "deepnote_cell_height": 291,
    "deepnote_output_heights": [
     194
    ]
   },
   "source": "df_1.iloc[movienum - 1]",
   "outputs": [
    {
     "output_type": "execute_result",
     "execution_count": 65,
     "data": {
      "text/plain": "ReleaseYear                                                      2014\nTitle                                                  Dracula Untold\nOrigin/Ethnicity                                             American\nDirector                                                   Gary Shore\nCast                Luke Evans\\nSarah Gadon\\nDominic Cooper\\nZach ...\nGenre                                                         fantasy\nWikiPage                 https://en.wikipedia.org/wiki/Dracula_Untold\nPlot                Before the Renaissance, Vlad Țepeș is the Prin...\nlen(plot)                                                        4597\nName: 14, dtype: object"
     },
     "metadata": {}
    }
   ],
   "execution_count": null
  },
  {
   "cell_type": "code",
   "metadata": {
    "tags": [],
    "cell_id": "00101-2c27cb53-8441-4072-85a1-9a03094bceb1",
    "deepnote_to_be_reexecuted": false,
    "source_hash": "eac61f43",
    "execution_start": 1647082568662,
    "execution_millis": 140,
    "output_cleared": false,
    "deepnote_app_coordinates": {
     "x": 0,
     "y": 536,
     "w": 11,
     "h": 9
    },
    "deepnote_app_is_code_hidden": true,
    "deepnote_cell_type": "code",
    "deepnote_cell_height": 1020,
    "deepnote_output_heights": [
     14,
     14,
     14,
     14,
     14,
     14,
     14,
     14,
     14,
     14,
     14,
     14,
     14,
     14,
     14,
     14,
     14,
     14
    ]
   },
   "source": "ent_types = set()\nif focus == 'Universe':\n    ent_types = ('ORG', 'PRODUCT', 'GPE', 'FAC', 'LOC', 'EVENT', 'LANGUAGE' , 'NORP')\nif focus == 'Characters':\n    ent_types = ('PERSON')\nif focus == 'Time':\n    ent_types = ('TIME', 'DATE')\n\ndisplay_only_entities(movie.instances[movienum - 1], ent_types)",
   "outputs": [
    {
     "data": {
      "text/plain": "<IPython.core.display.HTML object>",
      "text/html": "<span class=\"tex2jax_ignore\"><div class=\"entities\" style=\"line-height: 2.5; direction: ltr\">\n<mark class=\"entity\" style=\"background: #7aecec; padding: 0.45em 0.6em; margin: 0 0.25em; line-height: 1; border-radius: 0.35em;\">\n    Renaissance\n    <span style=\"font-size: 0.8em; font-weight: bold; line-height: 1; border-radius: 0.35em; vertical-align: middle; margin-left: 0.5rem\">ORG</span>\n</mark>\n</div></span>"
     },
     "metadata": {},
     "output_type": "display_data"
    },
    {
     "data": {
      "text/plain": "<IPython.core.display.HTML object>",
      "text/html": "<span class=\"tex2jax_ignore\"><div class=\"entities\" style=\"line-height: 2.5; direction: ltr\">\n<mark class=\"entity\" style=\"background: #7aecec; padding: 0.45em 0.6em; margin: 0 0.25em; line-height: 1; border-radius: 0.35em;\">\n    the Prince of Wallachia\n    <span style=\"font-size: 0.8em; font-weight: bold; line-height: 1; border-radius: 0.35em; vertical-align: middle; margin-left: 0.5rem\">ORG</span>\n</mark>\n </div></span>"
     },
     "metadata": {},
     "output_type": "display_data"
    },
    {
     "data": {
      "text/plain": "<IPython.core.display.HTML object>",
      "text/html": "<span class=\"tex2jax_ignore\"><div class=\"entities\" style=\"line-height: 2.5; direction: ltr\">\n<mark class=\"entity\" style=\"background: #feca74; padding: 0.45em 0.6em; margin: 0 0.25em; line-height: 1; border-radius: 0.35em;\">\n    Transylvania\n    <span style=\"font-size: 0.8em; font-weight: bold; line-height: 1; border-radius: 0.35em; vertical-align: middle; margin-left: 0.5rem\">GPE</span>\n</mark>\n</div></span>"
     },
     "metadata": {},
     "output_type": "display_data"
    },
    {
     "data": {
      "text/plain": "<IPython.core.display.HTML object>",
      "text/html": "<span class=\"tex2jax_ignore\"><div class=\"entities\" style=\"line-height: 2.5; direction: ltr\">\n<mark class=\"entity\" style=\"background: #ff9561; padding: 0.45em 0.6em; margin: 0 0.25em; line-height: 1; border-radius: 0.35em;\">\n    Sultan\n    <span style=\"font-size: 0.8em; font-weight: bold; line-height: 1; border-radius: 0.35em; vertical-align: middle; margin-left: 0.5rem\">LOC</span>\n</mark>\n </div></span>"
     },
     "metadata": {},
     "output_type": "display_data"
    },
    {
     "data": {
      "text/plain": "<IPython.core.display.HTML object>",
      "text/html": "<span class=\"tex2jax_ignore\"><div class=\"entities\" style=\"line-height: 2.5; direction: ltr\">\n<mark class=\"entity\" style=\"background: #feca74; padding: 0.45em 0.6em; margin: 0 0.25em; line-height: 1; border-radius: 0.35em;\">\n    the Ottoman Empire\n    <span style=\"font-size: 0.8em; font-weight: bold; line-height: 1; border-radius: 0.35em; vertical-align: middle; margin-left: 0.5rem\">GPE</span>\n</mark>\n </div></span>"
     },
     "metadata": {},
     "output_type": "display_data"
    },
    {
     "data": {
      "text/plain": "<IPython.core.display.HTML object>",
      "text/html": "<span class=\"tex2jax_ignore\"><div class=\"entities\" style=\"line-height: 2.5; direction: ltr\">\n<mark class=\"entity\" style=\"background: #c887fb; padding: 0.45em 0.6em; margin: 0 0.25em; line-height: 1; border-radius: 0.35em;\">\n    Ottoman\n    <span style=\"font-size: 0.8em; font-weight: bold; line-height: 1; border-radius: 0.35em; vertical-align: middle; margin-left: 0.5rem\">NORP</span>\n</mark>\n </div></span>"
     },
     "metadata": {},
     "output_type": "display_data"
    },
    {
     "data": {
      "text/plain": "<IPython.core.display.HTML object>",
      "text/html": "<span class=\"tex2jax_ignore\"><div class=\"entities\" style=\"line-height: 2.5; direction: ltr\">\n<mark class=\"entity\" style=\"background: #7aecec; padding: 0.45em 0.6em; margin: 0 0.25em; line-height: 1; border-radius: 0.35em;\">\n    Easter\n    <span style=\"font-size: 0.8em; font-weight: bold; line-height: 1; border-radius: 0.35em; vertical-align: middle; margin-left: 0.5rem\">ORG</span>\n</mark>\n </div></span>"
     },
     "metadata": {},
     "output_type": "display_data"
    },
    {
     "data": {
      "text/plain": "<IPython.core.display.HTML object>",
      "text/html": "<span class=\"tex2jax_ignore\"><div class=\"entities\" style=\"line-height: 2.5; direction: ltr\">\n<mark class=\"entity\" style=\"background: #7aecec; padding: 0.45em 0.6em; margin: 0 0.25em; line-height: 1; border-radius: 0.35em;\">\n    Îngeraș\n    <span style=\"font-size: 0.8em; font-weight: bold; line-height: 1; border-radius: 0.35em; vertical-align: middle; margin-left: 0.5rem\">ORG</span>\n</mark>\n</div></span>"
     },
     "metadata": {},
     "output_type": "display_data"
    },
    {
     "data": {
      "text/plain": "<IPython.core.display.HTML object>",
      "text/html": "<span class=\"tex2jax_ignore\"><div class=\"entities\" style=\"line-height: 2.5; direction: ltr\">\n<mark class=\"entity\" style=\"background: #feca74; padding: 0.45em 0.6em; margin: 0 0.25em; line-height: 1; border-radius: 0.35em;\">\n    Janissaries\n    <span style=\"font-size: 0.8em; font-weight: bold; line-height: 1; border-radius: 0.35em; vertical-align: middle; margin-left: 0.5rem\">GPE</span>\n</mark>\n</div></span>"
     },
     "metadata": {},
     "output_type": "display_data"
    },
    {
     "data": {
      "text/plain": "<IPython.core.display.HTML object>",
      "text/html": "<span class=\"tex2jax_ignore\"><div class=\"entities\" style=\"line-height: 2.5; direction: ltr\">\n<mark class=\"entity\" style=\"background: #7aecec; padding: 0.45em 0.6em; margin: 0 0.25em; line-height: 1; border-radius: 0.35em;\">\n    Castle Dracula\n    <span style=\"font-size: 0.8em; font-weight: bold; line-height: 1; border-radius: 0.35em; vertical-align: middle; margin-left: 0.5rem\">ORG</span>\n</mark>\n</div></span>"
     },
     "metadata": {},
     "output_type": "display_data"
    },
    {
     "data": {
      "text/plain": "<IPython.core.display.HTML object>",
      "text/html": "<span class=\"tex2jax_ignore\"><div class=\"entities\" style=\"line-height: 2.5; direction: ltr\">\n<mark class=\"entity\" style=\"background: #7aecec; padding: 0.45em 0.6em; margin: 0 0.25em; line-height: 1; border-radius: 0.35em;\">\n    Cozia Monastery\n    <span style=\"font-size: 0.8em; font-weight: bold; line-height: 1; border-radius: 0.35em; vertical-align: middle; margin-left: 0.5rem\">ORG</span>\n</mark>\n </div></span>"
     },
     "metadata": {},
     "output_type": "display_data"
    },
    {
     "data": {
      "text/plain": "<IPython.core.display.HTML object>",
      "text/html": "<span class=\"tex2jax_ignore\"><div class=\"entities\" style=\"line-height: 2.5; direction: ltr\">\n<mark class=\"entity\" style=\"background: #7aecec; padding: 0.45em 0.6em; margin: 0 0.25em; line-height: 1; border-radius: 0.35em;\">\n    Vlad\n    <span style=\"font-size: 0.8em; font-weight: bold; line-height: 1; border-radius: 0.35em; vertical-align: middle; margin-left: 0.5rem\">ORG</span>\n</mark>\n</div></span>"
     },
     "metadata": {},
     "output_type": "display_data"
    },
    {
     "data": {
      "text/plain": "<IPython.core.display.HTML object>",
      "text/html": "<span class=\"tex2jax_ignore\"><div class=\"entities\" style=\"line-height: 2.5; direction: ltr\">\n<mark class=\"entity\" style=\"background: #c887fb; padding: 0.45em 0.6em; margin: 0 0.25em; line-height: 1; border-radius: 0.35em;\">\n    Turks\n    <span style=\"font-size: 0.8em; font-weight: bold; line-height: 1; border-radius: 0.35em; vertical-align: middle; margin-left: 0.5rem\">NORP</span>\n</mark>\n </div></span>"
     },
     "metadata": {},
     "output_type": "display_data"
    },
    {
     "data": {
      "text/plain": "<IPython.core.display.HTML object>",
      "text/html": "<span class=\"tex2jax_ignore\"><div class=\"entities\" style=\"line-height: 2.5; direction: ltr\">\n<mark class=\"entity\" style=\"background: #feca74; padding: 0.45em 0.6em; margin: 0 0.25em; line-height: 1; border-radius: 0.35em;\">\n    Ingeras\n    <span style=\"font-size: 0.8em; font-weight: bold; line-height: 1; border-radius: 0.35em; vertical-align: middle; margin-left: 0.5rem\">GPE</span>\n</mark>\n</div></span>"
     },
     "metadata": {},
     "output_type": "display_data"
    },
    {
     "data": {
      "text/plain": "<IPython.core.display.HTML object>",
      "text/html": "<span class=\"tex2jax_ignore\"><div class=\"entities\" style=\"line-height: 2.5; direction: ltr\">\n<mark class=\"entity\" style=\"background: #feca74; padding: 0.45em 0.6em; margin: 0 0.25em; line-height: 1; border-radius: 0.35em;\">\n    Mirena\n    <span style=\"font-size: 0.8em; font-weight: bold; line-height: 1; border-radius: 0.35em; vertical-align: middle; margin-left: 0.5rem\">GPE</span>\n</mark>\n </div></span>"
     },
     "metadata": {},
     "output_type": "display_data"
    },
    {
     "data": {
      "text/plain": "<IPython.core.display.HTML object>",
      "text/html": "<span class=\"tex2jax_ignore\"><div class=\"entities\" style=\"line-height: 2.5; direction: ltr\">\n<mark class=\"entity\" style=\"background: #7aecec; padding: 0.45em 0.6em; margin: 0 0.25em; line-height: 1; border-radius: 0.35em;\">\n    Mehmed\n    <span style=\"font-size: 0.8em; font-weight: bold; line-height: 1; border-radius: 0.35em; vertical-align: middle; margin-left: 0.5rem\">ORG</span>\n</mark>\n </div></span>"
     },
     "metadata": {},
     "output_type": "display_data"
    },
    {
     "data": {
      "text/plain": "<IPython.core.display.HTML object>",
      "text/html": "<span class=\"tex2jax_ignore\"><div class=\"entities\" style=\"line-height: 2.5; direction: ltr\">\n<mark class=\"entity\" style=\"background: #ff9561; padding: 0.45em 0.6em; margin: 0 0.25em; line-height: 1; border-radius: 0.35em;\">\n    Europe\n    <span style=\"font-size: 0.8em; font-weight: bold; line-height: 1; border-radius: 0.35em; vertical-align: middle; margin-left: 0.5rem\">LOC</span>\n</mark>\n</div></span>"
     },
     "metadata": {},
     "output_type": "display_data"
    },
    {
     "data": {
      "text/plain": "<IPython.core.display.HTML object>",
      "text/html": "<span class=\"tex2jax_ignore\"><div class=\"entities\" style=\"line-height: 2.5; direction: ltr\">\n<mark class=\"entity\" style=\"background: #feca74; padding: 0.45em 0.6em; margin: 0 0.25em; line-height: 1; border-radius: 0.35em;\">\n    London\n    <span style=\"font-size: 0.8em; font-weight: bold; line-height: 1; border-radius: 0.35em; vertical-align: middle; margin-left: 0.5rem\">GPE</span>\n</mark>\n</div></span>"
     },
     "metadata": {},
     "output_type": "display_data"
    }
   ],
   "execution_count": null
  },
  {
   "cell_type": "markdown",
   "source": "   * If you get an error message, got to `view source` and run the code there ",
   "metadata": {
    "tags": [],
    "cell_id": "00126-b7ecf6be-15dc-4538-915b-2f60df291397",
    "deepnote_app_coordinates": {
     "x": 0,
     "y": 545,
     "w": 11,
     "h": 2
    },
    "deepnote_cell_type": "markdown",
    "deepnote_cell_height": 114.1875
   }
  },
  {
   "cell_type": "markdown",
   "source": "### Conclusion\nNow you have some insights in each movie. Your turn to make a choice.\n\nWhat does pick your interest? The cast of new characters? The similarity to the original novel? A hectic or fun ride in sentiments? The universe where the story takes place? A victorian or modern setting?",
   "metadata": {
    "tags": [],
    "cell_id": "00128-9a3b9f01-314b-4378-83e1-e6c6969d0407",
    "deepnote_app_coordinates": {
     "x": 0,
     "y": 548,
     "w": 6,
     "h": 10
    },
    "deepnote_cell_type": "markdown",
    "deepnote_cell_height": 316
   }
  },
  {
   "cell_type": "markdown",
   "source": "### To explore further\n- How different are the movies from another?\n- Can we identify specific topics?\n- What do reviewers think of the movies?",
   "metadata": {
    "tags": [],
    "cell_id": "00129-079187a6-079e-402d-b907-916020cc7768",
    "deepnote_app_coordinates": {
     "x": 6,
     "y": 551,
     "w": 8,
     "h": 6
    },
    "deepnote_cell_type": "markdown",
    "deepnote_cell_height": 210
   }
  },
  {
   "cell_type": "markdown",
   "source": "#### More details on the NLP techniques:\n\nSpacyTextBlob, https://spacytextblob.netlify.app/\n\nNamed Entities, https://spacy.io/usage/linguistic-features#named-entities\n\nOn plots and sentiments:\nhttps://melaniewalsh.github.io/Intro-Cultural-Analytics/05-Text-Analysis/04-Sentiment-Analysis.html#calculate-sentiment-scores-for-little-red-riding-hood\n\nhttps://www.theparisreview.org/blog/2015/02/04/man-in-hole/\n\nhttps://observablehq.com/@bmschmidt/book-visualizations-sandbox\n\nOn reviews:\n\nhttps://post45.org/2021/04/the-goodreads-classics-a-computational-study-of-readers-amazon-and-crowdsourced-amateur-criticism/\n",
   "metadata": {
    "tags": [],
    "cell_id": "00129-61ce048c-3488-4d96-ab2a-6d4d3c720a96",
    "deepnote_app_coordinates": {
     "x": 0,
     "y": 559,
     "w": 12,
     "h": 15
    },
    "deepnote_cell_type": "markdown",
    "deepnote_cell_height": 644.390625
   }
  },
  {
   "cell_type": "markdown",
   "source": "### Small extra's for you",
   "metadata": {
    "tags": [],
    "cell_id": "00130-11454688-1832-448d-a73d-3ae858463c00",
    "deepnote_app_coordinates": {
     "x": 0,
     "y": 575,
     "w": 5,
     "h": 3
    },
    "deepnote_cell_type": "markdown",
    "deepnote_cell_height": 62
   }
  },
  {
   "cell_type": "code",
   "metadata": {
    "tags": [],
    "cell_id": "00129-824e7da4-6fd3-44f4-ad3d-864c18d74638",
    "deepnote_to_be_reexecuted": false,
    "source_hash": "d40a2b0",
    "execution_start": 1647082568755,
    "execution_millis": 47,
    "deepnote_app_coordinates": {
     "x": 0,
     "y": 582,
     "w": 5,
     "h": 14
    },
    "deepnote_cell_type": "code",
    "deepnote_cell_height": 299.1875
   },
   "source": "family = []\nfor film in movie.instances:\n    family = family + [ent.text for ent in film.nlp.ents \n    if ent.label_ == 'PERSON' and 'helsing' in ent.text.lower()\n    and len(ent.text.split(' ')) >= 3]\n\nprint(*set(family), sep='\\n')",
   "outputs": [
    {
     "name": "stdout",
     "text": "Lorrimer Van Helsing\nJessica Van Helsing\nAbraham Van Helsing\nMatthew Van Helsing\nLeonardo Van Helsing\n",
     "output_type": "stream"
    }
   ],
   "execution_count": null
  },
  {
   "cell_type": "markdown",
   "source": "The Helsing family is present in a lot of Dracula movies!",
   "metadata": {
    "tags": [],
    "cell_id": "00132-5d3f7e32-798b-4266-9cca-de75ff0c9e3e",
    "deepnote_app_coordinates": {
     "x": 0,
     "y": 578,
     "w": 5,
     "h": 4
    },
    "deepnote_cell_type": "markdown",
    "deepnote_cell_height": 74.796875
   }
  },
  {
   "cell_type": "markdown",
   "source": "I uploaded in the files of this notebook a CSV with Dracula movie reviews that you can analyse with the NLP techniques we saw today.\n\n(source dataset: Stefano Leone, www.kaggle.com/stefanoleone992/rotten-tomatoes-movies-and-critic-reviews-dataset, 2020)",
   "metadata": {
    "tags": [],
    "cell_id": "00133-08a70f66-6749-45ba-a347-69d7e03f99f7",
    "deepnote_app_coordinates": {
     "x": 6,
     "y": 575,
     "w": 6,
     "h": 9
    },
    "deepnote_cell_type": "markdown",
    "deepnote_cell_height": 223.1875
   }
  },
  {
   "cell_type": "markdown",
   "source": "``` SQL\nSELECT rotten_tomatoes_link, review_content\nFROM rotten_tomatoes_critic_reviews\nWHERE rotten_tomatoes_link IN (\n\tSELECT rotten_tomatoes_link\n        FROM rotten_tomatoes_movies\n\tWHERE movie_title LIKE '%Dracula%'\n\tOR movie_title LIKE '%Nosferatu%')\n```",
   "metadata": {
    "tags": [],
    "cell_id": "00134-1a3af97a-8291-4bb0-a22b-c2f5d7a28732",
    "deepnote_app_coordinates": {
     "x": 6,
     "y": 584,
     "w": 8,
     "h": 8
    },
    "deepnote_cell_type": "markdown",
    "deepnote_cell_height": 377.03125
   }
  },
  {
   "cell_type": "markdown",
   "source": "<a style='text-decoration:none;line-height:16px;display:flex;color:#5B5B62;padding:10px;justify-content:end;' href='https://deepnote.com?utm_source=created-in-deepnote-cell&projectId=21aefc33-bbed-4601-b541-717690ca50e5' target=\"_blank\">\n<img alt='Created in deepnote.com' style='display:inline;max-height:16px;margin:0px;margin-right:7.5px;' src='data:image/svg+xml;base64,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' > </img>\nCreated in <span style='font-weight:600;margin-left:4px;'>Deepnote</span></a>",
   "metadata": {
    "tags": [],
    "created_in_deepnote_cell": true,
    "deepnote_cell_type": "markdown"
   }
  }
 ],
 "nbformat": 4,
 "nbformat_minor": 2,
 "metadata": {
  "orig_nbformat": 2,
  "deepnote": {
   "is_reactive": false
  },
  "deepnote_notebook_id": "241d3ff4-d15f-4a36-8773-2a00ca8dd8e8",
  "deepnote_execution_queue": [],
  "deepnote_app_layout": "dashboard"
 }
}